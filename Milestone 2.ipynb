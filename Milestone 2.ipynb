{
 "cells": [
  {
   "cell_type": "code",
   "execution_count": 1,
   "id": "716b3ef3",
   "metadata": {},
   "outputs": [],
   "source": [
    "import pandas as pd\n",
    "import json\n",
    "import numpy as np \n",
    "from matplotlib import pyplot as plt"
   ]
  },
  {
   "cell_type": "code",
   "execution_count": 2,
   "id": "aabef94a",
   "metadata": {},
   "outputs": [
    {
     "data": {
      "text/html": [
       "<div>\n",
       "<style scoped>\n",
       "    .dataframe tbody tr th:only-of-type {\n",
       "        vertical-align: middle;\n",
       "    }\n",
       "\n",
       "    .dataframe tbody tr th {\n",
       "        vertical-align: top;\n",
       "    }\n",
       "\n",
       "    .dataframe thead th {\n",
       "        text-align: right;\n",
       "    }\n",
       "</style>\n",
       "<table border=\"1\" class=\"dataframe\">\n",
       "  <thead>\n",
       "    <tr style=\"text-align: right;\">\n",
       "      <th></th>\n",
       "      <th>Post ID</th>\n",
       "      <th>Account ID</th>\n",
       "      <th>Account username</th>\n",
       "      <th>Account name</th>\n",
       "      <th>Description</th>\n",
       "      <th>Duration (sec)</th>\n",
       "      <th>Publish time</th>\n",
       "      <th>Permalink</th>\n",
       "      <th>Post type</th>\n",
       "      <th>Data comment</th>\n",
       "      <th>Date</th>\n",
       "      <th>Shares</th>\n",
       "      <th>Plays</th>\n",
       "      <th>Likes</th>\n",
       "      <th>Comments</th>\n",
       "      <th>Saves</th>\n",
       "      <th>Impressions</th>\n",
       "      <th>Reach</th>\n",
       "      <th>Follows</th>\n",
       "    </tr>\n",
       "  </thead>\n",
       "  <tbody>\n",
       "    <tr>\n",
       "      <th>0</th>\n",
       "      <td>18015826580302466</td>\n",
       "      <td>17841401254734939</td>\n",
       "      <td>ksualumni</td>\n",
       "      <td>Kent State Alumni</td>\n",
       "      <td>Starting the new year in Golden Flash style 🕶⚡</td>\n",
       "      <td>0</td>\n",
       "      <td>1/1/24 7:01</td>\n",
       "      <td>https://www.instagram.com/p/C1j9k_eL4jY/</td>\n",
       "      <td>IG image</td>\n",
       "      <td>NaN</td>\n",
       "      <td>Lifetime</td>\n",
       "      <td>3</td>\n",
       "      <td>NaN</td>\n",
       "      <td>88</td>\n",
       "      <td>0</td>\n",
       "      <td>0</td>\n",
       "      <td>917.0</td>\n",
       "      <td>876.0</td>\n",
       "      <td>NaN</td>\n",
       "    </tr>\n",
       "    <tr>\n",
       "      <th>1</th>\n",
       "      <td>18011657270337962</td>\n",
       "      <td>17841401254734939</td>\n",
       "      <td>ksualumni</td>\n",
       "      <td>Kent State Alumni</td>\n",
       "      <td>The first female president of any public colle...</td>\n",
       "      <td>44</td>\n",
       "      <td>3/30/24 18:03</td>\n",
       "      <td>https://www.instagram.com/reel/C5KP5sio2sM/</td>\n",
       "      <td>IG reel</td>\n",
       "      <td>NaN</td>\n",
       "      <td>Lifetime</td>\n",
       "      <td>13</td>\n",
       "      <td>4499.0</td>\n",
       "      <td>308</td>\n",
       "      <td>15</td>\n",
       "      <td>6</td>\n",
       "      <td>3194.0</td>\n",
       "      <td>3164.0</td>\n",
       "      <td>NaN</td>\n",
       "    </tr>\n",
       "    <tr>\n",
       "      <th>2</th>\n",
       "      <td>17951887403684742</td>\n",
       "      <td>17841401254734939</td>\n",
       "      <td>ksualumni</td>\n",
       "      <td>Kent State Alumni</td>\n",
       "      <td>Aleisha Moore, Ph.D., is exploring how the bra...</td>\n",
       "      <td>149</td>\n",
       "      <td>3/29/24 17:03</td>\n",
       "      <td>https://www.instagram.com/reel/C5HhnIiPP8F/</td>\n",
       "      <td>IG reel</td>\n",
       "      <td>NaN</td>\n",
       "      <td>Lifetime</td>\n",
       "      <td>2</td>\n",
       "      <td>1205.0</td>\n",
       "      <td>23</td>\n",
       "      <td>1</td>\n",
       "      <td>3</td>\n",
       "      <td>805.0</td>\n",
       "      <td>747.0</td>\n",
       "      <td>NaN</td>\n",
       "    </tr>\n",
       "    <tr>\n",
       "      <th>3</th>\n",
       "      <td>18101586349389217</td>\n",
       "      <td>17841401254734939</td>\n",
       "      <td>ksualumni</td>\n",
       "      <td>Kent State Alumni</td>\n",
       "      <td>Don’t miss your chance to watch a documentary ...</td>\n",
       "      <td>0</td>\n",
       "      <td>3/28/24 16:03</td>\n",
       "      <td>https://www.instagram.com/p/C5E1l4Yr2V8/</td>\n",
       "      <td>IG image</td>\n",
       "      <td>NaN</td>\n",
       "      <td>Lifetime</td>\n",
       "      <td>8</td>\n",
       "      <td>NaN</td>\n",
       "      <td>62</td>\n",
       "      <td>1</td>\n",
       "      <td>2</td>\n",
       "      <td>1098.0</td>\n",
       "      <td>1078.0</td>\n",
       "      <td>NaN</td>\n",
       "    </tr>\n",
       "    <tr>\n",
       "      <th>4</th>\n",
       "      <td>17980355768669149</td>\n",
       "      <td>17841401254734939</td>\n",
       "      <td>ksualumni</td>\n",
       "      <td>Kent State Alumni</td>\n",
       "      <td>Monica Burgett, Ph.D. ’16, was named Dr. World...</td>\n",
       "      <td>0</td>\n",
       "      <td>3/26/24 16:03</td>\n",
       "      <td>https://www.instagram.com/p/C4_sCcmKkvx/</td>\n",
       "      <td>IG image</td>\n",
       "      <td>NaN</td>\n",
       "      <td>Lifetime</td>\n",
       "      <td>1</td>\n",
       "      <td>NaN</td>\n",
       "      <td>61</td>\n",
       "      <td>1</td>\n",
       "      <td>0</td>\n",
       "      <td>1713.0</td>\n",
       "      <td>1698.0</td>\n",
       "      <td>NaN</td>\n",
       "    </tr>\n",
       "  </tbody>\n",
       "</table>\n",
       "</div>"
      ],
      "text/plain": [
       "             Post ID         Account ID Account username       Account name  \\\n",
       "0  18015826580302466  17841401254734939        ksualumni  Kent State Alumni   \n",
       "1  18011657270337962  17841401254734939        ksualumni  Kent State Alumni   \n",
       "2  17951887403684742  17841401254734939        ksualumni  Kent State Alumni   \n",
       "3  18101586349389217  17841401254734939        ksualumni  Kent State Alumni   \n",
       "4  17980355768669149  17841401254734939        ksualumni  Kent State Alumni   \n",
       "\n",
       "                                         Description  Duration (sec)  \\\n",
       "0     Starting the new year in Golden Flash style 🕶⚡               0   \n",
       "1  The first female president of any public colle...              44   \n",
       "2  Aleisha Moore, Ph.D., is exploring how the bra...             149   \n",
       "3  Don’t miss your chance to watch a documentary ...               0   \n",
       "4  Monica Burgett, Ph.D. ’16, was named Dr. World...               0   \n",
       "\n",
       "    Publish time                                    Permalink Post type  \\\n",
       "0    1/1/24 7:01     https://www.instagram.com/p/C1j9k_eL4jY/  IG image   \n",
       "1  3/30/24 18:03  https://www.instagram.com/reel/C5KP5sio2sM/   IG reel   \n",
       "2  3/29/24 17:03  https://www.instagram.com/reel/C5HhnIiPP8F/   IG reel   \n",
       "3  3/28/24 16:03     https://www.instagram.com/p/C5E1l4Yr2V8/  IG image   \n",
       "4  3/26/24 16:03     https://www.instagram.com/p/C4_sCcmKkvx/  IG image   \n",
       "\n",
       "   Data comment      Date  Shares   Plays  Likes  Comments  Saves  \\\n",
       "0           NaN  Lifetime       3     NaN     88         0      0   \n",
       "1           NaN  Lifetime      13  4499.0    308        15      6   \n",
       "2           NaN  Lifetime       2  1205.0     23         1      3   \n",
       "3           NaN  Lifetime       8     NaN     62         1      2   \n",
       "4           NaN  Lifetime       1     NaN     61         1      0   \n",
       "\n",
       "   Impressions   Reach  Follows  \n",
       "0        917.0   876.0      NaN  \n",
       "1       3194.0  3164.0      NaN  \n",
       "2        805.0   747.0      NaN  \n",
       "3       1098.0  1078.0      NaN  \n",
       "4       1713.0  1698.0      NaN  "
      ]
     },
     "execution_count": 2,
     "metadata": {},
     "output_type": "execute_result"
    }
   ],
   "source": [
    "instagram = pd.read_csv('instagramdata.csv')\n",
    "instagram.head()"
   ]
  },
  {
   "cell_type": "code",
   "execution_count": 3,
   "id": "76aedf53",
   "metadata": {},
   "outputs": [
    {
     "data": {
      "text/html": [
       "<div>\n",
       "<style scoped>\n",
       "    .dataframe tbody tr th:only-of-type {\n",
       "        vertical-align: middle;\n",
       "    }\n",
       "\n",
       "    .dataframe tbody tr th {\n",
       "        vertical-align: top;\n",
       "    }\n",
       "\n",
       "    .dataframe thead th {\n",
       "        text-align: right;\n",
       "    }\n",
       "</style>\n",
       "<table border=\"1\" class=\"dataframe\">\n",
       "  <thead>\n",
       "    <tr style=\"text-align: right;\">\n",
       "      <th></th>\n",
       "      <th>Description</th>\n",
       "      <th>Duration (sec)</th>\n",
       "      <th>Post type</th>\n",
       "      <th>Shares</th>\n",
       "      <th>Plays</th>\n",
       "      <th>Likes</th>\n",
       "      <th>Comments</th>\n",
       "      <th>Saves</th>\n",
       "      <th>Impressions</th>\n",
       "      <th>Reach</th>\n",
       "    </tr>\n",
       "  </thead>\n",
       "  <tbody>\n",
       "    <tr>\n",
       "      <th>0</th>\n",
       "      <td>Starting the new year in Golden Flash style 🕶⚡</td>\n",
       "      <td>0</td>\n",
       "      <td>IG image</td>\n",
       "      <td>3</td>\n",
       "      <td>NaN</td>\n",
       "      <td>88</td>\n",
       "      <td>0</td>\n",
       "      <td>0</td>\n",
       "      <td>917.0</td>\n",
       "      <td>876.0</td>\n",
       "    </tr>\n",
       "    <tr>\n",
       "      <th>1</th>\n",
       "      <td>The first female president of any public colle...</td>\n",
       "      <td>44</td>\n",
       "      <td>IG reel</td>\n",
       "      <td>13</td>\n",
       "      <td>4499.0</td>\n",
       "      <td>308</td>\n",
       "      <td>15</td>\n",
       "      <td>6</td>\n",
       "      <td>3194.0</td>\n",
       "      <td>3164.0</td>\n",
       "    </tr>\n",
       "    <tr>\n",
       "      <th>2</th>\n",
       "      <td>Aleisha Moore, Ph.D., is exploring how the bra...</td>\n",
       "      <td>149</td>\n",
       "      <td>IG reel</td>\n",
       "      <td>2</td>\n",
       "      <td>1205.0</td>\n",
       "      <td>23</td>\n",
       "      <td>1</td>\n",
       "      <td>3</td>\n",
       "      <td>805.0</td>\n",
       "      <td>747.0</td>\n",
       "    </tr>\n",
       "    <tr>\n",
       "      <th>3</th>\n",
       "      <td>Don’t miss your chance to watch a documentary ...</td>\n",
       "      <td>0</td>\n",
       "      <td>IG image</td>\n",
       "      <td>8</td>\n",
       "      <td>NaN</td>\n",
       "      <td>62</td>\n",
       "      <td>1</td>\n",
       "      <td>2</td>\n",
       "      <td>1098.0</td>\n",
       "      <td>1078.0</td>\n",
       "    </tr>\n",
       "    <tr>\n",
       "      <th>4</th>\n",
       "      <td>Monica Burgett, Ph.D. ’16, was named Dr. World...</td>\n",
       "      <td>0</td>\n",
       "      <td>IG image</td>\n",
       "      <td>1</td>\n",
       "      <td>NaN</td>\n",
       "      <td>61</td>\n",
       "      <td>1</td>\n",
       "      <td>0</td>\n",
       "      <td>1713.0</td>\n",
       "      <td>1698.0</td>\n",
       "    </tr>\n",
       "    <tr>\n",
       "      <th>5</th>\n",
       "      <td>In 2023, Randi McKenzie, ’72, was presented wi...</td>\n",
       "      <td>0</td>\n",
       "      <td>IG image</td>\n",
       "      <td>0</td>\n",
       "      <td>NaN</td>\n",
       "      <td>41</td>\n",
       "      <td>0</td>\n",
       "      <td>0</td>\n",
       "      <td>944.0</td>\n",
       "      <td>904.0</td>\n",
       "    </tr>\n",
       "    <tr>\n",
       "      <th>6</th>\n",
       "      <td>Time for the Big Dance! For the first time sin...</td>\n",
       "      <td>0</td>\n",
       "      <td>IG image</td>\n",
       "      <td>2</td>\n",
       "      <td>NaN</td>\n",
       "      <td>70</td>\n",
       "      <td>0</td>\n",
       "      <td>0</td>\n",
       "      <td>1074.0</td>\n",
       "      <td>1064.0</td>\n",
       "    </tr>\n",
       "    <tr>\n",
       "      <th>7</th>\n",
       "      <td>Calling all true crime lovers! Thanks to Kent ...</td>\n",
       "      <td>0</td>\n",
       "      <td>IG image</td>\n",
       "      <td>8</td>\n",
       "      <td>NaN</td>\n",
       "      <td>62</td>\n",
       "      <td>0</td>\n",
       "      <td>2</td>\n",
       "      <td>1401.0</td>\n",
       "      <td>1341.0</td>\n",
       "    </tr>\n",
       "    <tr>\n",
       "      <th>8</th>\n",
       "      <td>We can't deny how beautiful the winter can be,...</td>\n",
       "      <td>40</td>\n",
       "      <td>IG reel</td>\n",
       "      <td>31</td>\n",
       "      <td>3279.0</td>\n",
       "      <td>231</td>\n",
       "      <td>1</td>\n",
       "      <td>2</td>\n",
       "      <td>2487.0</td>\n",
       "      <td>2405.0</td>\n",
       "    </tr>\n",
       "    <tr>\n",
       "      <th>9</th>\n",
       "      <td>Studying abroad is a transformative experience...</td>\n",
       "      <td>31</td>\n",
       "      <td>IG reel</td>\n",
       "      <td>3</td>\n",
       "      <td>1198.0</td>\n",
       "      <td>51</td>\n",
       "      <td>3</td>\n",
       "      <td>1</td>\n",
       "      <td>885.0</td>\n",
       "      <td>828.0</td>\n",
       "    </tr>\n",
       "    <tr>\n",
       "      <th>10</th>\n",
       "      <td>MAC TOURNAMENT CHAMPS! @kentstwbb defeated Buf...</td>\n",
       "      <td>0</td>\n",
       "      <td>IG image</td>\n",
       "      <td>28</td>\n",
       "      <td>NaN</td>\n",
       "      <td>350</td>\n",
       "      <td>10</td>\n",
       "      <td>0</td>\n",
       "      <td>2271.0</td>\n",
       "      <td>2219.0</td>\n",
       "    </tr>\n",
       "    <tr>\n",
       "      <th>11</th>\n",
       "      <td>Way to go, Flashes! @kentstmbb has made it to ...</td>\n",
       "      <td>0</td>\n",
       "      <td>IG image</td>\n",
       "      <td>2</td>\n",
       "      <td>NaN</td>\n",
       "      <td>67</td>\n",
       "      <td>0</td>\n",
       "      <td>0</td>\n",
       "      <td>893.0</td>\n",
       "      <td>850.0</td>\n",
       "    </tr>\n",
       "    <tr>\n",
       "      <th>12</th>\n",
       "      <td>Yvonne Bandy, ’74, was one of a few Black art ...</td>\n",
       "      <td>0</td>\n",
       "      <td>IG image</td>\n",
       "      <td>0</td>\n",
       "      <td>NaN</td>\n",
       "      <td>29</td>\n",
       "      <td>0</td>\n",
       "      <td>1</td>\n",
       "      <td>586.0</td>\n",
       "      <td>575.0</td>\n",
       "    </tr>\n",
       "    <tr>\n",
       "      <th>13</th>\n",
       "      <td>It’s another win for the blue and gold! @kents...</td>\n",
       "      <td>0</td>\n",
       "      <td>IG image</td>\n",
       "      <td>6</td>\n",
       "      <td>NaN</td>\n",
       "      <td>87</td>\n",
       "      <td>0</td>\n",
       "      <td>0</td>\n",
       "      <td>905.0</td>\n",
       "      <td>879.0</td>\n",
       "    </tr>\n",
       "    <tr>\n",
       "      <th>14</th>\n",
       "      <td>Flashes WIN! After defeating top-seeded Toledo...</td>\n",
       "      <td>0</td>\n",
       "      <td>IG image</td>\n",
       "      <td>0</td>\n",
       "      <td>NaN</td>\n",
       "      <td>76</td>\n",
       "      <td>0</td>\n",
       "      <td>0</td>\n",
       "      <td>978.0</td>\n",
       "      <td>948.0</td>\n",
       "    </tr>\n",
       "    <tr>\n",
       "      <th>15</th>\n",
       "      <td>Golden Flashes VICTORY ALERT! @kentstwbb is ad...</td>\n",
       "      <td>0</td>\n",
       "      <td>IG image</td>\n",
       "      <td>0</td>\n",
       "      <td>NaN</td>\n",
       "      <td>66</td>\n",
       "      <td>0</td>\n",
       "      <td>0</td>\n",
       "      <td>878.0</td>\n",
       "      <td>837.0</td>\n",
       "    </tr>\n",
       "    <tr>\n",
       "      <th>16</th>\n",
       "      <td>Did you know Kent State offers more than 200 a...</td>\n",
       "      <td>15</td>\n",
       "      <td>IG reel</td>\n",
       "      <td>0</td>\n",
       "      <td>679.0</td>\n",
       "      <td>21</td>\n",
       "      <td>0</td>\n",
       "      <td>0</td>\n",
       "      <td>469.0</td>\n",
       "      <td>445.0</td>\n",
       "    </tr>\n",
       "    <tr>\n",
       "      <th>17</th>\n",
       "      <td>@kentstmbb and @kentstwbb have made it to the ...</td>\n",
       "      <td>0</td>\n",
       "      <td>IG image</td>\n",
       "      <td>1</td>\n",
       "      <td>NaN</td>\n",
       "      <td>16</td>\n",
       "      <td>0</td>\n",
       "      <td>0</td>\n",
       "      <td>602.0</td>\n",
       "      <td>563.0</td>\n",
       "    </tr>\n",
       "    <tr>\n",
       "      <th>18</th>\n",
       "      <td>Flashes Give Back Week is April 15-20, and you...</td>\n",
       "      <td>12</td>\n",
       "      <td>IG reel</td>\n",
       "      <td>0</td>\n",
       "      <td>649.0</td>\n",
       "      <td>9</td>\n",
       "      <td>0</td>\n",
       "      <td>0</td>\n",
       "      <td>394.0</td>\n",
       "      <td>379.0</td>\n",
       "    </tr>\n",
       "    <tr>\n",
       "      <th>19</th>\n",
       "      <td>Happy International Women's Day! Bonnie Beachy...</td>\n",
       "      <td>0</td>\n",
       "      <td>IG image</td>\n",
       "      <td>2</td>\n",
       "      <td>NaN</td>\n",
       "      <td>41</td>\n",
       "      <td>0</td>\n",
       "      <td>1</td>\n",
       "      <td>895.0</td>\n",
       "      <td>889.0</td>\n",
       "    </tr>\n",
       "    <tr>\n",
       "      <th>20</th>\n",
       "      <td>✨CONTEST ✨ Ready to hop into spring with our e...</td>\n",
       "      <td>0</td>\n",
       "      <td>IG carousel</td>\n",
       "      <td>3</td>\n",
       "      <td>NaN</td>\n",
       "      <td>65</td>\n",
       "      <td>5</td>\n",
       "      <td>0</td>\n",
       "      <td>1274.0</td>\n",
       "      <td>1091.0</td>\n",
       "    </tr>\n",
       "    <tr>\n",
       "      <th>21</th>\n",
       "      <td>Save the date, Golden Flashes. Homecoming 2024...</td>\n",
       "      <td>31</td>\n",
       "      <td>IG reel</td>\n",
       "      <td>37</td>\n",
       "      <td>17578.0</td>\n",
       "      <td>632</td>\n",
       "      <td>2</td>\n",
       "      <td>8</td>\n",
       "      <td>NaN</td>\n",
       "      <td>NaN</td>\n",
       "    </tr>\n",
       "    <tr>\n",
       "      <th>22</th>\n",
       "      <td>CeeJay Scott, ’23, took filmmaking classes at ...</td>\n",
       "      <td>34</td>\n",
       "      <td>IG reel</td>\n",
       "      <td>5</td>\n",
       "      <td>2036.0</td>\n",
       "      <td>75</td>\n",
       "      <td>4</td>\n",
       "      <td>3</td>\n",
       "      <td>1524.0</td>\n",
       "      <td>1394.0</td>\n",
       "    </tr>\n",
       "    <tr>\n",
       "      <th>23</th>\n",
       "      <td>Elizabeth Bartz, ’80, M.A. ’82, is president a...</td>\n",
       "      <td>0</td>\n",
       "      <td>IG image</td>\n",
       "      <td>0</td>\n",
       "      <td>NaN</td>\n",
       "      <td>49</td>\n",
       "      <td>0</td>\n",
       "      <td>0</td>\n",
       "      <td>887.0</td>\n",
       "      <td>861.0</td>\n",
       "    </tr>\n",
       "    <tr>\n",
       "      <th>24</th>\n",
       "      <td>Kent State has a 50-year tradition of award wi...</td>\n",
       "      <td>15</td>\n",
       "      <td>IG reel</td>\n",
       "      <td>1</td>\n",
       "      <td>708.0</td>\n",
       "      <td>25</td>\n",
       "      <td>0</td>\n",
       "      <td>0</td>\n",
       "      <td>488.0</td>\n",
       "      <td>448.0</td>\n",
       "    </tr>\n",
       "    <tr>\n",
       "      <th>25</th>\n",
       "      <td>Today is National Study Abroad Day! We have mo...</td>\n",
       "      <td>19</td>\n",
       "      <td>IG reel</td>\n",
       "      <td>7</td>\n",
       "      <td>1236.0</td>\n",
       "      <td>42</td>\n",
       "      <td>1</td>\n",
       "      <td>0</td>\n",
       "      <td>871.0</td>\n",
       "      <td>819.0</td>\n",
       "    </tr>\n",
       "    <tr>\n",
       "      <th>26</th>\n",
       "      <td>From April 15-20, there are more than 50 in-pe...</td>\n",
       "      <td>30</td>\n",
       "      <td>IG reel</td>\n",
       "      <td>0</td>\n",
       "      <td>735.0</td>\n",
       "      <td>19</td>\n",
       "      <td>0</td>\n",
       "      <td>0</td>\n",
       "      <td>477.0</td>\n",
       "      <td>445.0</td>\n",
       "    </tr>\n",
       "    <tr>\n",
       "      <th>27</th>\n",
       "      <td>Michael Daniels, Ph.D. ’22, was recently honor...</td>\n",
       "      <td>0</td>\n",
       "      <td>IG image</td>\n",
       "      <td>2</td>\n",
       "      <td>NaN</td>\n",
       "      <td>89</td>\n",
       "      <td>3</td>\n",
       "      <td>0</td>\n",
       "      <td>1127.0</td>\n",
       "      <td>1066.0</td>\n",
       "    </tr>\n",
       "    <tr>\n",
       "      <th>28</th>\n",
       "      <td>Students who study abroad are better prepared ...</td>\n",
       "      <td>17</td>\n",
       "      <td>IG reel</td>\n",
       "      <td>1</td>\n",
       "      <td>1110.0</td>\n",
       "      <td>28</td>\n",
       "      <td>1</td>\n",
       "      <td>0</td>\n",
       "      <td>816.0</td>\n",
       "      <td>785.0</td>\n",
       "    </tr>\n",
       "    <tr>\n",
       "      <th>29</th>\n",
       "      <td>Our commitment to global education at Kent Sta...</td>\n",
       "      <td>12</td>\n",
       "      <td>IG reel</td>\n",
       "      <td>1</td>\n",
       "      <td>1413.0</td>\n",
       "      <td>41</td>\n",
       "      <td>1</td>\n",
       "      <td>1</td>\n",
       "      <td>931.0</td>\n",
       "      <td>898.0</td>\n",
       "    </tr>\n",
       "    <tr>\n",
       "      <th>30</th>\n",
       "      <td>Will Matthews, ’19, came to Kent State on a fo...</td>\n",
       "      <td>0</td>\n",
       "      <td>IG image</td>\n",
       "      <td>5</td>\n",
       "      <td>NaN</td>\n",
       "      <td>185</td>\n",
       "      <td>3</td>\n",
       "      <td>3</td>\n",
       "      <td>2038.0</td>\n",
       "      <td>1985.0</td>\n",
       "    </tr>\n",
       "    <tr>\n",
       "      <th>31</th>\n",
       "      <td>As undergraduates at Kent State, Andrew “Andy”...</td>\n",
       "      <td>0</td>\n",
       "      <td>IG image</td>\n",
       "      <td>24</td>\n",
       "      <td>NaN</td>\n",
       "      <td>201</td>\n",
       "      <td>2</td>\n",
       "      <td>4</td>\n",
       "      <td>3091.0</td>\n",
       "      <td>3058.0</td>\n",
       "    </tr>\n",
       "    <tr>\n",
       "      <th>32</th>\n",
       "      <td>Happy Valentine’s Day! Kent State connects peo...</td>\n",
       "      <td>17</td>\n",
       "      <td>IG reel</td>\n",
       "      <td>0</td>\n",
       "      <td>602.0</td>\n",
       "      <td>20</td>\n",
       "      <td>0</td>\n",
       "      <td>0</td>\n",
       "      <td>425.0</td>\n",
       "      <td>397.0</td>\n",
       "    </tr>\n",
       "    <tr>\n",
       "      <th>33</th>\n",
       "      <td>Alumni Award nominations are open now through ...</td>\n",
       "      <td>0</td>\n",
       "      <td>IG image</td>\n",
       "      <td>1</td>\n",
       "      <td>NaN</td>\n",
       "      <td>39</td>\n",
       "      <td>0</td>\n",
       "      <td>1</td>\n",
       "      <td>956.0</td>\n",
       "      <td>914.0</td>\n",
       "    </tr>\n",
       "    <tr>\n",
       "      <th>34</th>\n",
       "      <td>In today’s fast-paced and dynamic work environ...</td>\n",
       "      <td>10</td>\n",
       "      <td>IG reel</td>\n",
       "      <td>2</td>\n",
       "      <td>1060.0</td>\n",
       "      <td>26</td>\n",
       "      <td>0</td>\n",
       "      <td>1</td>\n",
       "      <td>711.0</td>\n",
       "      <td>654.0</td>\n",
       "    </tr>\n",
       "    <tr>\n",
       "      <th>35</th>\n",
       "      <td>From the moment Mariah Moorer, ’20, set foot o...</td>\n",
       "      <td>0</td>\n",
       "      <td>IG image</td>\n",
       "      <td>21</td>\n",
       "      <td>NaN</td>\n",
       "      <td>472</td>\n",
       "      <td>21</td>\n",
       "      <td>5</td>\n",
       "      <td>5298.0</td>\n",
       "      <td>4684.0</td>\n",
       "    </tr>\n",
       "    <tr>\n",
       "      <th>36</th>\n",
       "      <td>From classroom crush to happily ever after, Ro...</td>\n",
       "      <td>0</td>\n",
       "      <td>IG carousel</td>\n",
       "      <td>1</td>\n",
       "      <td>NaN</td>\n",
       "      <td>87</td>\n",
       "      <td>0</td>\n",
       "      <td>1</td>\n",
       "      <td>1787.0</td>\n",
       "      <td>1464.0</td>\n",
       "    </tr>\n",
       "    <tr>\n",
       "      <th>37</th>\n",
       "      <td>Love is in the air! Many of our alumni have fo...</td>\n",
       "      <td>0</td>\n",
       "      <td>IG image</td>\n",
       "      <td>35</td>\n",
       "      <td>NaN</td>\n",
       "      <td>284</td>\n",
       "      <td>7</td>\n",
       "      <td>5</td>\n",
       "      <td>3365.0</td>\n",
       "      <td>3340.0</td>\n",
       "    </tr>\n",
       "    <tr>\n",
       "      <th>38</th>\n",
       "      <td>Tiffany Roper, ’07, M.Ed. ’12, is a two-time a...</td>\n",
       "      <td>0</td>\n",
       "      <td>IG image</td>\n",
       "      <td>0</td>\n",
       "      <td>NaN</td>\n",
       "      <td>41</td>\n",
       "      <td>1</td>\n",
       "      <td>0</td>\n",
       "      <td>1006.0</td>\n",
       "      <td>956.0</td>\n",
       "    </tr>\n",
       "    <tr>\n",
       "      <th>39</th>\n",
       "      <td>When she walked across the stage at commenceme...</td>\n",
       "      <td>0</td>\n",
       "      <td>IG carousel</td>\n",
       "      <td>0</td>\n",
       "      <td>NaN</td>\n",
       "      <td>75</td>\n",
       "      <td>0</td>\n",
       "      <td>1</td>\n",
       "      <td>1158.0</td>\n",
       "      <td>967.0</td>\n",
       "    </tr>\n",
       "    <tr>\n",
       "      <th>40</th>\n",
       "      <td>#MartinLutherKingJr 💙💛</td>\n",
       "      <td>0</td>\n",
       "      <td>IG image</td>\n",
       "      <td>7</td>\n",
       "      <td>NaN</td>\n",
       "      <td>78</td>\n",
       "      <td>0</td>\n",
       "      <td>0</td>\n",
       "      <td>1416.0</td>\n",
       "      <td>1343.0</td>\n",
       "    </tr>\n",
       "    <tr>\n",
       "      <th>41</th>\n",
       "      <td>Golden Flashes, are you ready to PACK THE MACC...</td>\n",
       "      <td>16</td>\n",
       "      <td>IG reel</td>\n",
       "      <td>0</td>\n",
       "      <td>996.0</td>\n",
       "      <td>24</td>\n",
       "      <td>0</td>\n",
       "      <td>0</td>\n",
       "      <td>639.0</td>\n",
       "      <td>607.0</td>\n",
       "    </tr>\n",
       "  </tbody>\n",
       "</table>\n",
       "</div>"
      ],
      "text/plain": [
       "                                          Description  Duration (sec)  \\\n",
       "0      Starting the new year in Golden Flash style 🕶⚡               0   \n",
       "1   The first female president of any public colle...              44   \n",
       "2   Aleisha Moore, Ph.D., is exploring how the bra...             149   \n",
       "3   Don’t miss your chance to watch a documentary ...               0   \n",
       "4   Monica Burgett, Ph.D. ’16, was named Dr. World...               0   \n",
       "5   In 2023, Randi McKenzie, ’72, was presented wi...               0   \n",
       "6   Time for the Big Dance! For the first time sin...               0   \n",
       "7   Calling all true crime lovers! Thanks to Kent ...               0   \n",
       "8   We can't deny how beautiful the winter can be,...              40   \n",
       "9   Studying abroad is a transformative experience...              31   \n",
       "10  MAC TOURNAMENT CHAMPS! @kentstwbb defeated Buf...               0   \n",
       "11  Way to go, Flashes! @kentstmbb has made it to ...               0   \n",
       "12  Yvonne Bandy, ’74, was one of a few Black art ...               0   \n",
       "13  It’s another win for the blue and gold! @kents...               0   \n",
       "14  Flashes WIN! After defeating top-seeded Toledo...               0   \n",
       "15  Golden Flashes VICTORY ALERT! @kentstwbb is ad...               0   \n",
       "16  Did you know Kent State offers more than 200 a...              15   \n",
       "17  @kentstmbb and @kentstwbb have made it to the ...               0   \n",
       "18  Flashes Give Back Week is April 15-20, and you...              12   \n",
       "19  Happy International Women's Day! Bonnie Beachy...               0   \n",
       "20  ✨CONTEST ✨ Ready to hop into spring with our e...               0   \n",
       "21  Save the date, Golden Flashes. Homecoming 2024...              31   \n",
       "22  CeeJay Scott, ’23, took filmmaking classes at ...              34   \n",
       "23  Elizabeth Bartz, ’80, M.A. ’82, is president a...               0   \n",
       "24  Kent State has a 50-year tradition of award wi...              15   \n",
       "25  Today is National Study Abroad Day! We have mo...              19   \n",
       "26  From April 15-20, there are more than 50 in-pe...              30   \n",
       "27  Michael Daniels, Ph.D. ’22, was recently honor...               0   \n",
       "28  Students who study abroad are better prepared ...              17   \n",
       "29  Our commitment to global education at Kent Sta...              12   \n",
       "30  Will Matthews, ’19, came to Kent State on a fo...               0   \n",
       "31  As undergraduates at Kent State, Andrew “Andy”...               0   \n",
       "32  Happy Valentine’s Day! Kent State connects peo...              17   \n",
       "33  Alumni Award nominations are open now through ...               0   \n",
       "34  In today’s fast-paced and dynamic work environ...              10   \n",
       "35  From the moment Mariah Moorer, ’20, set foot o...               0   \n",
       "36  From classroom crush to happily ever after, Ro...               0   \n",
       "37  Love is in the air! Many of our alumni have fo...               0   \n",
       "38  Tiffany Roper, ’07, M.Ed. ’12, is a two-time a...               0   \n",
       "39  When she walked across the stage at commenceme...               0   \n",
       "40                             #MartinLutherKingJr 💙💛               0   \n",
       "41  Golden Flashes, are you ready to PACK THE MACC...              16   \n",
       "\n",
       "      Post type  Shares    Plays  Likes  Comments  Saves  Impressions   Reach  \n",
       "0      IG image       3      NaN     88         0      0        917.0   876.0  \n",
       "1       IG reel      13   4499.0    308        15      6       3194.0  3164.0  \n",
       "2       IG reel       2   1205.0     23         1      3        805.0   747.0  \n",
       "3      IG image       8      NaN     62         1      2       1098.0  1078.0  \n",
       "4      IG image       1      NaN     61         1      0       1713.0  1698.0  \n",
       "5      IG image       0      NaN     41         0      0        944.0   904.0  \n",
       "6      IG image       2      NaN     70         0      0       1074.0  1064.0  \n",
       "7      IG image       8      NaN     62         0      2       1401.0  1341.0  \n",
       "8       IG reel      31   3279.0    231         1      2       2487.0  2405.0  \n",
       "9       IG reel       3   1198.0     51         3      1        885.0   828.0  \n",
       "10     IG image      28      NaN    350        10      0       2271.0  2219.0  \n",
       "11     IG image       2      NaN     67         0      0        893.0   850.0  \n",
       "12     IG image       0      NaN     29         0      1        586.0   575.0  \n",
       "13     IG image       6      NaN     87         0      0        905.0   879.0  \n",
       "14     IG image       0      NaN     76         0      0        978.0   948.0  \n",
       "15     IG image       0      NaN     66         0      0        878.0   837.0  \n",
       "16      IG reel       0    679.0     21         0      0        469.0   445.0  \n",
       "17     IG image       1      NaN     16         0      0        602.0   563.0  \n",
       "18      IG reel       0    649.0      9         0      0        394.0   379.0  \n",
       "19     IG image       2      NaN     41         0      1        895.0   889.0  \n",
       "20  IG carousel       3      NaN     65         5      0       1274.0  1091.0  \n",
       "21      IG reel      37  17578.0    632         2      8          NaN     NaN  \n",
       "22      IG reel       5   2036.0     75         4      3       1524.0  1394.0  \n",
       "23     IG image       0      NaN     49         0      0        887.0   861.0  \n",
       "24      IG reel       1    708.0     25         0      0        488.0   448.0  \n",
       "25      IG reel       7   1236.0     42         1      0        871.0   819.0  \n",
       "26      IG reel       0    735.0     19         0      0        477.0   445.0  \n",
       "27     IG image       2      NaN     89         3      0       1127.0  1066.0  \n",
       "28      IG reel       1   1110.0     28         1      0        816.0   785.0  \n",
       "29      IG reel       1   1413.0     41         1      1        931.0   898.0  \n",
       "30     IG image       5      NaN    185         3      3       2038.0  1985.0  \n",
       "31     IG image      24      NaN    201         2      4       3091.0  3058.0  \n",
       "32      IG reel       0    602.0     20         0      0        425.0   397.0  \n",
       "33     IG image       1      NaN     39         0      1        956.0   914.0  \n",
       "34      IG reel       2   1060.0     26         0      1        711.0   654.0  \n",
       "35     IG image      21      NaN    472        21      5       5298.0  4684.0  \n",
       "36  IG carousel       1      NaN     87         0      1       1787.0  1464.0  \n",
       "37     IG image      35      NaN    284         7      5       3365.0  3340.0  \n",
       "38     IG image       0      NaN     41         1      0       1006.0   956.0  \n",
       "39  IG carousel       0      NaN     75         0      1       1158.0   967.0  \n",
       "40     IG image       7      NaN     78         0      0       1416.0  1343.0  \n",
       "41      IG reel       0    996.0     24         0      0        639.0   607.0  "
      ]
     },
     "execution_count": 3,
     "metadata": {},
     "output_type": "execute_result"
    }
   ],
   "source": [
    "instagram_tidy = instagram.drop(columns=['Post ID', \\\n",
    "                                      'Account ID', \\\n",
    "                                      'Account username', \\\n",
    "                                      'Account name', \\\n",
    "                                      'Publish time', \\\n",
    "                                      'Permalink', \\\n",
    "                                      'Data comment', \\\n",
    "                                      'Follows', \\\n",
    "                                      'Date'])\n",
    "instagram_tidy"
   ]
  },
  {
   "cell_type": "code",
   "execution_count": 4,
   "id": "0f056bd4",
   "metadata": {},
   "outputs": [
    {
     "data": {
      "text/html": [
       "<div>\n",
       "<style scoped>\n",
       "    .dataframe tbody tr th:only-of-type {\n",
       "        vertical-align: middle;\n",
       "    }\n",
       "\n",
       "    .dataframe tbody tr th {\n",
       "        vertical-align: top;\n",
       "    }\n",
       "\n",
       "    .dataframe thead th {\n",
       "        text-align: right;\n",
       "    }\n",
       "</style>\n",
       "<table border=\"1\" class=\"dataframe\">\n",
       "  <thead>\n",
       "    <tr style=\"text-align: right;\">\n",
       "      <th></th>\n",
       "      <th>Post ID</th>\n",
       "      <th>Page ID</th>\n",
       "      <th>Page name</th>\n",
       "      <th>Title</th>\n",
       "      <th>Description</th>\n",
       "      <th>Duration (sec)</th>\n",
       "      <th>Publish time</th>\n",
       "      <th>Caption type</th>\n",
       "      <th>Permalink</th>\n",
       "      <th>Is crosspost</th>\n",
       "      <th>...</th>\n",
       "      <th>1-minute viewers</th>\n",
       "      <th>3-second video views from Boosted posts</th>\n",
       "      <th>3-second video views from Organic posts</th>\n",
       "      <th>Reactions, Comments and Shares</th>\n",
       "      <th>Reactions</th>\n",
       "      <th>Comments</th>\n",
       "      <th>Shares</th>\n",
       "      <th>Reels plays</th>\n",
       "      <th>Seconds viewed</th>\n",
       "      <th>Average Seconds viewed</th>\n",
       "    </tr>\n",
       "  </thead>\n",
       "  <tbody>\n",
       "    <tr>\n",
       "      <th>0</th>\n",
       "      <td>7.573360e+14</td>\n",
       "      <td>2.889033e+10</td>\n",
       "      <td>Kent State University Alumni</td>\n",
       "      <td>NaN</td>\n",
       "      <td>Happy New Year, Golden Flashes! 💙💛</td>\n",
       "      <td>0.0</td>\n",
       "      <td>1/1/24 7:01</td>\n",
       "      <td>NaN</td>\n",
       "      <td>https://www.facebook.com/ksualumni/posts/pfbid...</td>\n",
       "      <td>0.0</td>\n",
       "      <td>...</td>\n",
       "      <td>0.0</td>\n",
       "      <td>0.0</td>\n",
       "      <td>0.0</td>\n",
       "      <td>168.0</td>\n",
       "      <td>151.0</td>\n",
       "      <td>4.0</td>\n",
       "      <td>13.0</td>\n",
       "      <td>NaN</td>\n",
       "      <td>NaN</td>\n",
       "      <td>NaN</td>\n",
       "    </tr>\n",
       "    <tr>\n",
       "      <th>1</th>\n",
       "      <td>8.136820e+14</td>\n",
       "      <td>2.889033e+10</td>\n",
       "      <td>Kent State University Alumni</td>\n",
       "      <td>Carol Cartwright, Ph.D.</td>\n",
       "      <td>The first female president of any public colle...</td>\n",
       "      <td>45.0</td>\n",
       "      <td>3/30/24 18:03</td>\n",
       "      <td>uploaded</td>\n",
       "      <td>https://www.facebook.com/ksualumni/posts/pfbid...</td>\n",
       "      <td>0.0</td>\n",
       "      <td>...</td>\n",
       "      <td>0.0</td>\n",
       "      <td>0.0</td>\n",
       "      <td>1000.0</td>\n",
       "      <td>136.0</td>\n",
       "      <td>119.0</td>\n",
       "      <td>9.0</td>\n",
       "      <td>8.0</td>\n",
       "      <td>NaN</td>\n",
       "      <td>18663.552</td>\n",
       "      <td>10.028</td>\n",
       "    </tr>\n",
       "    <tr>\n",
       "      <th>2</th>\n",
       "      <td>8.129900e+14</td>\n",
       "      <td>2.889033e+10</td>\n",
       "      <td>Kent State University Alumni</td>\n",
       "      <td>NaN</td>\n",
       "      <td>Aleisha Moore, Ph.D., is exploring how the bra...</td>\n",
       "      <td>149.0</td>\n",
       "      <td>3/29/24 17:03</td>\n",
       "      <td>uploaded</td>\n",
       "      <td>https://www.facebook.com/ksualumni/posts/pfbid...</td>\n",
       "      <td>0.0</td>\n",
       "      <td>...</td>\n",
       "      <td>10.0</td>\n",
       "      <td>0.0</td>\n",
       "      <td>251.0</td>\n",
       "      <td>17.0</td>\n",
       "      <td>16.0</td>\n",
       "      <td>0.0</td>\n",
       "      <td>1.0</td>\n",
       "      <td>NaN</td>\n",
       "      <td>4253.351</td>\n",
       "      <td>6.182</td>\n",
       "    </tr>\n",
       "    <tr>\n",
       "      <th>3</th>\n",
       "      <td>8.123070e+14</td>\n",
       "      <td>2.889033e+10</td>\n",
       "      <td>Kent State University Alumni</td>\n",
       "      <td>NaN</td>\n",
       "      <td>Don’t miss your chance to watch a documentary ...</td>\n",
       "      <td>0.0</td>\n",
       "      <td>3/28/24 16:03</td>\n",
       "      <td>NaN</td>\n",
       "      <td>https://www.facebook.com/ksualumni/posts/pfbid...</td>\n",
       "      <td>0.0</td>\n",
       "      <td>...</td>\n",
       "      <td>0.0</td>\n",
       "      <td>0.0</td>\n",
       "      <td>0.0</td>\n",
       "      <td>495.0</td>\n",
       "      <td>379.0</td>\n",
       "      <td>38.0</td>\n",
       "      <td>78.0</td>\n",
       "      <td>NaN</td>\n",
       "      <td>NaN</td>\n",
       "      <td>NaN</td>\n",
       "    </tr>\n",
       "    <tr>\n",
       "      <th>4</th>\n",
       "      <td>8.110000e+14</td>\n",
       "      <td>2.889033e+10</td>\n",
       "      <td>Kent State University Alumni</td>\n",
       "      <td>NaN</td>\n",
       "      <td>Monica Burgett, Ph.D. ’16, was named Dr. World...</td>\n",
       "      <td>0.0</td>\n",
       "      <td>3/26/24 16:03</td>\n",
       "      <td>NaN</td>\n",
       "      <td>https://www.facebook.com/ksualumni/posts/pfbid...</td>\n",
       "      <td>0.0</td>\n",
       "      <td>...</td>\n",
       "      <td>0.0</td>\n",
       "      <td>0.0</td>\n",
       "      <td>0.0</td>\n",
       "      <td>70.0</td>\n",
       "      <td>69.0</td>\n",
       "      <td>0.0</td>\n",
       "      <td>1.0</td>\n",
       "      <td>NaN</td>\n",
       "      <td>NaN</td>\n",
       "      <td>NaN</td>\n",
       "    </tr>\n",
       "  </tbody>\n",
       "</table>\n",
       "<p>5 rows × 38 columns</p>\n",
       "</div>"
      ],
      "text/plain": [
       "        Post ID       Page ID                     Page name  \\\n",
       "0  7.573360e+14  2.889033e+10  Kent State University Alumni   \n",
       "1  8.136820e+14  2.889033e+10  Kent State University Alumni   \n",
       "2  8.129900e+14  2.889033e+10  Kent State University Alumni   \n",
       "3  8.123070e+14  2.889033e+10  Kent State University Alumni   \n",
       "4  8.110000e+14  2.889033e+10  Kent State University Alumni   \n",
       "\n",
       "                     Title                                        Description  \\\n",
       "0                      NaN                 Happy New Year, Golden Flashes! 💙💛   \n",
       "1  Carol Cartwright, Ph.D.  The first female president of any public colle...   \n",
       "2                      NaN  Aleisha Moore, Ph.D., is exploring how the bra...   \n",
       "3                      NaN  Don’t miss your chance to watch a documentary ...   \n",
       "4                      NaN  Monica Burgett, Ph.D. ’16, was named Dr. World...   \n",
       "\n",
       "   Duration (sec)   Publish time Caption type  \\\n",
       "0             0.0    1/1/24 7:01          NaN   \n",
       "1            45.0  3/30/24 18:03     uploaded   \n",
       "2           149.0  3/29/24 17:03     uploaded   \n",
       "3             0.0  3/28/24 16:03          NaN   \n",
       "4             0.0  3/26/24 16:03          NaN   \n",
       "\n",
       "                                           Permalink  Is crosspost  ...  \\\n",
       "0  https://www.facebook.com/ksualumni/posts/pfbid...           0.0  ...   \n",
       "1  https://www.facebook.com/ksualumni/posts/pfbid...           0.0  ...   \n",
       "2  https://www.facebook.com/ksualumni/posts/pfbid...           0.0  ...   \n",
       "3  https://www.facebook.com/ksualumni/posts/pfbid...           0.0  ...   \n",
       "4  https://www.facebook.com/ksualumni/posts/pfbid...           0.0  ...   \n",
       "\n",
       "   1-minute viewers 3-second video views from Boosted posts  \\\n",
       "0               0.0                                     0.0   \n",
       "1               0.0                                     0.0   \n",
       "2              10.0                                     0.0   \n",
       "3               0.0                                     0.0   \n",
       "4               0.0                                     0.0   \n",
       "\n",
       "   3-second video views from Organic posts  Reactions, Comments and Shares  \\\n",
       "0                                      0.0                           168.0   \n",
       "1                                   1000.0                           136.0   \n",
       "2                                    251.0                            17.0   \n",
       "3                                      0.0                           495.0   \n",
       "4                                      0.0                            70.0   \n",
       "\n",
       "   Reactions Comments Shares  Reels plays  Seconds viewed  \\\n",
       "0      151.0      4.0   13.0          NaN             NaN   \n",
       "1      119.0      9.0    8.0          NaN       18663.552   \n",
       "2       16.0      0.0    1.0          NaN        4253.351   \n",
       "3      379.0     38.0   78.0          NaN             NaN   \n",
       "4       69.0      0.0    1.0          NaN             NaN   \n",
       "\n",
       "   Average Seconds viewed  \n",
       "0                     NaN  \n",
       "1                  10.028  \n",
       "2                   6.182  \n",
       "3                     NaN  \n",
       "4                     NaN  \n",
       "\n",
       "[5 rows x 38 columns]"
      ]
     },
     "execution_count": 4,
     "metadata": {},
     "output_type": "execute_result"
    }
   ],
   "source": [
    "facebook = pd.read_csv('facebookdata.csv')\n",
    "facebook.head()"
   ]
  },
  {
   "cell_type": "code",
   "execution_count": 5,
   "id": "72f544f9",
   "metadata": {},
   "outputs": [
    {
     "data": {
      "text/html": [
       "<div>\n",
       "<style scoped>\n",
       "    .dataframe tbody tr th:only-of-type {\n",
       "        vertical-align: middle;\n",
       "    }\n",
       "\n",
       "    .dataframe tbody tr th {\n",
       "        vertical-align: top;\n",
       "    }\n",
       "\n",
       "    .dataframe thead th {\n",
       "        text-align: right;\n",
       "    }\n",
       "</style>\n",
       "<table border=\"1\" class=\"dataframe\">\n",
       "  <thead>\n",
       "    <tr style=\"text-align: right;\">\n",
       "      <th></th>\n",
       "      <th>Description</th>\n",
       "      <th>Duration (sec)</th>\n",
       "      <th>Reactions</th>\n",
       "      <th>Comments</th>\n",
       "      <th>Shares</th>\n",
       "    </tr>\n",
       "  </thead>\n",
       "  <tbody>\n",
       "    <tr>\n",
       "      <th>0</th>\n",
       "      <td>Happy New Year, Golden Flashes! 💙💛</td>\n",
       "      <td>0.0</td>\n",
       "      <td>151.0</td>\n",
       "      <td>4.0</td>\n",
       "      <td>13.0</td>\n",
       "    </tr>\n",
       "    <tr>\n",
       "      <th>1</th>\n",
       "      <td>The first female president of any public colle...</td>\n",
       "      <td>45.0</td>\n",
       "      <td>119.0</td>\n",
       "      <td>9.0</td>\n",
       "      <td>8.0</td>\n",
       "    </tr>\n",
       "    <tr>\n",
       "      <th>2</th>\n",
       "      <td>Aleisha Moore, Ph.D., is exploring how the bra...</td>\n",
       "      <td>149.0</td>\n",
       "      <td>16.0</td>\n",
       "      <td>0.0</td>\n",
       "      <td>1.0</td>\n",
       "    </tr>\n",
       "    <tr>\n",
       "      <th>3</th>\n",
       "      <td>Don’t miss your chance to watch a documentary ...</td>\n",
       "      <td>0.0</td>\n",
       "      <td>379.0</td>\n",
       "      <td>38.0</td>\n",
       "      <td>78.0</td>\n",
       "    </tr>\n",
       "    <tr>\n",
       "      <th>4</th>\n",
       "      <td>Monica Burgett, Ph.D. ’16, was named Dr. World...</td>\n",
       "      <td>0.0</td>\n",
       "      <td>69.0</td>\n",
       "      <td>0.0</td>\n",
       "      <td>1.0</td>\n",
       "    </tr>\n",
       "    <tr>\n",
       "      <th>...</th>\n",
       "      <td>...</td>\n",
       "      <td>...</td>\n",
       "      <td>...</td>\n",
       "      <td>...</td>\n",
       "      <td>...</td>\n",
       "    </tr>\n",
       "    <tr>\n",
       "      <th>68</th>\n",
       "      <td>When she walked across the stage at commenceme...</td>\n",
       "      <td>0.0</td>\n",
       "      <td>143.0</td>\n",
       "      <td>15.0</td>\n",
       "      <td>4.0</td>\n",
       "    </tr>\n",
       "    <tr>\n",
       "      <th>69</th>\n",
       "      <td>#MartinLutherKingJr 💙💛</td>\n",
       "      <td>0.0</td>\n",
       "      <td>240.0</td>\n",
       "      <td>10.0</td>\n",
       "      <td>29.0</td>\n",
       "    </tr>\n",
       "    <tr>\n",
       "      <th>70</th>\n",
       "      <td>Congratulations to Nick Saban, '73, M.Ed. '75,...</td>\n",
       "      <td>0.0</td>\n",
       "      <td>369.0</td>\n",
       "      <td>17.0</td>\n",
       "      <td>51.0</td>\n",
       "    </tr>\n",
       "    <tr>\n",
       "      <th>71</th>\n",
       "      <td>Golden Flashes, are you ready to PACK THE MACC...</td>\n",
       "      <td>17.0</td>\n",
       "      <td>12.0</td>\n",
       "      <td>0.0</td>\n",
       "      <td>2.0</td>\n",
       "    </tr>\n",
       "    <tr>\n",
       "      <th>72</th>\n",
       "      <td>NaN</td>\n",
       "      <td>NaN</td>\n",
       "      <td>NaN</td>\n",
       "      <td>NaN</td>\n",
       "      <td>NaN</td>\n",
       "    </tr>\n",
       "  </tbody>\n",
       "</table>\n",
       "<p>73 rows × 5 columns</p>\n",
       "</div>"
      ],
      "text/plain": [
       "                                          Description  Duration (sec)  \\\n",
       "0                  Happy New Year, Golden Flashes! 💙💛             0.0   \n",
       "1   The first female president of any public colle...            45.0   \n",
       "2   Aleisha Moore, Ph.D., is exploring how the bra...           149.0   \n",
       "3   Don’t miss your chance to watch a documentary ...             0.0   \n",
       "4   Monica Burgett, Ph.D. ’16, was named Dr. World...             0.0   \n",
       "..                                                ...             ...   \n",
       "68  When she walked across the stage at commenceme...             0.0   \n",
       "69                             #MartinLutherKingJr 💙💛             0.0   \n",
       "70  Congratulations to Nick Saban, '73, M.Ed. '75,...             0.0   \n",
       "71  Golden Flashes, are you ready to PACK THE MACC...            17.0   \n",
       "72                                                NaN             NaN   \n",
       "\n",
       "    Reactions  Comments  Shares  \n",
       "0       151.0       4.0    13.0  \n",
       "1       119.0       9.0     8.0  \n",
       "2        16.0       0.0     1.0  \n",
       "3       379.0      38.0    78.0  \n",
       "4        69.0       0.0     1.0  \n",
       "..        ...       ...     ...  \n",
       "68      143.0      15.0     4.0  \n",
       "69      240.0      10.0    29.0  \n",
       "70      369.0      17.0    51.0  \n",
       "71       12.0       0.0     2.0  \n",
       "72        NaN       NaN     NaN  \n",
       "\n",
       "[73 rows x 5 columns]"
      ]
     },
     "execution_count": 5,
     "metadata": {},
     "output_type": "execute_result"
    }
   ],
   "source": [
    "facebook_selected_columns = facebook[['Description', \\\n",
    "                                      'Duration (sec)', \\\n",
    "                                      'Reactions', \\\n",
    "                                      'Comments', \\\n",
    "                                      'Shares']]\n",
    "\n",
    "facebook_selected_columns"
   ]
  },
  {
   "cell_type": "code",
   "execution_count": 6,
   "id": "4d6c7584",
   "metadata": {},
   "outputs": [
    {
     "data": {
      "image/png": "[encoded data removed]",
      "text/plain": [
       "<Figure size 640x480 with 1 Axes>"
      ]
     },
     "metadata": {},
     "output_type": "display_data"
    }
   ],
   "source": [
    "fig1, ax1= plt.subplots()\n",
    "ax1.scatter(facebook_selected_columns['Duration (sec)'], facebook_selected_columns['Reactions'])\n",
    "\n",
    "plt.show()"
   ]
  },
  {
   "cell_type": "code",
   "execution_count": 7,
   "id": "e3b564d4",
   "metadata": {},
   "outputs": [
    {
     "data": {
      "image/png": "[encoded data removed]",
      "text/plain": [
       "<Figure size 640x480 with 1 Axes>"
      ]
     },
     "metadata": {},
     "output_type": "display_data"
    }
   ],
   "source": [
    "fig2, ax2= plt.subplots()\n",
    "ax2.scatter(instagram_tidy['Post type'], instagram_tidy['Likes'])\n",
    "\n",
    "plt.show()"
   ]
  },
  {
   "cell_type": "code",
   "execution_count": 8,
   "id": "11040d76",
   "metadata": {},
   "outputs": [
    {
     "data": {
      "text/html": [
       "<div>\n",
       "<style scoped>\n",
       "    .dataframe tbody tr th:only-of-type {\n",
       "        vertical-align: middle;\n",
       "    }\n",
       "\n",
       "    .dataframe tbody tr th {\n",
       "        vertical-align: top;\n",
       "    }\n",
       "\n",
       "    .dataframe thead th {\n",
       "        text-align: right;\n",
       "    }\n",
       "</style>\n",
       "<table border=\"1\" class=\"dataframe\">\n",
       "  <thead>\n",
       "    <tr style=\"text-align: right;\">\n",
       "      <th></th>\n",
       "      <th>Description</th>\n",
       "      <th>Duration (sec)</th>\n",
       "      <th>Post type</th>\n",
       "      <th>Shares</th>\n",
       "      <th>Plays</th>\n",
       "      <th>Likes</th>\n",
       "      <th>Comments</th>\n",
       "      <th>Saves</th>\n",
       "      <th>Impressions</th>\n",
       "      <th>Reach</th>\n",
       "      <th>Reactions</th>\n",
       "    </tr>\n",
       "  </thead>\n",
       "  <tbody>\n",
       "    <tr>\n",
       "      <th>0</th>\n",
       "      <td>Starting the new year in Golden Flash style 🕶⚡</td>\n",
       "      <td>0.0</td>\n",
       "      <td>IG image</td>\n",
       "      <td>3.0</td>\n",
       "      <td>NaN</td>\n",
       "      <td>88.0</td>\n",
       "      <td>0.0</td>\n",
       "      <td>0.0</td>\n",
       "      <td>917.0</td>\n",
       "      <td>876.0</td>\n",
       "      <td>NaN</td>\n",
       "    </tr>\n",
       "    <tr>\n",
       "      <th>1</th>\n",
       "      <td>The first female president of any public colle...</td>\n",
       "      <td>44.0</td>\n",
       "      <td>IG reel</td>\n",
       "      <td>13.0</td>\n",
       "      <td>4499.0</td>\n",
       "      <td>308.0</td>\n",
       "      <td>15.0</td>\n",
       "      <td>6.0</td>\n",
       "      <td>3194.0</td>\n",
       "      <td>3164.0</td>\n",
       "      <td>NaN</td>\n",
       "    </tr>\n",
       "    <tr>\n",
       "      <th>2</th>\n",
       "      <td>Aleisha Moore, Ph.D., is exploring how the bra...</td>\n",
       "      <td>149.0</td>\n",
       "      <td>IG reel</td>\n",
       "      <td>2.0</td>\n",
       "      <td>1205.0</td>\n",
       "      <td>23.0</td>\n",
       "      <td>1.0</td>\n",
       "      <td>3.0</td>\n",
       "      <td>805.0</td>\n",
       "      <td>747.0</td>\n",
       "      <td>NaN</td>\n",
       "    </tr>\n",
       "    <tr>\n",
       "      <th>3</th>\n",
       "      <td>Don’t miss your chance to watch a documentary ...</td>\n",
       "      <td>0.0</td>\n",
       "      <td>IG image</td>\n",
       "      <td>8.0</td>\n",
       "      <td>NaN</td>\n",
       "      <td>62.0</td>\n",
       "      <td>1.0</td>\n",
       "      <td>2.0</td>\n",
       "      <td>1098.0</td>\n",
       "      <td>1078.0</td>\n",
       "      <td>NaN</td>\n",
       "    </tr>\n",
       "    <tr>\n",
       "      <th>4</th>\n",
       "      <td>Monica Burgett, Ph.D. ’16, was named Dr. World...</td>\n",
       "      <td>0.0</td>\n",
       "      <td>IG image</td>\n",
       "      <td>1.0</td>\n",
       "      <td>NaN</td>\n",
       "      <td>61.0</td>\n",
       "      <td>1.0</td>\n",
       "      <td>0.0</td>\n",
       "      <td>1713.0</td>\n",
       "      <td>1698.0</td>\n",
       "      <td>NaN</td>\n",
       "    </tr>\n",
       "    <tr>\n",
       "      <th>...</th>\n",
       "      <td>...</td>\n",
       "      <td>...</td>\n",
       "      <td>...</td>\n",
       "      <td>...</td>\n",
       "      <td>...</td>\n",
       "      <td>...</td>\n",
       "      <td>...</td>\n",
       "      <td>...</td>\n",
       "      <td>...</td>\n",
       "      <td>...</td>\n",
       "      <td>...</td>\n",
       "    </tr>\n",
       "    <tr>\n",
       "      <th>110</th>\n",
       "      <td>When she walked across the stage at commenceme...</td>\n",
       "      <td>0.0</td>\n",
       "      <td>NaN</td>\n",
       "      <td>4.0</td>\n",
       "      <td>NaN</td>\n",
       "      <td>NaN</td>\n",
       "      <td>15.0</td>\n",
       "      <td>NaN</td>\n",
       "      <td>NaN</td>\n",
       "      <td>NaN</td>\n",
       "      <td>143.0</td>\n",
       "    </tr>\n",
       "    <tr>\n",
       "      <th>111</th>\n",
       "      <td>#MartinLutherKingJr 💙💛</td>\n",
       "      <td>0.0</td>\n",
       "      <td>NaN</td>\n",
       "      <td>29.0</td>\n",
       "      <td>NaN</td>\n",
       "      <td>NaN</td>\n",
       "      <td>10.0</td>\n",
       "      <td>NaN</td>\n",
       "      <td>NaN</td>\n",
       "      <td>NaN</td>\n",
       "      <td>240.0</td>\n",
       "    </tr>\n",
       "    <tr>\n",
       "      <th>112</th>\n",
       "      <td>Congratulations to Nick Saban, '73, M.Ed. '75,...</td>\n",
       "      <td>0.0</td>\n",
       "      <td>NaN</td>\n",
       "      <td>51.0</td>\n",
       "      <td>NaN</td>\n",
       "      <td>NaN</td>\n",
       "      <td>17.0</td>\n",
       "      <td>NaN</td>\n",
       "      <td>NaN</td>\n",
       "      <td>NaN</td>\n",
       "      <td>369.0</td>\n",
       "    </tr>\n",
       "    <tr>\n",
       "      <th>113</th>\n",
       "      <td>Golden Flashes, are you ready to PACK THE MACC...</td>\n",
       "      <td>17.0</td>\n",
       "      <td>NaN</td>\n",
       "      <td>2.0</td>\n",
       "      <td>NaN</td>\n",
       "      <td>NaN</td>\n",
       "      <td>0.0</td>\n",
       "      <td>NaN</td>\n",
       "      <td>NaN</td>\n",
       "      <td>NaN</td>\n",
       "      <td>12.0</td>\n",
       "    </tr>\n",
       "    <tr>\n",
       "      <th>114</th>\n",
       "      <td>NaN</td>\n",
       "      <td>NaN</td>\n",
       "      <td>NaN</td>\n",
       "      <td>NaN</td>\n",
       "      <td>NaN</td>\n",
       "      <td>NaN</td>\n",
       "      <td>NaN</td>\n",
       "      <td>NaN</td>\n",
       "      <td>NaN</td>\n",
       "      <td>NaN</td>\n",
       "      <td>NaN</td>\n",
       "    </tr>\n",
       "  </tbody>\n",
       "</table>\n",
       "<p>115 rows × 11 columns</p>\n",
       "</div>"
      ],
      "text/plain": [
       "                                           Description  Duration (sec)  \\\n",
       "0       Starting the new year in Golden Flash style 🕶⚡             0.0   \n",
       "1    The first female president of any public colle...            44.0   \n",
       "2    Aleisha Moore, Ph.D., is exploring how the bra...           149.0   \n",
       "3    Don’t miss your chance to watch a documentary ...             0.0   \n",
       "4    Monica Burgett, Ph.D. ’16, was named Dr. World...             0.0   \n",
       "..                                                 ...             ...   \n",
       "110  When she walked across the stage at commenceme...             0.0   \n",
       "111                             #MartinLutherKingJr 💙💛             0.0   \n",
       "112  Congratulations to Nick Saban, '73, M.Ed. '75,...             0.0   \n",
       "113  Golden Flashes, are you ready to PACK THE MACC...            17.0   \n",
       "114                                                NaN             NaN   \n",
       "\n",
       "    Post type  Shares   Plays  Likes  Comments  Saves  Impressions   Reach  \\\n",
       "0    IG image     3.0     NaN   88.0       0.0    0.0        917.0   876.0   \n",
       "1     IG reel    13.0  4499.0  308.0      15.0    6.0       3194.0  3164.0   \n",
       "2     IG reel     2.0  1205.0   23.0       1.0    3.0        805.0   747.0   \n",
       "3    IG image     8.0     NaN   62.0       1.0    2.0       1098.0  1078.0   \n",
       "4    IG image     1.0     NaN   61.0       1.0    0.0       1713.0  1698.0   \n",
       "..        ...     ...     ...    ...       ...    ...          ...     ...   \n",
       "110       NaN     4.0     NaN    NaN      15.0    NaN          NaN     NaN   \n",
       "111       NaN    29.0     NaN    NaN      10.0    NaN          NaN     NaN   \n",
       "112       NaN    51.0     NaN    NaN      17.0    NaN          NaN     NaN   \n",
       "113       NaN     2.0     NaN    NaN       0.0    NaN          NaN     NaN   \n",
       "114       NaN     NaN     NaN    NaN       NaN    NaN          NaN     NaN   \n",
       "\n",
       "     Reactions  \n",
       "0          NaN  \n",
       "1          NaN  \n",
       "2          NaN  \n",
       "3          NaN  \n",
       "4          NaN  \n",
       "..         ...  \n",
       "110      143.0  \n",
       "111      240.0  \n",
       "112      369.0  \n",
       "113       12.0  \n",
       "114        NaN  \n",
       "\n",
       "[115 rows x 11 columns]"
      ]
     },
     "execution_count": 8,
     "metadata": {},
     "output_type": "execute_result"
    }
   ],
   "source": [
    "combined_data = pd.concat([instagram_tidy, facebook_selected_columns], ignore_index=True)\n",
    "combined_data"
   ]
  },
  {
   "cell_type": "code",
   "execution_count": 9,
   "id": "6f09d0f4",
   "metadata": {},
   "outputs": [
    {
     "name": "stdout",
     "output_type": "stream",
     "text": [
      "                                           Description  Duration (sec)  \\\n",
      "0       Starting the new year in Golden Flash style 🕶⚡             0.0   \n",
      "1    The first female president of any public colle...            44.0   \n",
      "2    Aleisha Moore, Ph.D., is exploring how the bra...           149.0   \n",
      "3    Don’t miss your chance to watch a documentary ...             0.0   \n",
      "4    Monica Burgett, Ph.D. ’16, was named Dr. World...             0.0   \n",
      "..                                                 ...             ...   \n",
      "110  When she walked across the stage at commenceme...             0.0   \n",
      "111                             #MartinLutherKingJr 💙💛             0.0   \n",
      "112  Congratulations to Nick Saban, '73, M.Ed. '75,...             0.0   \n",
      "113  Golden Flashes, are you ready to PACK THE MACC...            17.0   \n",
      "114                                                NaN             NaN   \n",
      "\n",
      "    Post type  Shares   Plays  Likes  Comments  Saves  Impressions   Reach  \\\n",
      "0       photo     3.0     NaN   88.0       0.0    0.0        917.0   876.0   \n",
      "1     IG reel    13.0  4499.0  308.0      15.0    6.0       3194.0  3164.0   \n",
      "2     IG reel     2.0  1205.0   23.0       1.0    3.0        805.0   747.0   \n",
      "3       photo     8.0     NaN   62.0       1.0    2.0       1098.0  1078.0   \n",
      "4       photo     1.0     NaN   61.0       1.0    0.0       1713.0  1698.0   \n",
      "..        ...     ...     ...    ...       ...    ...          ...     ...   \n",
      "110     photo     4.0     NaN    NaN      15.0    NaN          NaN     NaN   \n",
      "111     photo    29.0     NaN    NaN      10.0    NaN          NaN     NaN   \n",
      "112     photo    51.0     NaN    NaN      17.0    NaN          NaN     NaN   \n",
      "113       NaN     2.0     NaN    NaN       0.0    NaN          NaN     NaN   \n",
      "114       NaN     NaN     NaN    NaN       NaN    NaN          NaN     NaN   \n",
      "\n",
      "     Reactions  \n",
      "0          NaN  \n",
      "1          NaN  \n",
      "2          NaN  \n",
      "3          NaN  \n",
      "4          NaN  \n",
      "..         ...  \n",
      "110      143.0  \n",
      "111      240.0  \n",
      "112      369.0  \n",
      "113       12.0  \n",
      "114        NaN  \n",
      "\n",
      "[115 rows x 11 columns]\n"
     ]
    }
   ],
   "source": [
    "combined_data.loc[combined_data['Duration (sec)'] == 0, 'Post type'] = 'photo'\n",
    "print(combined_data)"
   ]
  },
  {
   "cell_type": "code",
   "execution_count": 10,
   "id": "7882bbf6",
   "metadata": {},
   "outputs": [
    {
     "name": "stdout",
     "output_type": "stream",
     "text": [
      "                                           Description  Duration (sec)  \\\n",
      "0       Starting the new year in Golden Flash style 🕶⚡             0.0   \n",
      "1    The first female president of any public colle...            44.0   \n",
      "2    Aleisha Moore, Ph.D., is exploring how the bra...           149.0   \n",
      "3    Don’t miss your chance to watch a documentary ...             0.0   \n",
      "4    Monica Burgett, Ph.D. ’16, was named Dr. World...             0.0   \n",
      "..                                                 ...             ...   \n",
      "110  When she walked across the stage at commenceme...             0.0   \n",
      "111                             #MartinLutherKingJr 💙💛             0.0   \n",
      "112  Congratulations to Nick Saban, '73, M.Ed. '75,...             0.0   \n",
      "113  Golden Flashes, are you ready to PACK THE MACC...            17.0   \n",
      "114                                                NaN             NaN   \n",
      "\n",
      "    Post type  Shares   Plays  Likes  Comments  Saves  Impressions   Reach  \\\n",
      "0       photo     3.0     NaN   88.0       0.0    0.0        917.0   876.0   \n",
      "1       video    13.0  4499.0  308.0      15.0    6.0       3194.0  3164.0   \n",
      "2       video     2.0  1205.0   23.0       1.0    3.0        805.0   747.0   \n",
      "3       photo     8.0     NaN   62.0       1.0    2.0       1098.0  1078.0   \n",
      "4       photo     1.0     NaN   61.0       1.0    0.0       1713.0  1698.0   \n",
      "..        ...     ...     ...    ...       ...    ...          ...     ...   \n",
      "110     photo     4.0     NaN    NaN      15.0    NaN          NaN     NaN   \n",
      "111     photo    29.0     NaN    NaN      10.0    NaN          NaN     NaN   \n",
      "112     photo    51.0     NaN    NaN      17.0    NaN          NaN     NaN   \n",
      "113     video     2.0     NaN    NaN       0.0    NaN          NaN     NaN   \n",
      "114       NaN     NaN     NaN    NaN       NaN    NaN          NaN     NaN   \n",
      "\n",
      "     Reactions  \n",
      "0          NaN  \n",
      "1          NaN  \n",
      "2          NaN  \n",
      "3          NaN  \n",
      "4          NaN  \n",
      "..         ...  \n",
      "110      143.0  \n",
      "111      240.0  \n",
      "112      369.0  \n",
      "113       12.0  \n",
      "114        NaN  \n",
      "\n",
      "[115 rows x 11 columns]\n"
     ]
    }
   ],
   "source": [
    "combined_data.loc[combined_data['Duration (sec)'] >= 5, 'Post type'] = 'video'\n",
    "print(combined_data)"
   ]
  },
  {
   "cell_type": "code",
   "execution_count": 11,
   "id": "e2fe5b06",
   "metadata": {},
   "outputs": [
    {
     "data": {
      "text/html": [
       "<div>\n",
       "<style scoped>\n",
       "    .dataframe tbody tr th:only-of-type {\n",
       "        vertical-align: middle;\n",
       "    }\n",
       "\n",
       "    .dataframe tbody tr th {\n",
       "        vertical-align: top;\n",
       "    }\n",
       "\n",
       "    .dataframe thead th {\n",
       "        text-align: right;\n",
       "    }\n",
       "</style>\n",
       "<table border=\"1\" class=\"dataframe\">\n",
       "  <thead>\n",
       "    <tr style=\"text-align: right;\">\n",
       "      <th></th>\n",
       "      <th>Description</th>\n",
       "      <th>Duration (sec)</th>\n",
       "      <th>Post type</th>\n",
       "      <th>Shares</th>\n",
       "      <th>Plays</th>\n",
       "      <th>Likes</th>\n",
       "      <th>Comments</th>\n",
       "      <th>Saves</th>\n",
       "      <th>Impressions</th>\n",
       "      <th>Reach</th>\n",
       "      <th>Reactions</th>\n",
       "    </tr>\n",
       "  </thead>\n",
       "  <tbody>\n",
       "    <tr>\n",
       "      <th>0</th>\n",
       "      <td>Starting the new year in Golden Flash style 🕶⚡</td>\n",
       "      <td>0.0</td>\n",
       "      <td>photo</td>\n",
       "      <td>3.0</td>\n",
       "      <td>NaN</td>\n",
       "      <td>88.0</td>\n",
       "      <td>0.0</td>\n",
       "      <td>0.0</td>\n",
       "      <td>917.0</td>\n",
       "      <td>876.0</td>\n",
       "      <td>NaN</td>\n",
       "    </tr>\n",
       "    <tr>\n",
       "      <th>1</th>\n",
       "      <td>The first female president of any public colle...</td>\n",
       "      <td>44.0</td>\n",
       "      <td>video</td>\n",
       "      <td>13.0</td>\n",
       "      <td>4499.0</td>\n",
       "      <td>308.0</td>\n",
       "      <td>15.0</td>\n",
       "      <td>6.0</td>\n",
       "      <td>3194.0</td>\n",
       "      <td>3164.0</td>\n",
       "      <td>NaN</td>\n",
       "    </tr>\n",
       "    <tr>\n",
       "      <th>2</th>\n",
       "      <td>Aleisha Moore, Ph.D., is exploring how the bra...</td>\n",
       "      <td>149.0</td>\n",
       "      <td>video</td>\n",
       "      <td>2.0</td>\n",
       "      <td>1205.0</td>\n",
       "      <td>23.0</td>\n",
       "      <td>1.0</td>\n",
       "      <td>3.0</td>\n",
       "      <td>805.0</td>\n",
       "      <td>747.0</td>\n",
       "      <td>NaN</td>\n",
       "    </tr>\n",
       "    <tr>\n",
       "      <th>3</th>\n",
       "      <td>Don’t miss your chance to watch a documentary ...</td>\n",
       "      <td>0.0</td>\n",
       "      <td>photo</td>\n",
       "      <td>8.0</td>\n",
       "      <td>NaN</td>\n",
       "      <td>62.0</td>\n",
       "      <td>1.0</td>\n",
       "      <td>2.0</td>\n",
       "      <td>1098.0</td>\n",
       "      <td>1078.0</td>\n",
       "      <td>NaN</td>\n",
       "    </tr>\n",
       "    <tr>\n",
       "      <th>4</th>\n",
       "      <td>Monica Burgett, Ph.D. ’16, was named Dr. World...</td>\n",
       "      <td>0.0</td>\n",
       "      <td>photo</td>\n",
       "      <td>1.0</td>\n",
       "      <td>NaN</td>\n",
       "      <td>61.0</td>\n",
       "      <td>1.0</td>\n",
       "      <td>0.0</td>\n",
       "      <td>1713.0</td>\n",
       "      <td>1698.0</td>\n",
       "      <td>NaN</td>\n",
       "    </tr>\n",
       "    <tr>\n",
       "      <th>...</th>\n",
       "      <td>...</td>\n",
       "      <td>...</td>\n",
       "      <td>...</td>\n",
       "      <td>...</td>\n",
       "      <td>...</td>\n",
       "      <td>...</td>\n",
       "      <td>...</td>\n",
       "      <td>...</td>\n",
       "      <td>...</td>\n",
       "      <td>...</td>\n",
       "      <td>...</td>\n",
       "    </tr>\n",
       "    <tr>\n",
       "      <th>110</th>\n",
       "      <td>When she walked across the stage at commenceme...</td>\n",
       "      <td>0.0</td>\n",
       "      <td>photo</td>\n",
       "      <td>4.0</td>\n",
       "      <td>NaN</td>\n",
       "      <td>NaN</td>\n",
       "      <td>15.0</td>\n",
       "      <td>NaN</td>\n",
       "      <td>NaN</td>\n",
       "      <td>NaN</td>\n",
       "      <td>143.0</td>\n",
       "    </tr>\n",
       "    <tr>\n",
       "      <th>111</th>\n",
       "      <td>#MartinLutherKingJr 💙💛</td>\n",
       "      <td>0.0</td>\n",
       "      <td>photo</td>\n",
       "      <td>29.0</td>\n",
       "      <td>NaN</td>\n",
       "      <td>NaN</td>\n",
       "      <td>10.0</td>\n",
       "      <td>NaN</td>\n",
       "      <td>NaN</td>\n",
       "      <td>NaN</td>\n",
       "      <td>240.0</td>\n",
       "    </tr>\n",
       "    <tr>\n",
       "      <th>112</th>\n",
       "      <td>Congratulations to Nick Saban, '73, M.Ed. '75,...</td>\n",
       "      <td>0.0</td>\n",
       "      <td>photo</td>\n",
       "      <td>51.0</td>\n",
       "      <td>NaN</td>\n",
       "      <td>NaN</td>\n",
       "      <td>17.0</td>\n",
       "      <td>NaN</td>\n",
       "      <td>NaN</td>\n",
       "      <td>NaN</td>\n",
       "      <td>369.0</td>\n",
       "    </tr>\n",
       "    <tr>\n",
       "      <th>113</th>\n",
       "      <td>Golden Flashes, are you ready to PACK THE MACC...</td>\n",
       "      <td>17.0</td>\n",
       "      <td>video</td>\n",
       "      <td>2.0</td>\n",
       "      <td>NaN</td>\n",
       "      <td>NaN</td>\n",
       "      <td>0.0</td>\n",
       "      <td>NaN</td>\n",
       "      <td>NaN</td>\n",
       "      <td>NaN</td>\n",
       "      <td>12.0</td>\n",
       "    </tr>\n",
       "    <tr>\n",
       "      <th>114</th>\n",
       "      <td>NaN</td>\n",
       "      <td>NaN</td>\n",
       "      <td>NaN</td>\n",
       "      <td>NaN</td>\n",
       "      <td>NaN</td>\n",
       "      <td>NaN</td>\n",
       "      <td>NaN</td>\n",
       "      <td>NaN</td>\n",
       "      <td>NaN</td>\n",
       "      <td>NaN</td>\n",
       "      <td>NaN</td>\n",
       "    </tr>\n",
       "  </tbody>\n",
       "</table>\n",
       "<p>115 rows × 11 columns</p>\n",
       "</div>"
      ],
      "text/plain": [
       "                                           Description  Duration (sec)  \\\n",
       "0       Starting the new year in Golden Flash style 🕶⚡             0.0   \n",
       "1    The first female president of any public colle...            44.0   \n",
       "2    Aleisha Moore, Ph.D., is exploring how the bra...           149.0   \n",
       "3    Don’t miss your chance to watch a documentary ...             0.0   \n",
       "4    Monica Burgett, Ph.D. ’16, was named Dr. World...             0.0   \n",
       "..                                                 ...             ...   \n",
       "110  When she walked across the stage at commenceme...             0.0   \n",
       "111                             #MartinLutherKingJr 💙💛             0.0   \n",
       "112  Congratulations to Nick Saban, '73, M.Ed. '75,...             0.0   \n",
       "113  Golden Flashes, are you ready to PACK THE MACC...            17.0   \n",
       "114                                                NaN             NaN   \n",
       "\n",
       "    Post type  Shares   Plays  Likes  Comments  Saves  Impressions   Reach  \\\n",
       "0       photo     3.0     NaN   88.0       0.0    0.0        917.0   876.0   \n",
       "1       video    13.0  4499.0  308.0      15.0    6.0       3194.0  3164.0   \n",
       "2       video     2.0  1205.0   23.0       1.0    3.0        805.0   747.0   \n",
       "3       photo     8.0     NaN   62.0       1.0    2.0       1098.0  1078.0   \n",
       "4       photo     1.0     NaN   61.0       1.0    0.0       1713.0  1698.0   \n",
       "..        ...     ...     ...    ...       ...    ...          ...     ...   \n",
       "110     photo     4.0     NaN    NaN      15.0    NaN          NaN     NaN   \n",
       "111     photo    29.0     NaN    NaN      10.0    NaN          NaN     NaN   \n",
       "112     photo    51.0     NaN    NaN      17.0    NaN          NaN     NaN   \n",
       "113     video     2.0     NaN    NaN       0.0    NaN          NaN     NaN   \n",
       "114       NaN     NaN     NaN    NaN       NaN    NaN          NaN     NaN   \n",
       "\n",
       "     Reactions  \n",
       "0          NaN  \n",
       "1          NaN  \n",
       "2          NaN  \n",
       "3          NaN  \n",
       "4          NaN  \n",
       "..         ...  \n",
       "110      143.0  \n",
       "111      240.0  \n",
       "112      369.0  \n",
       "113       12.0  \n",
       "114        NaN  \n",
       "\n",
       "[115 rows x 11 columns]"
      ]
     },
     "execution_count": 11,
     "metadata": {},
     "output_type": "execute_result"
    }
   ],
   "source": [
    "combined_data"
   ]
  },
  {
   "cell_type": "code",
   "execution_count": 12,
   "id": "2647ca85",
   "metadata": {},
   "outputs": [],
   "source": [
    "import seaborn as sns"
   ]
  },
  {
   "cell_type": "code",
   "execution_count": 13,
   "id": "1f07a798",
   "metadata": {},
   "outputs": [],
   "source": [
    "combined_data['Duration (sec)'] = combined_data['Duration (sec)'].astype(float)  \n",
    "\n",
    "\n",
    "combined_data.loc[combined_data['Duration (sec)'] == 0, 'Post type'] = 'photo'\n",
    "combined_data.loc[combined_data['Duration (sec)'] >= 5, 'Post type'] = 'video'"
   ]
  },
  {
   "cell_type": "code",
   "execution_count": 14,
   "id": "3b70715f",
   "metadata": {},
   "outputs": [
    {
     "data": {
      "image/png": "[encoded data removed]",
      "text/plain": [
       "<Figure size 640x480 with 1 Axes>"
      ]
     },
     "metadata": {},
     "output_type": "display_data"
    }
   ],
   "source": [
    "sns.violinplot(x = 'Post type', y = 'Likes', data = combined_data)\n",
    "plt.title('Likes by Post Type')\n",
    "plt.xlabel('Post Type')\n",
    "plt.ylabel('Likes')\n",
    "plt.show()"
   ]
  },
  {
   "cell_type": "code",
   "execution_count": 15,
   "id": "0241b194",
   "metadata": {},
   "outputs": [
    {
     "data": {
      "image/png": "[encoded data removed]",
      "text/plain": [
       "<Figure size 640x480 with 1 Axes>"
      ]
     },
     "metadata": {},
     "output_type": "display_data"
    }
   ],
   "source": [
    "sns.boxplot(x = 'Post type', y = 'Likes', data = combined_data)\n",
    "plt.title('Likes by Post Type')\n",
    "plt.xlabel('Post Type')\n",
    "plt.ylabel('Likes')\n",
    "plt.show()"
   ]
  },
  {
   "cell_type": "code",
   "execution_count": 18,
   "id": "b3615b3e",
   "metadata": {},
   "outputs": [],
   "source": [
    "correlation = combined_data[['Likes', 'Comments', 'Shares']].corr()"
   ]
  },
  {
   "cell_type": "code",
   "execution_count": 19,
   "id": "3a8d6ab9",
   "metadata": {},
   "outputs": [
    {
     "data": {
      "image/png": "[encoded data removed]",
      "text/plain": [
       "<Figure size 800x600 with 2 Axes>"
      ]
     },
     "metadata": {},
     "output_type": "display_data"
    }
   ],
   "source": [
    "plt.figure(figsize = (8, 6))\n",
    "sns.heatmap(correlation, annot = True, cmap = 'coolwarm', fmt = \".2f\", square = True)\n",
    "plt.title('Correlation Heatmap of Engagement Metrics')\n",
    "plt.show()"
   ]
  },
  {
   "cell_type": "code",
   "execution_count": 22,
   "id": "0eef1d10",
   "metadata": {},
   "outputs": [
    {
     "data": {
      "image/png": "[encoded data removed]",
      "text/plain": [
       "<Figure size 800x600 with 2 Axes>"
      ]
     },
     "metadata": {},
     "output_type": "display_data"
    }
   ],
   "source": [
    "plt.figure(figsize = (8, 6))\n",
    "sns.heatmap(correlation, annot = True, cmap = 'coolwarm', fmt = \".3f\", square = True)\n",
    "plt.title('Correlation Heatmap of Engagement Metrics')\n",
    "plt.show()"
   ]
  },
  {
   "cell_type": "code",
   "execution_count": 23,
   "id": "df1747c1",
   "metadata": {},
   "outputs": [],
   "source": [
    "video_data = combined_data[combined_data['Post type'] == 'video']"
   ]
  },
  {
   "cell_type": "code",
   "execution_count": 24,
   "id": "636719bc",
   "metadata": {},
   "outputs": [],
   "source": [
    "photo_data = combined_data[combined_data['Post type'] == 'photo']"
   ]
  },
  {
   "cell_type": "code",
   "execution_count": 25,
   "id": "6ea04ed6",
   "metadata": {},
   "outputs": [],
   "source": [
    "video_means = video_data[['Likes', 'Comments', 'Shares']].mean()\n",
    "photo_means = photo_data[['Likes', 'Comments', 'Shares']].mean()"
   ]
  },
  {
   "cell_type": "code",
   "execution_count": 26,
   "id": "072f4a99",
   "metadata": {},
   "outputs": [],
   "source": [
    "mean_data = pd.DataFrame({'Video': video_means, 'Photo': photo_means})"
   ]
  },
  {
   "cell_type": "code",
   "execution_count": 27,
   "id": "72629dd5",
   "metadata": {},
   "outputs": [
    {
     "data": {
      "image/png": "[encoded data removed]",
      "text/plain": [
       "<Figure size 1000x600 with 2 Axes>"
      ]
     },
     "metadata": {},
     "output_type": "display_data"
    }
   ],
   "source": [
    "plt.figure(figsize = (10, 6))\n",
    "sns.heatmap(mean_data, annot = True, cmap = 'coolwarm', fmt = \".0f\", square = True)\n",
    "plt.title('Mean Engagement Metrics: Video vs Photo')\n",
    "plt.show()"
   ]
  },
  {
   "cell_type": "code",
   "execution_count": 29,
   "id": "2862a972",
   "metadata": {},
   "outputs": [],
   "source": [
    "import plotly.express as px"
   ]
  },
  {
   "cell_type": "code",
   "execution_count": 31,
   "id": "3568ceda",
   "metadata": {},
   "outputs": [
    {
     "data": {
      "application/vnd.plotly.v1+json": {
       "config": {
        "plotlyServerURL": "https://plot.ly"
       },
       "data": [
        {
         "alignmentgroup": "True",
         "box": {
          "visible": true
         },
         "customdata": [
          [
           "Starting the new year in Golden Flash style 🕶⚡",
           0,
           3,
           null,
           0,
           0,
           917,
           876,
           null
          ],
          [
           "Don’t miss your chance to watch a documentary that explores the story of DEVO, the iconic ’80s band whose origins are connected to @kentstate through Mark Mothersbaugh, ’70, and Gerry Casale, ’72. The screening will take place on the closing night of the @clefilmfest, April 13, at 7:30 p.m. Learn more at the link in our bio!",
           0,
           8,
           null,
           1,
           2,
           1098,
           1078,
           null
          ],
          [
           "Monica Burgett, Ph.D. ’16, was named Dr. World Poland 2024! This wasn’t your typical pageant, as the competition celebrated contestants for their brilliant minds. Monica earned a doctorate in biomedical sciences and cellular molecular biology in 2016 and now works as an associate scientific director of medical communications. She entered the pageant to honor her mother Ewa who emigrated from Poland in 1980 and became a self-taught tailor. Learn more at the link in our bio!",
           0,
           1,
           null,
           1,
           0,
           1713,
           1698,
           null
          ],
          [
           "In 2023, Randi McKenzie, ’72, was presented with the First-gen Award at Kent State and surprised with the renaming of the award in her honor – the Randi McKenzie First-gen Award. Randi’s career in higher education spanned nearly four decades. Her teaching and service to San Diego State University led to the opportunity to direct the College of Professional Studies and Fine Arts faculty/student mentoring program (FSMP). In 2006, she was appointed as the Assistant Dean for Student Affairs for the college. She remains connected to Kent State through her generosity with support of the Women’s Field Hockey Team as well as the creation of an endowed scholarship for Kent State resident assistants with her husband, Thomas McKenzie, Ph.D. Learn more at the link in our bio!",
           0,
           0,
           null,
           0,
           0,
           944,
           904,
           null
          ],
          [
           "Time for the Big Dance! For the first time since 2002, @kentstwbb is headed to the NCAA Tournament. Our MAC Champions and No. 15 seed Golden Flashes will take on No. 2 seed Notre Dame Fighting Irish March 23 at 2:15 p.m. EDT at Notre Dame, and it’ll be broadcast live Saturday on ESPN. Follow the link in our bio for details. Cheer on the blue and gold and share your pride below!",
           0,
           2,
           null,
           0,
           0,
           1074,
           1064,
           null
          ],
          [
           "Calling all true crime lovers! Thanks to Kent State associate professor of anthropology Linda Spurlock, M.A.T. ’92, Ph.D. ’01, one John Doe missing case has a better chance of being solved. Cleveland Harbor John Doe was found in Lake Erie by boaters in 2014. Now, thanks to Spurlock’s forensic artistry, investigators have found a sketch of the man’s possible likeness. She is a specialist in facial reconstruction and noticed what the state of the man’s teeth, mouth and nose could tell us about him and what he might have looked like! Learn more at the link in our bio.",
           0,
           8,
           null,
           0,
           2,
           1401,
           1341,
           null
          ],
          [
           "MAC TOURNAMENT CHAMPS! @kentstwbb defeated Buffalo 78-60 to secure its fourth MAC Tournament title and first since 2002! We are so proud of you, Golden Flashes. Share your blue and gold pride in the comments below! ⚡️",
           0,
           28,
           null,
           10,
           0,
           2271,
           2219,
           null
          ],
          [
           "Way to go, Flashes! @kentstmbb has made it to the MAC Tournament Championship! After a 73-60 win over Bowling Green, the Golden Flashes advance to take on Akron tomorrow at 7:30 p.m. Before the game, stop by Flannery’s Pub for a reception at 5 p.m., then root on the blue and gold at Rocket Mortgage FieldHouse! #GoFlashes⚡️",
           0,
           2,
           null,
           0,
           0,
           893,
           850,
           null
          ],
          [
           "Yvonne Bandy, ’74, was one of a few Black art and design students asked to paint murals in Lowry Hall. When Yvonne returned to Kent for a Black Alumni Chapter reunion in 2016, she was excited to see that the murals had been cut out of the sheetrock wall to be displayed in Oscar Ritchie Hall. Bandy earned a master’s degree in art education from Pratt Institute and began working in New York. She later moved to New Jersey and coordinated the first associate degree in graphic design at a community college, where she remained as a professor for 31 years. Learn more at the link in our bio!",
           0,
           0,
           null,
           0,
           1,
           586,
           575,
           null
          ],
          [
           "It’s another win for the blue and gold! @kentstwbb is headed to the MAC Tournament Championship! Their 65-50 victory over Ball State takes them to the conference final against Buffalo tomorrow at 11 a.m. Join us at 9:30 a.m. at Flannery’s for a pregame reception. Get your tickets at the link in our bio! #GoFlashes⚡️",
           0,
           6,
           null,
           0,
           0,
           905,
           879,
           null
          ],
          [
           "Flashes WIN! After defeating top-seeded Toledo 67-59, @kentstmbb is moving on to the MAC Tournament Semifinals! Cheer them on March 15 at 5 p.m. at Rocket Mortgage FieldHouse. Before the game, join us at Flannery’s Pub at 3 p.m. for a pregame reception! Sign up for text updates to stay up to date on all things MAC Tournament at the link in our bio! #GoFlashes⚡️",
           0,
           0,
           null,
           0,
           0,
           978,
           948,
           null
          ],
          [
           "Golden Flashes VICTORY ALERT! @kentstwbb is advancing to the MAC Tournament Semifinals after beating Northern Illinois 63-60! Cheer them on March 15 at approximately 12:30 p.m. at Rocket Mortgage FieldHouse when they take on Ball State. Before the game, join us at Flannery’s Pub at 10:30 a.m. for a pregame reception! Sign up for text updates to stay up to date on all things MAC Tournament at the link in our bio! #GoFlashes⚡️",
           0,
           0,
           null,
           0,
           0,
           878,
           837,
           null
          ],
          [
           "@kentstmbb and @kentstwbb have made it to the MAC Tournament in Cleveland March 13-16. Meet up with Golden Flash fans and alumni before the game at Flannery’s Pub to enjoy light appetizers and a cash bar before cheering your Golden Flashes to victory at Rocket Mortgage FieldHouse. Sign up for text updates about games, tickets and pregame receptions at the link in our bio!",
           0,
           1,
           null,
           0,
           0,
           602,
           563,
           null
          ],
          [
           "Happy International Women's Day! Bonnie Beachy, ’82, is the all-time leading scorer in Kent State Men’s and Women’s Basketball’s history with 2,071 total points. She earned seven letters, four for basketball and three for tennis, and was inducted into the Kent State Varsity K Hall of Fame in 1988. She is the only female student-athlete in Kent State history to have her jersey, no. 13, retired. Bonnie passed away in 2017, but her legacy lives on with her retired jersey in the rafters of the MAC Center, a symbol of the pioneering female student-athlete who championed a golden age of basketball for the Golden Flashes. Learn more about Bonnie at the link in our bio!",
           0,
           2,
           null,
           0,
           1,
           895,
           889,
           null
          ],
          [
           "✨CONTEST ✨ Ready to hop into spring with our egg-straordinary Bunnies and Brews event on March 22? Like this post and tag 3 Kent State friends in the comments below, and you can be one of FIVE lucky winners of an extra drink ticket! \nYou’ve got to be there to win your prize – no “bunny” business! If you haven’t registered for Bunnies and Brews yet, head to the link in our bio now!",
           0,
           3,
           null,
           5,
           0,
           1274,
           1091,
           null
          ],
          [
           "Elizabeth Bartz, ’80, M.A. ’82, is president and CEO of State and Federal Communications in Akron, Ohio. While at Kent State, she took part in the university’s Washington Program in National Issues and went on to work in Washington, D.C.. After a decade away she was ready to return home to Northeast Ohio and transformed what started out as a two-person operation into an economic driver in downtown Akron. She is also an involved alumna and generous donor to KSU. Learn more at the link in our bio!",
           0,
           0,
           null,
           0,
           0,
           887,
           861,
           null
          ],
          [
           "Michael Daniels, Ph.D. ’22, was recently honored in the 2023 Crain’s 40 Under 40 class, which recognizes some of the best professionals making a difference in Northeast Ohio. Mike is the director of the E. Timothy Moore Student Multicultural Center at Kent State, which cultivates a sense of belonging and cultural affirmation for students in the university community. He has focused his academic research on men of color, identity development and leadership. Learn more about Mike at the link in our bio!",
           0,
           2,
           null,
           3,
           0,
           1127,
           1066,
           null
          ],
          [
           "Will Matthews, ’19, came to Kent State on a football scholarship and was a member of the team that won the 2019 Frisco Bowl, the first-ever bowl victory in university history. While still a student, Will started Southern Comfort Kitchen in 2018 with a food truck. He then opened a restaurant in 2022 in the Highland Square neighborhood of Akron, Ohio, to bring his unique combination of Cajun flavor and southern charm to even more folks. Learn more about Will at the link in our bio!",
           0,
           5,
           null,
           3,
           3,
           2038,
           1985,
           null
          ],
          [
           "As undergraduates at Kent State, Andrew “Andy” Wyatt, ’16, and Abby Steger, ’16, lived just steps away from each other, but it took a trip to Florence, Italy, for their love story to begin. The two were part of the same study abroad cohort in 2014 and began dating while there. Andy and Abby got engaged in 2022 and married in May 2023. In 2023, the couple also returned to Italy for Andy’s new role at the Kent State Florence Center, and they officially made Italy their home. Learn more about Andy and Abby at the link in our bio!",
           0,
           24,
           null,
           2,
           4,
           3091,
           3058,
           null
          ],
          [
           "Alumni Award nominations are open now through Feb. 25! Kent State recognizes and honors its alumni, students and, new this year, staff who have made exceptional contributions in their chosen profession, in their communities and at KSU. Nominate a fellow Golden Flash or complete an application for yourself to be considered for our most prestigious Kent State alumni recognition today at the link in our bio!",
           0,
           1,
           null,
           0,
           1,
           956,
           914,
           null
          ],
          [
           "From the moment Mariah Moorer, ’20, set foot on campus, she knew Kent State was where she belonged. With guidance from supportive mentors, she found her path in marketing with a minor in fashion merchandising, a unique blend that ignited her passion for the future. She took a leap of faith after graduation and moved to NYC. Now, as an integral part of the prestigious Tom Ford team, Mariah’s career trajectory speaks volumes about her resilience and drive. Learn more at the link in our bio!",
           0,
           21,
           null,
           21,
           5,
           5298,
           4684,
           null
          ],
          [
           "From classroom crush to happily ever after, Rodney, ’74, M.A.E. ’75, and Laura Dillman’s love story unfolded at Kent State with a special touch: a wedding ceremony at the bottom of the Administration Building steps, officiated by Kent State University President Glen Olds in 1975! The couple’s love story continues today with two children, two grandchildren and a happy retirement in Topsail, North Carolina. Rodney spent his career as an investment lawyer, but he most recently wrote “Flowers Are Better Than Bullets: A Novel,” about the May 4, 1970, tragedy at Kent State.",
           0,
           1,
           null,
           0,
           1,
           1787,
           1464,
           null
          ],
          [
           "Love is in the air! Many of our alumni have found the love of their life @kentstate. Tell us your love story and what Kent State means to you and your other half to be featured in our Kent State couples Facebook photo album at the link in our bio!",
           0,
           35,
           null,
           7,
           5,
           3365,
           3340,
           null
          ],
          [
           "Tiffany Roper, ’07, M.Ed. ’12, is a two-time alumna and the owner of Snap & Flair. During the COVID quarantine in 2020, she had time for some personal reflection and an entrepreneurial spirit was ignited in her. She founded her first business Eat Speak Love in 2020. This nonprofit aimed to amplify the voices of women and minorities in business. Since then, Roper has created Oh Snap Photo Lab, a mobile photo booth rental business; Thrift Theory & Style, a personal styling company; and Tiffany Roper: On the Mic!, a speaking engagement business. Learn more at the link in our bio!",
           0,
           0,
           null,
           1,
           0,
           1006,
           956,
           null
          ],
          [
           "When she walked across the stage at commencement this past December, Terrie Harris, ’23, realized a dream more than 25 years in the making. Life intervened often during her educational journey, but thanks to Kent State’s Regional Campus system, a diploma was finally hers. She received aBachelor of Technical and Applied Studies from the Twinsburg Academic Center after serving in the U.S. Army, raising eight children and caring for her mother. Learn more at the link in our bio!",
           0,
           0,
           null,
           0,
           1,
           1158,
           967,
           null
          ],
          [
           "#MartinLutherKingJr 💙💛",
           0,
           7,
           null,
           0,
           0,
           1416,
           1343,
           null
          ],
          [
           "Happy New Year, Golden Flashes! 💙💛",
           0,
           13,
           null,
           4,
           null,
           null,
           null,
           151
          ],
          [
           "Don’t miss your chance to watch a documentary that explores the story of DEVO, the iconic ’80s band whose origins are connected to Kent State University through Mark Mothersbaugh, ’70, and Gerry Casale, ’72. The screening will take place on the closing night of Cleveland International Film Festival, April 13, at 7:30 p.m. Learn more: https://www.clevelandfilm.org/films/devo",
           0,
           78,
           null,
           38,
           null,
           null,
           null,
           379
          ],
          [
           "Monica Burgett, Ph.D. ’16, was named Dr. World Poland 2024! This wasn’t your typical pageant, as the competition celebrated contestants for their brilliant minds. Monica earned a doctorate in biomedical sciences and cellular molecular biology in 2016 and now works as an associate scientific director of medical communications. She entered the pageant to honor her mother Ewa, who emigrated from Poland in 1980 and became a self-taught tailor.  Learn more: https://www.kent.edu/today/news/phd-international-pageant-winner-0",
           0,
           1,
           null,
           0,
           null,
           null,
           null,
           69
          ],
          [
           "In 2023, Randi McKenzie, ’72, was presented with the First-gen Award at Kent State and surprised with the renaming of the award in her honor – the Randi McKenzie First-gen Award. Randi’s career in higher education spanned nearly four decades. Her teaching and service to San Diego State University led to the opportunity to direct the College of Professional Studies and Fine Arts faculty/student mentoring program (FSMP). In 2006, she was appointed as the Assistant Dean for Student Affairs for the college. She remains connected to Kent State through her generosity with support of the Women’s Field Hockey Team as well as the creation of an endowed scholarship for Kent State resident assistants with her husband, Thomas McKenzie, Ph.D. Learn more: https://www.kent.edu/alumni/news/former-kent-state-educator-and-student-athlete-honored-first-gen-award-named-her-honor",
           0,
           1,
           null,
           3,
           null,
           null,
           null,
           61
          ],
          [
           "Time for the Big Dance! For the first time since 2002, Kent State Women's Basketball is headed to the NCAA Tournament. Our MAC Champions and No. 15 seed Golden Flashes will take on No. 2 seed Notre Dame Fighting Irish March 23 at 2:15 p.m. EDT at Notre Dame, and it’ll be broadcast live Saturday on ESPN. Cheer on the blue and gold and share your pride below! \nhttps://kentstatesports.com/Tourney24",
           0,
           11,
           null,
           10,
           null,
           null,
           null,
           103
          ],
          [
           "Calling all true crime lovers! Thanks to Kent State associate professor of anthropology Linda Spurlock, M.A.T. ’92, Ph.D. ’01, one John Doe missing case has a better chance of being solved. Cleveland Harbor John Doe was found in Lake Erie by boaters in 2014. Now, thanks to Spurlock’s forensic artistry, investigators have found a sketch of the man’s possible likeness. She is a specialist in facial reconstruction and noticed what the state of the man’s teeth, mouth and nose could tell us about him and what he might have looked like! Learn more: https://www.kent.edu/today/news/cracking-case-local-anthropologist-uses-forensic-art-solve-john-doe-case",
           0,
           1,
           null,
           0,
           null,
           null,
           null,
           40
          ],
          [
           null,
           0,
           5,
           null,
           6,
           null,
           null,
           null,
           77
          ],
          [
           "MAC TOURNAMENT CHAMPS! Kent State Women's Basketball defeated Buffalo 78-60 to secure its fourth MAC Tournament title and first since 2002! We are so proud of you, Golden Flashes. Share your blue and gold pride in the comments below! ⚡️",
           0,
           27,
           null,
           44,
           null,
           null,
           null,
           348
          ],
          [
           "Way to go, Flashes! Kent State Golden Flashes Men's Basketball has made it to the MAC Tournament Championship! After a 73-60 win over Bowling Green, the Golden Flashes advance to take on Akron tomorrow at 7:30 p.m. Before the game, stop by Flannery’s Pub for a reception at 5 p.m., then root on the blue and gold at Rocket Mortgage FieldHouse! For more info: KentStateSports.com/tourney24 ⚡️",
           0,
           54,
           null,
           39,
           null,
           null,
           null,
           380
          ],
          [
           "Yvonne Bandy, ’74, was one of a few Black art and design students asked to paint murals in Lowry Hall. When Yvonne returned to Kent for a Black Alumni Chapter in 2016, she was excited to see that the murals had been cut out of the sheetrock wall to be displayed in Oscar Ritchie Hall. Bandy earned a master’s degree in art education from Pratt Institute and began working in New York. She later moved to New Jersey and coordinated the first associate degree in graphic design at a community college, where she remained as a professor for 31 years. Learn more: https://www.kent.edu/today/news/alumnas-murals-oscar-ritchie-hall-may-link-past-future",
           0,
           11,
           null,
           23,
           null,
           null,
           null,
           133
          ],
          [
           "It’s another win for the blue and gold! Kent State Women's Basketball is headed to the MAC Tournament Championship! Their 65-50 victory over Ball State takes them to the conference final against Buffalo tomorrow at 11 a.m. Join us at 9:30 a.m. at Flannery’s for a pregame reception. For more info: KentStateSports.com/tourney24 ⚡️",
           0,
           23,
           null,
           31,
           null,
           null,
           null,
           421
          ],
          [
           "Flashes WIN! After defeating top-seeded Toledo 67-59, Kent State Golden Flashes Men's Basketball is moving on to the MAC Tournament Semifinals! Cheer them on March 15 at 5 p.m. at Rocket Mortgage FieldHouse. Before the game, join us at Flannery’s Pub at 3 p.m. for a pregame reception! Sign up for text updates to stay up to date on all things MAC Tournament! \nhttps://connect.kent.edu/register/mac-tournament-notifications",
           0,
           41,
           null,
           61,
           null,
           null,
           null,
           478
          ],
          [
           "Golden Flashes VICTORY ALERT! Kent State Women's Basketball is advancing to the MAC Tournament Semifinals after beating Northern Illinois 63-60! Cheer them on March 15 at approximately 12:30 p.m. at Rocket Mortgage FieldHouse when they take on Ball State. Before the game, join us at Flannery’s Pub at 10:30 a.m. for a pregame reception! Sign up for text updates to stay up to date on all things MAC Tournament! https://connect.kent.edu/register/mac-tournament-notifications",
           0,
           10,
           null,
           23,
           null,
           null,
           null,
           252
          ],
          [
           "Kent State Golden Flashes Men's Basketball and Kent State Women's Basketball  have made it to the MAC Tournament in Cleveland March 13-16. Meet up with Golden Flash fans and alumni before the game at Flannery’s Pub to enjoy light appetizers and a cash bar before cheering your Golden Flashes to victory at Rocket Mortgage FieldHouse. Sign up for text updates about games, tickets and pregame receptions: https://flashes.info/mactournament24",
           0,
           2,
           null,
           6,
           null,
           null,
           null,
           37
          ],
          [
           "Happy International Women's Day! Bonnie Beachy, ’82, is the all-time leading scorer in Kent State Men’s and Women’s Basketball history with 2,071 total points. She earned seven letters, four for basketball and three for tennis, and was inducted into the Kent State Varsity K Hall of Fame in 1988. She is the only female student-athlete in Kent State history to have her jersey, no. 13, retired. Bonnie passed away in 2017, but her legacy lives on with her retired jersey in the rafters of the MAC Center, a symbol of the pioneering female student-athlete who championed a golden age of basketball for the Golden Flashes. Learn more about Bonnie: https://kentstatesports.com/honors/hall-of-fame/bonnie-beachy/76",
           0,
           35,
           null,
           106,
           null,
           null,
           null,
           650
          ],
          [
           "✨CONTEST ✨ Ready to hop into spring with our egg-straordinary Bunnies and Brews event on March 22? Like this post and tag 3 Kent State friends in the comments below, and you can be one of FIVE lucky winners of an extra drink ticket! \nYou’ve got to be there to win your prize – no bunny business! If you haven’t yet, register for Bunnies and Brews now: https://flashes.info/bunniesandbrews24",
           0,
           0,
           null,
           10,
           null,
           null,
           null,
           30
          ],
          [
           "Elizabeth Bartz, ’80, M.A. ’82, is president and CEO of State and Federal Communications in Akron, Ohio. While at Kent State, she took part in the university’s Washington Program in National Issues and went on to work in Washington, D.C.. After a decade away she was ready to return home to Northeast Ohio and transformed what started out as a two-person operation into an economic driver in downtown Akron. She is also an involved alumna and generous donor to KSU. Learn more: https://flashes.info/ElizabethBartz",
           0,
           3,
           null,
           8,
           null,
           null,
           null,
           41
          ],
          [
           null,
           0,
           2,
           null,
           0,
           null,
           null,
           null,
           5
          ],
          [
           null,
           0,
           0,
           null,
           0,
           null,
           null,
           null,
           49
          ],
          [
           "Michael Daniels, Ph.D. ’22, was recently honored in the 2023 Crain’s 40 Under 40 class, which recognizes some of the best professionals making a difference in Northeast Ohio. Mike is the director of the E. Timothy Moore Student Multicultural Center at Kent State, which cultivates a sense of belonging and cultural affirmation for students in the university community. He has focused his academic research on men of color, identity development and leadership. Learn more about Mike: www.kent.edu/studentlife/news/dream-come-true",
           0,
           3,
           null,
           3,
           null,
           null,
           null,
           84
          ],
          [
           "Will Matthews, ’19, came to Kent State on a football scholarship and was a member of the team that won the 2019 Frisco Bowl, the first-ever bowl victory in university history. While still a student, Will started Southern Comfort Kitchen in 2018 with a food truck. He then opened a restaurant in 2022 in the Highland Square neighborhood of Akron, Ohio, to bring his unique combination of Cajun flavor and southern charm to even more folks. Learn more about Will: www.kent.edu/alumni/news/will-matthews-19",
           0,
           11,
           null,
           14,
           null,
           null,
           null,
           317
          ],
          [
           "As undergraduates at Kent State, Andrew “Andy” Wyatt, ’16, and Abby Steger, ’16, lived just steps away from each other, but it took a trip to Florence, Italy, for their love story to begin. The two were part of the same study abroad cohort in 2014 and began dating while there. Andy and Abby got engaged in 2022 and married in May 2023. In 2023, the couple also returned to Italy for Andy’s new role at the Kent State Florence Center, and they officially made Italy their home. Learn more about Andy and Abby: https://flashes.info/andywyatt",
           0,
           0,
           null,
           3,
           null,
           null,
           null,
           65
          ],
          [
           "Douglas, '68, and Linda, '69, Smith \n\nYour Story \nIn October of 1966, my AXO sorority sister and Doug’s S? fraternity brother arranged for us to go on a blind date. I lived in Beall Hall and he lived in McDowell, which was very convenient. I remember meeting him in the lounge and watching movies. Of course, we were into the music scene downtown as well. We absolutely loved eating pizza at Montoni’s-greasy to the last bite!\n\nThe Proposal and Marriage \nI don’t think there really was  a proposal. It was just a certainty that we were going to get married. My engagement ring was his grandmother’s diamond, which made it extra special. We had a wonderful marriage for 37 years until his passing in December of 2005. I’ve never even thought of remarrying because Doug was “the one”.\n\nHow do you and your spouse stay connected to Kent State as alumni?\nWe lived in many states after marrying, but always followed KSU news. We were able to attend one homecoming when we lived in Detroit. I'm going to be meeting with 10 AXO sisters in May for a mini reunion.",
           0,
           0,
           null,
           11,
           null,
           null,
           null,
           59
          ],
          [
           "Mark, '94, and Sharon, '93, Bird \n\nYour Story \nMy roommate and my husband’s roommate were dating and my roommate set us up on a blind date.  Our first date was to a haunted house in October 1993 and I was graduating in December of same year.  Things were going so well I decided to stay in my apartment after I graduated for 2 extra months to spend more time with my now husband and drove him to classes.  We dated long distance for a while and then we got engaged.  We have been married for almost 27 years now and have 3 wonderful children ages 21, 19 and 17.\n\nThe Proposal and Marriage \nMark proposed to me when we were on a trip to Toronto, Canada.  We went to see Phantom of the Opera and out to a fancy dinner.  He proposed on the balcony of our hotel room.  Then we went to an all you can eat dessert buffet (my dream meal!) and my stomach was so nervous after that I could barely eat anything!\n\nHow do you and your spouse stay connected to Kent State as alumni?\nMark was on the Track and Field team and loved with many of his teammates while in college.  We both still keep in touch with them, as well as I keep in touch with many of my sorority sisters (Chi Omega)!",
           0,
           0,
           null,
           4,
           null,
           null,
           null,
           21
          ],
          [
           "Bill, '82, and Heather, '81, Sedlacek\n\nYour Story \nWe met at Wills Gym in Rudy Bacna’s dance class. Had a couple of recreation classes together as well. Bill asked me to be his dance partner and we are still together 44 years later.\n\nHow do you and your spouse stay connected to Kent State as alumni?\nI participate in alumni events!",
           0,
           2,
           null,
           4,
           null,
           null,
           null,
           77
          ],
          [
           "Jeff, '01, and Lauren, '01 Blanc\n\nYour Story \nWe met in Terrace Hall in 1997.  Our hometowns were not that far away, so in 1998 we got to know each other more and we just connected.  I joined Alpha Tau Omega in 1997 and Lauren joined Tri-Sigma in 1998.  Both of us were active in our fraternity/sorority at Kent State.  We enjoyed the Greek life and loved our old dorm, Terrace.  We celebrated 20 years of marriage in 2023 - had dinner in Kent June 2023 was sad to not see our beloved Terrace anymore but will always have the memories! Lauren also did flag line for Kent State in 1997/98 so I enjoyed going to the games to watch her!  The attached picture is a week in to us dating in 1998 at the Kent State Student Center for the Greek Song Fest!\n\nThe Proposal and Marriage \nHer sorority has a special ceremony for the women who get engaged. I knew that meant something to Lauren - I planned to propose but wanted to do it before she graduated May 2001. After the Tri Sigma formal that spring I proposed to Lauren at Summit Hill Apartments.  It was a special moment for us and for her sorority! Many of her sisters and my brothers attended our wedding in 2003.\n\nHow do you and your spouse stay connected to Kent State as alumni?\nI get some KSU emails and make it a goal to attend Homecoming each year.  A good friend of mine is a KSU board member.",
           0,
           1,
           null,
           6,
           null,
           null,
           null,
           61
          ],
          [
           "Dennis, '10, and Carrie, '11 Quigney \n\nYour Story\nI met Carrie in passing late in 2008, but it wasn't until one faithful evening in February of 2010 where I met Carrie again at a going away party of a close friend of mine. I was having the time of life and ended up somehow wearing ski goggles for most of the get together. The goggles must have worked because she has been by my side ever since! Our love first blossomed in Kent at Eagles Landing and we have continued to soar since fleeing the coop. Kent State being the backdrop to the early days of our relationship will always hold a special place in our hearts!\n\nHow do you and your spouse stay connected to Kent State as alumni?\nLiving outside Cleveland, we now make periodic trips with our kids to show them where it all began!",
           0,
           1,
           null,
           11,
           null,
           null,
           null,
           78
          ],
          [
           "Eddie, '09, and Maureen, '04, '12, Ph.D.\n\nYour Story\nMaureen Drinkard and I were just outside of each others Venn diagram. Our mutual friends dated and we never crossed paths in a meaningful way. It wasn’t until i had just graduated and she was finishing up her doctorate at Kent. She was an adjunct professor for Kent as well. We met at scribbles coffee and had our first dates at the local Kent restaurants and bars. Our first kiss was at the gazebo on Franklin. We went on to buy and live in the Bailey Clegg law firm house on Columbus St. Our connection to Kent was so strong we gave our first child together Kent as a middle name. Our oldest daughter is currently finishing her masters degree at Kent.\n\nThe Proposal and Marriage \nI proposed on one of our trips to hocking hills. We were married in acorn alley by Main Street Kent’s very own Keleigh Zucchero, who I also met as a Kent state student. We had a reception at Laziza, and finished the night by renting the third floor of the Zephyr for an amazing party.\n\nHow do you and your spouse stay connected to Kent State as alumni?\nOur first child together bears the middle name Kent, our oldest child is graduating with a masters degree from Kent this spring, and my real estate team sponsors events in Kent, so we visit often.",
           0,
           0,
           null,
           0,
           null,
           null,
           null,
           32
          ],
          [
           "Matthew, '98, and Kim, '98, Yedlick\n\nYour Story\nSmall Group, Altman Hall 1992....in true Joey from Friends fashion,  Matthew's friend looked down to my friend group and me,  and said \"How you doing?\" I quickly replied, \"Who's your friend!?\" The rest is history.\n\nThe Proposal and Marriage \nWe dated throughout our years at KSU, and finally tied the knot in 1999. We have 2 kids, our son felt that same connection to the Kent Campus, where he now calls home. Our daughter will soon be headed off to OU, another campus everyone seems to love. When we are empty nesters, Matthew says he wants to go back to KSU, maybe rush a frat this time around and get his Masters.  \n\nHow do you and your spouse stay connected to Kent State as alumni?\nAs the kids were growing, we always took them to beautiful front campus for family pictures! I guess those visits had an ulterior motive, we hoped our kids would fall in love with Kent like we did. Now we go back for homecoming, and love Dogs Days walks with our pups. It's always a family affair. We still have the same close circle of friends that we met that year in Small Group, and still feel a strong connection to Kent State.",
           0,
           0,
           null,
           0,
           null,
           null,
           null,
           23
          ],
          [
           "Mike, '06, and Sara, '06, Rumer\n\nYour Story \nWe met through mutual friends in the Fall of 2003 and ran into each other at a New Year’s party a couple of months later. It was until Valentine’s Day 2004 that we saw each other again and I was so nervous to talk to her. When she walked by, a friend of mine bumped me into her and from that moment on, we have been inseparable.\n\nThe Proposal and Marriage \nIn 2006, I proposed to her at the very spot we met back in 2003 outside of Merrill Hall. We were supposed to go to dinner first but I was so nervous/anxious that I told her I wanted to go for a walk first. We were married in 2008 and will be celebrating 16 years of marriage later this summer.\n\nHow do you and your spouse stay connected to Kent State as alumni?\nWe have two daughters and we talk to them constantly about our time at Kent and how it was the best years of our lives. We have taken them to campus a few times to show our local hangouts.",
           0,
           0,
           null,
           0,
           null,
           null,
           null,
           28
          ],
          [
           "Alumni Award nominations are open now through Feb. 25! Kent State recognizes and honors its alumni, students and, new this year, staff who have made exceptional contributions in their chosen profession, in their communities and at KSU. Nominate a fellow Golden Flash or complete an application for yourself to be considered for our most prestigious Kent State alumni recognition today! Nominate: www.kent.edu/nominatealumni",
           0,
           2,
           null,
           0,
           null,
           null,
           null,
           7
          ],
          [
           "From the moment Mariah Moorer, ’20, set foot on campus, she knew Kent State was where she belonged. With guidance from supportive mentors, she found her path in marketing with a minor in fashion merchandising, a unique blend that ignited her passion for the future. She took a leap of faith after graduation and moved to NYC. Now, as an integral part of the prestigious Tom Ford team, Mariah’s career trajectory speaks volumes about her resilience and drive. Learn more: https://flashes.info/mariahmoorer",
           0,
           0,
           null,
           2,
           null,
           null,
           null,
           56
          ],
          [
           "From classroom crush to happily ever after, Rodney, ’74, M.A.E. ’75, and Laura Dillman’s love story unfolded at Kent State with a special touch: a wedding ceremony at the bottom of the Administration Building steps, officiated by Kent State University President Glen Olds in 1975! The couple’s love story continues today with two children, two grandchildren and a happy retirement in Topsail, North Carolina. Rodney spent his career as an investment lawyer, but he most recently wrote “Flowers Are Better Than Bullets: A Novel,” about the May 4, 1970, tragedy at Kent State.",
           0,
           1,
           null,
           48,
           null,
           null,
           null,
           205
          ],
          [
           "Gregory, '94, and Lynne, '92, Aliberti \n\nYour Story\nWe met through friends and had a class together then started spending more time studying and hiking. Our first date was downtown Kent to see a movie. We have so many memories of fun times on campus!\n\nThe Proposal and Marriage\nAfter college we had an apartment in Little Italy. Greg proposed on my birthday in 1996. I said yes!\n\nHow do you and your spouse stay connected to Kent State as alumni?\nWe love to visit our daughter who is currently a senior in interior design. We enjoy seeing how the campus and downtown has grown!",
           0,
           1,
           null,
           22,
           null,
           null,
           null,
           140
          ],
          [
           "Jon, '16, and Kim, '14, Haag\n\nYour Story\nJon and I met at a party at Kent my freshman year of college in 2012. We were both wearing stripes, and he came up to me and said, “Hey, I like your stripes.” We started dancing and quickly made a connection. Our first date was at the wonderful Taco Tontos, and the rest is history. He is truly my best friend, and I love spending my life with him. We do everything together, including our favorite hobby which is musky fishing. He’s the greatest person I’ve ever met, and we are eternally grateful that we met at Kent!\n\nThe Proposal and Marriage \nJon and I visited Kent, which was a normal occurrence in 2019, so I thought nothing of it! We went to Taco Tontos, the place we had our first date, and walked around campus. We were laughing and reminiscing about our college days. By the time we arrived at the Kent fountain at the student center, he got down on one knee and proposed. It was the easiest yes! We scheduled our wedding for October of 2020 but had to be delayed due to COVID. We got married on October 16, 2021, and it truly was the best day of our lives!!\n\nHow do you and your spouse stay connected to Kent State as alumni?\nI am full time nursing faculty at Kent, so we stay very well connected! I love working for Kent and couldn't be happier! It's definitely a bonus that I can bring Jon home some Taco Tontos after work!",
           0,
           2,
           null,
           11,
           null,
           null,
           null,
           42
          ],
          [
           "Kalif Vaughn, '15, and Aubrey Moe, '15\n\nYour Story\nAubrey and Kalif met when they both began PhD programs in the Kent State University Department of Psychology in 2009. Aubrey was studying Clinical Psychology and Kalif was studying Cognitive Psychology, but they had shared classes in statistics that allowed them to connect. \n\nThe Proposal and Marriage \nAfter dating for two years, they got married in Cleveland in 2013 at the Cleveland Botanical Gardens - which was also attended by more than 20 other students and faculty from the Kent State Psychology Department! After graduation in 2015, Aubrey and Kalif set-off on a series of adventures and opportunities spanning California, Massachusetts, Kentucky, and back to Ohio! Despite living in so many places, they never lost their love for Kent and would frequently visit to relive their fond memories and the place that brought them together. Now, Aubrey is faculty psychologist at The Ohio State University, and Kalif is tenured faculty at Northern Kentucky University. They still find time to visit Kent - and now bring along Norah, their young daughter - who is hopefully a future Golden Flash!\n\nHow do you and your spouse stay connected to Kent State as alumni?\nVisiting campus, visiting Kent, maintaining collaborations",
           0,
           1,
           null,
           15,
           null,
           null,
           null,
           146
          ],
          [
           "Scott, '96, and Laurie, '98, Liechty \n\nYour Story\nScott and I met while we both worked at the Campus Bus Service as drivers. I started to notice him while we would pass each other driving.  A friend of mine from nursing school who also drove mentioned my name to Scott.  I would schedule my shifts so I would take over his route when he was done and be his relief driver. We would see each other at the student center often .  On a Friday afternoon we were both driving the Stadium route and my bus pulled up behind his during a layover . He got out of his bus to talk to me and asked me on a date . For our wedding instead of a limo we had a decorated Campus bus.\n\nThe Proposal and Marriage \nScott and I met while we both worked at the Campus Bus Service as drivers. I started to notice him while we would pass each other driving.  A friend of mine from nursing school who also drove mentioned my name to Scott.  I would schedule my shifts so I would take over his route when he was done and be his relief driver. We would see each other at the student center often .  On a Friday afternoon we were both driving the Stadium route and my bus pulled up behind his during a layover . He got out of his bus to talk to me and asked me on a date . For our wedding instead of a limo we had a decorated Campus bus.\n\nHow do you and your spouse stay connected to Kent State as alumni?\nMy parents still live in Kent so we visit often.  We have gone to sporting events as some of our close friends have children that play or played for Kent . We often go to dinner in Kent. I had absolutely the best time as a student at Kent State!",
           0,
           0,
           null,
           0,
           null,
           null,
           null,
           38
          ],
          [
           "Kile, '21, and Casey, '19, Webb \n\nYour Story \nKile and I met at the Welcome Weekend Ice Cream Social in Lake Hall in 2017. We started dating in January of 2018. We loved going to skate nights at the ice rink, going to football and basketball games, and of course Kiss on the K!\n\nThe Proposal and Marriage \nKile surprised me with a beautiful proposal on The K in October of 2020! He got down on one knee while our closest friends were hiding around plaza taking pictures and he even arranged to have drone footage!\n\nWe had a blue and gold wedding on November 26, 2022 at the Barn on Enchanted Acres. It was such a special night being surrounded by our friends, family and of course other Golden Flashes. We are grateful to have met our soul mates at our favorite place on the planet! We have a future Golden Flash on the way, expected to arrive July 2024!\n\nHow do you and your spouse stay connected to Kent State as alumni?\nWe participate in local alumni events, attend homecoming festivities and visit Kent whenever we have a free weekend.",
           0,
           4,
           null,
           7,
           null,
           null,
           null,
           173
          ],
          [
           "Joe, '05, and Jenna, '09, Lilak\n\nYour Story\nIt was 2007 and I (Jenna) just transferred to KSU from Univ of Toledo, it was my first time at Ray’s place. I was sitting at the bar and noticed a cute guy (Joe) sitting at a table by the door. He got up to use the bathroom and I asked my friend if she dared me to sit in his seat. He was a little annoyed thinking his friends had called me over. I told him I was moving to Los Angeles after graduation to pursue a career in entertainment PR and he said “oh I live in LA!” I thought yea right. But he showed me his license (he was a KSU alum, class of ‘05) and told me he was in town visiting family and friends. We spent the rest of the night talking about his LA life. We closed out Rays and he walked me to my car, we exchanged numbers and as soon as he left I called my mom to tell her “I met the guy I’m going to marry!” \n\nThe Proposal and Marriage \nWe got engaged in Central Park and we got married at the Lake Erie Building in Lakewood, Ohio! We went back to Ray’s Place for our 1 year anniversary!!\n\nHow do you and your spouse stay connected to Kent State as alumni?\nWe stay in touch with fellow alumni and Jenna occasionally speaks to the Public Relations students and the PR student association.",
           0,
           0,
           null,
           6,
           null,
           null,
           null,
           59
          ],
          [
           "Aaron, '99, and Amy, '00, Gongaware\n\nYour Story \nWe met in Fall of 1996 while I lived in Engleman Hall and Aaron worked security for Front Campus. \nIn the Fall of 1997 our paths crossed again while I was an RA in Koonce Hall and he was working security for Tri Towers area. We started dating December 3rd 1997 and never looked back.\n\nThe Proposal and Marriage \nWe got engaged on December 3rd 2001 and were married on August 3rd 2002 after Aaron graduated law school. \nWe bought our first house in 2004 and have lived here since then.  We have two children who we love to share our KSU stories with. 26 years later and we are still so thankful KSU brought us together.\n\nHow do you and your spouse stay connected to Kent State as alumni?\nWe try to take our children to sporting events as often as we can. We love to visit campus and walk around. We had hoped our daughter would be attending there in the Fall, but unfortunately they did not have her major. Maybe our son will end up there.",
           0,
           1,
           null,
           17,
           null,
           null,
           null,
           192
          ],
          [
           "Cameron Davus, '20, Victoria Lorenzon, '22\n\nYour Story\nCameron and I met through the airport! He was my instrument instructor in 2020. After he left for the airlines we didn’t talk much, but began talking more in 2022. After a night visiting our favorite bars, our spark was ignited. We are so thankful for our paths crossing during our times at Kent. Working together created a really close bond. We have since moved to Cincinnati together but frequently stay involved with the Kent State flight team as coaches.\n\nHow do you and your spouse stay connected to Kent State as alumni?\nWe stay connected as coaches for the Kent state precision flight team!",
           0,
           0,
           null,
           0,
           null,
           null,
           null,
           21
          ],
          [
           "Daniel, '99, and Brandy, '99, Marks\n\nYour Story\nDan and I are both really big believers in fate and how it brought us together in the Fall of 1994 at Kent State. Had one little thing been different, we never would have met! I was from North Carolina and took a gap year before coming to Kent so I was slightly older than Dan. Dan was from Pennsylvania and came to Kent which was against his parents wishes who wanted him to stay closer to home. Dan also requested to be put into Verder since he was a graphic design major but was assigned Altman Hall in Small Group where I was also assigned. Because we were both from out-of-state, we found ourselves inadvertently thrown together with the handful of others that could not go home on the weekends. We started hanging out and have been together ever since! It will be 30 years this fall since we met at Kent State!\n\nThe Proposal and Marriage \nDan proposed to me over Spring Break our junior year in 1997 while we were visiting my Father who was stationed in San Francisco! My Dad lived on Treasure Island in the barracks and Dan proposed on the rooftop patio at night with the San Francisco skyline in the background. We were 21 years old which feels so young now! We graduated in May of 1999 and got married a week later in St. Thomas and moved to Cuyahoga Falls a month later. We are celebrating 25 years of marriage this May and 30 years this August since we met! It's been a whirlwind and hard to believe so much time has gone by!\n\nHow do you and your spouse stay connected to Kent State as alumni?\nWe've lived in Cuyahoga Falls (15-20 min away) since we graduated so we have always been close to come back for visits. I also started working at Kent in 2018 and now work in Financial Aid. Our daughter is also a sophomore at Kent and our son will be attending Fall of 2025. We are definitely a Kent State family in every way!",
           0,
           1,
           null,
           8,
           null,
           null,
           null,
           101
          ],
          [
           "Robert, '00, and Alison, '99, '10, Hoskinson\n\nYour Story \nI started out going to Kent State East Liverpool campus. I met my wife at Kent State Salem campus. She was living and attending Ohio State University. I was attending Kent State Main campus. We started dating and she moved back to Columbiana. I received my associate's degree from Kent State Salem. We got engaged in 2003 at the exact spot where we met. We took engagement pictures at this spot at Kent Salem. We married in 2004 and took wedding pictures at Kent State Salem campus. My wife got her master's degree at Kent State Trumbull campus. She has been working for Kent State Trumbull for over 20 years. I earned my Addiction Counseling Certification from Kent State Trumbull. Kent State has been a huge part of our life. Our 11 year old daughter, Paige talks about how she wants to attend Kent State University someday. Go Flashes!\n\nThe Proposal and Marriage \nWe met at Kent State Salem. We then got engaged at Kent State Salem. We took our engagement and wedding photos at the exact spot we met.\n\nHow do you and your spouse stay connected to Kent State as alumni?\nMy wife works at Kent State Trumbull. I still attend KSU but had to not take classes this semester as my mom passed away February 1st of this year.",
           0,
           0,
           null,
           0,
           null,
           null,
           null,
           40
          ],
          [
           "Raymond, '03, and Justine, '04, Peltz\n\nYour Story\nMet my husband back in March of 2004 in my final year at Kent State University through some mutual friends. Although he already graduated from Kent in 2003. It's always been an important part of our story especially finding out one of my good friends who I met when her and I were roommates actually knew him from some of her classes a year before him and I met. Talk about a small world. It was meant to be! We've been together 20 years this April.\n\nThe Proposal and Marriage\nMy husband proposed to me on St. Patrick's Day 2011 a couple weeks before he was deployed to Afghanistan and we were married on September 21, 2013. We now have beautiful almost 4 year old twin boys.\n\nHow do you and your spouse stay connected to Kent State as alumni?\nWe have visited the campus a few times since then and we've gone out to Mike's Place for dinner. We hope to take our boys there to see it too sometime soon.",
           0,
           1,
           null,
           3,
           null,
           null,
           null,
           28
          ],
          [
           "Daniel, '19, and Micayla, '18, '19, Berger\n\nYour Story\nWe met in 2016 while members of Alpha Phi Omega (APO) service fraternity and began dating in 2017. We loved to attend KSU football games, Flash Fest, and Kent Oktoberfest. We are so grateful for KSU helping us find our soulmate.\n\nThe Proposal and Marriage\nWe got engaged in October 2020 in the Great Smoky Mountains National Park and got married September 9, 2023 in downtown Akron at St. Bernard Catholic Church. Our reception was in Kent at The Event on Sunnybrook. Our absolute favorite part of our wedding day was stopping at Ray’s Place in between our ceremony and reception to have long islands with our bridal party.\n\nHow do you and your spouse stay connected to Kent State as alumni?\nWe still frequently stop and walk around campus together when we're in the area to reminisce and see all the new changes happening around campus.",
           0,
           0,
           null,
           4,
           null,
           null,
           null,
           94
          ],
          [
           "Sam, '00, and Cindy, '02, Murdock\n\nYour Story\nI lived with friends on University Dr. My husband was friends with one of my neighbors. It was New Year's Day 1999 and he was at my neighbors house watching the Rose Bowl. I never thought going next door to harass my neighbors that day I would meet my future husband! We were inseparable from that day forward. We were engaged 6 months later, married in 2001, moved out of state in 2002 and had our first son in 2009.\n\nThe Proposal and Marriage\nThe summer of 1999, my husband proposed in our little apartment in Kent. In 2001, we got married at Faith Lutheran Church right across the street from campus. Following our graduations, we moved to KY for our jobs. We have built our home in KY but still visit Kent at least once a year! We have two boys ages 12 & 15. This August we will celebrate our 23 year wedding anniversary!\n\nHow do you and your spouse stay connected to Kent State as alumni?\nAs a former KSU wrestler, my husband is still very involved with recruiting to their program and staying connected",
           0,
           1,
           null,
           3,
           null,
           null,
           null,
           73
          ],
          [
           "Birds of a feather create legacies forever! We are celebrating our Kent State alumni couples this Valentine’s Day. If you met your other half at Kent State, share your story (and a photo) with us here to be featured in our couples album! https://flashes.info/KSUCouples",
           0,
           2,
           null,
           19,
           null,
           null,
           null,
           30
          ],
          [
           "Love is in the air! Many of our alumni have found the love of their life at Kent State University. Tell us your love story and what Kent State means to you and your other half to be featured in our Kent State couples Facebook photo album: https://flashes.info/KSUCouples",
           0,
           5,
           null,
           65,
           null,
           null,
           null,
           164
          ],
          [
           "Tiffany Roper, ’07, M.Ed. ’12, is a two-time alumna and the owner of Snap & Flair. During the COVID quarantine in 2020, she had time for some personal reflection and an entrepreneurial spirit was ignited in her. She founded her first business Eat Speak Love in 2020. This nonprofit aimed to amplify the voices of women and minorities in business. Since then, Roper has created Oh Snap Photo Lab, a mobile photo booth rental business; Thrift Theory & Style, a personal styling company; and Tiffany Roper: On The Mic!, a speaking engagement business. Learn more: https://flashes.info/tiffanyroper",
           0,
           2,
           null,
           3,
           null,
           null,
           null,
           28
          ],
          [
           null,
           0,
           4,
           null,
           11,
           null,
           null,
           null,
           18
          ],
          [
           "When she walked across the stage at commencement this past December, Terrie Harris, ’23, realized a dream more than 25 years in the making. Life intervened often during her educational journey, but thanks to Kent State’s Regional Campus system, a diploma was finally hers. She received a Bachelor of Technical and Applied Studies from the Twinsburg Academic Center after serving in the U.S. Army, raising eight children and caring for her mother. Learn more: https://www.kent.edu/today/news/promise-kept",
           0,
           4,
           null,
           15,
           null,
           null,
           null,
           143
          ],
          [
           "#MartinLutherKingJr 💙💛",
           0,
           29,
           null,
           10,
           null,
           null,
           null,
           240
          ],
          [
           "Congratulations to Nick Saban, '73, M.Ed. '75, on his retirement! #FlashesForever ⚡️",
           0,
           51,
           null,
           17,
           null,
           null,
           null,
           369
          ]
         ],
         "hovertemplate": "Post type=%{x}<br>Likes=%{y}<br>Description=%{customdata[0]}<br>Duration (sec)=%{customdata[1]}<br>Shares=%{customdata[2]}<br>Plays=%{customdata[3]}<br>Comments=%{customdata[4]}<br>Saves=%{customdata[5]}<br>Impressions=%{customdata[6]}<br>Reach=%{customdata[7]}<br>Reactions=%{customdata[8]}<extra></extra>",
         "legendgroup": "photo",
         "marker": {
          "color": "#636efa"
         },
         "name": "photo",
         "offsetgroup": "photo",
         "orientation": "v",
         "points": "all",
         "scalegroup": "True",
         "showlegend": true,
         "type": "violin",
         "x": [
          "photo",
          "photo",
          "photo",
          "photo",
          "photo",
          "photo",
          "photo",
          "photo",
          "photo",
          "photo",
          "photo",
          "photo",
          "photo",
          "photo",
          "photo",
          "photo",
          "photo",
          "photo",
          "photo",
          "photo",
          "photo",
          "photo",
          "photo",
          "photo",
          "photo",
          "photo",
          "photo",
          "photo",
          "photo",
          "photo",
          "photo",
          "photo",
          "photo",
          "photo",
          "photo",
          "photo",
          "photo",
          "photo",
          "photo",
          "photo",
          "photo",
          "photo",
          "photo",
          "photo",
          "photo",
          "photo",
          "photo",
          "photo",
          "photo",
          "photo",
          "photo",
          "photo",
          "photo",
          "photo",
          "photo",
          "photo",
          "photo",
          "photo",
          "photo",
          "photo",
          "photo",
          "photo",
          "photo",
          "photo",
          "photo",
          "photo",
          "photo",
          "photo",
          "photo",
          "photo",
          "photo",
          "photo",
          "photo",
          "photo",
          "photo",
          "photo",
          "photo",
          "photo",
          "photo"
         ],
         "x0": " ",
         "xaxis": "x",
         "y": [
          88,
          62,
          61,
          41,
          70,
          62,
          350,
          67,
          29,
          87,
          76,
          66,
          16,
          41,
          65,
          49,
          89,
          185,
          201,
          39,
          472,
          87,
          284,
          41,
          75,
          78,
          null,
          null,
          null,
          null,
          null,
          null,
          null,
          null,
          null,
          null,
          null,
          null,
          null,
          null,
          null,
          null,
          null,
          null,
          null,
          null,
          null,
          null,
          null,
          null,
          null,
          null,
          null,
          null,
          null,
          null,
          null,
          null,
          null,
          null,
          null,
          null,
          null,
          null,
          null,
          null,
          null,
          null,
          null,
          null,
          null,
          null,
          null,
          null,
          null,
          null,
          null,
          null,
          null
         ],
         "y0": " ",
         "yaxis": "y"
        },
        {
         "alignmentgroup": "True",
         "box": {
          "visible": true
         },
         "customdata": [
          [
           "The first female president of any public college or university in Ohio was Carol Cartwright, Ph.D., who became @kentstate’s first female president in 1991. She was passionate about eliminating barriers for aspiring college students and decreasing gender inequities in programming, athletics and other areas at the university level. Learn more at the link in our bio!",
           44,
           13,
           4499,
           15,
           6,
           3194,
           3164,
           null
          ],
          [
           "Aleisha Moore, Ph.D., is exploring how the brain can influence hormones and fertility. One area of research for Moore is Polycystic Ovary Syndrome (PCOS), a condition that affects nearly 10% of women. Despite the prevalence and seriousness of PCOS, the funding for research into this disease is scarce, making Moore, assistant professor in the Department of Biological Sciences @kentstate, one of the few scientists worldwide studying this syndrome. Learn more at the link in our bio!",
           149,
           2,
           1205,
           1,
           3,
           805,
           747,
           null
          ],
          [
           "We can't deny how beautiful the winter can be, but we're ready for spring. Nice snowing you, winter! ❄🌻",
           40,
           31,
           3279,
           1,
           2,
           2487,
           2405,
           null
          ],
          [
           "Studying abroad is a transformative experience for students, but the costs associated with study abroad programming can be a barrier to their participation. Kent State is dedicated to removing this barrier via the Global Education Endowment, established so that every student, regardless of financial resources, can have a study abroad experience. Give today to change a life at the link in our bio!",
           31,
           3,
           1198,
           3,
           1,
           885,
           828,
           null
          ],
          [
           "Did you know Kent State offers more than 200 academic opportunities in 60 countries? When students immerse themselves in new cultural and learning experiences, they return to campus transformed, with a powerful confidence, broadened perspective and desire to impact the world. Give today at the link in our bio to support students’ study abroad opportunities!",
           15,
           0,
           679,
           0,
           0,
           469,
           445,
           null
          ],
          [
           "Flashes Give Back Week is April 15-20, and you can make a difference @kentstate  and in your local community. Sign up to volunteer by Thursday, March 14, to receive your free #FlashesGiveBack T-shirt! \nLearn more and register at the link in our bio.",
           12,
           0,
           649,
           0,
           0,
           394,
           379,
           null
          ],
          [
           "Save the date, Golden Flashes. Homecoming 2024 will take place on Sept. 28! Click the 🔗 in bio to find out more about this year’s celebration. ⚡️ #KentState #KentHC",
           31,
           37,
           17578,
           2,
           8,
           null,
           null,
           null
          ],
          [
           "CeeJay Scott, ’23, took filmmaking classes at the American University in Cairo, Egypt, during his undergraduate experience. This opportunity changed his perspective as a filmmaker and inspired him to dream bigger for his future. Give today at the link in our bio to support students’ study abroad opportunities!",
           34,
           5,
           2036,
           4,
           3,
           1524,
           1394,
           null
          ],
          [
           "Kent State has a 50-year tradition of award winning education-abroad programming, and the university’s Global Education Endowment aims to expand access to those opportunities for all students. The fund provides support to any student who aspires to study abroad, granting them a once-in-a-lifetime educational opportunity and helping alleviate financial barriers. Give today at the link in our bio!",
           15,
           1,
           708,
           0,
           0,
           488,
           448,
           null
          ],
          [
           "Today is National Study Abroad Day! We have more than 200 programs in 60+ countries to help students gain the skills they need to be successful in the global marketplace. We created the Kent State Global Education Endowment to make study abroad experiences possible for even more students. Celebrate National Study Abroad Day with a gift to support these once-in-a-lifetime opportunities for Kent State students! Give today at the link in our bio.",
           19,
           7,
           1236,
           1,
           0,
           871,
           819,
           null
          ],
          [
           "From April 15-20, there are more than 50 in-person and virtual opportunities for you to serve together, united in our mission of making our communities better and brighter, while inspiring others to do the same. Volunteer to make a difference for our blue and gold communities around the world! Register by Thursday, March 14, to receive a free Flashes Give Back Week T-shirt. Learn more and sign up at the link in our bio. #FlashesGiveBack",
           30,
           0,
           735,
           0,
           0,
           477,
           445,
           null
          ],
          [
           "Students who study abroad are better prepared for a world that is increasingly interconnected and multicultural. Kent State’s global reach has expanded to six continents, with full education-abroad programming in Brazil, Czech Republic, Egypt, France, Italy, Jordan and Switzerland; study abroad partnerships in Australia, Bolivia, Japan, Rwanda, Saudi Arabia, Singapore and Uganda; and outreach centers in China and India. Learn more about global education at Kent State at the link in our bio!",
           17,
           1,
           1110,
           1,
           0,
           816,
           785,
           null
          ],
          [
           "Our commitment to global education at Kent State isn’t just a part of our legacy – it’s in our DNA! For 50 years, we’ve cultivated a diverse array of international education experiences, making it one of our greatest assets and core competencies. We’re dedicated to shaping global citizens and fostering cross-cultural understanding for our students. Learn more about global education at Kent State at the link in our bio!",
           12,
           1,
           1413,
           1,
           1,
           931,
           898,
           null
          ],
          [
           "Happy Valentine’s Day! Kent State connects people, ideas and passions. Share a favorite connection you made at Kent State at the link in our bio and be entered to win a wireless phone charger or romantic prize package*!\n\n*Package includes a complimentary night’s stay at the KSU Hotel and Conference Center, a bottle of Kent State Ashtabula wine, wine glasses and a delicious chocolate treat from Popped!",
           17,
           0,
           602,
           0,
           0,
           425,
           397,
           null
          ],
          [
           "In today’s fast-paced and dynamic work environment, prioritizing mental health and well-being in the workforce has never been more important. Join us on Zoom for our Career Coffee Talk Thursday, March 7, at 6 p.m. for a free lecture on the critical aspects of mental health and the significance of a healthy, supportive workplace. Register at the link in our bio!",
           10,
           2,
           1060,
           0,
           1,
           711,
           654,
           null
          ],
          [
           "Golden Flashes, are you ready to PACK THE MACC @kentstmbb takes on The School Down the Road (Akron) in a thrilling showdown on Friday, Jan. 19, at 7 p.m. See the rivalry in person and join us for a pregame alumni reception, then cheer on our Golden Flashes to victory! Get your tickets now at the link in our bio!",
           16,
           0,
           996,
           0,
           0,
           639,
           607,
           null
          ],
          [
           "The first female president of any public college or university in Ohio was Carol Cartwright, Ph.D., who became @[100064762298417:2048:Kent State University]’s first female president in 1991. She was passionate about eliminating barriers for aspiring college students and decreasing gender inequities in programming, athletics and other areas at the university level. Learn more: www.kent.edu/foreverbrighter/news/celebrating-ksus-first-female-president",
           45,
           8,
           null,
           9,
           null,
           null,
           null,
           119
          ],
          [
           "Aleisha Moore, Ph.D., is exploring how the brain can influence hormones and fertility. One area of research for Moore is Polycystic Ovary Syndrome (PCOS), a condition that affects nearly 10% of women. Despite the prevalence and seriousness of PCOS, the funding for research into this disease is scarce, making Moore, assistant professor in the Department of Biological Sciences @[100064762298417:2048:Kent State University], one of the few scientists worldwide studying this syndrome. Learn more: www.kent.edu/foreverbrighter/news/championing-place-women-science",
           149,
           1,
           null,
           0,
           null,
           null,
           null,
           16
          ],
          [
           "We can't deny how beautiful the winter can be, but we're ready for spring. Nice snowing you, winter! ❄🌻",
           41,
           39,
           null,
           41,
           null,
           null,
           null,
           321
          ],
          [
           "Studying abroad is a transformative experience for students, but the costs associated with study abroad programming can be a barrier to their participation. Kent State is dedicated to removing this barrier via the Global Education Endowment, established so that every student, regardless of financial resources, can have a study abroad experience. Give today to change a life: https://flashes.info/kentstateglobaled24",
           31,
           0,
           null,
           1,
           null,
           null,
           null,
           6
          ],
          [
           "Did you know Kent State offers more than 200 academic opportunities in 60 countries? When students immerse themselves in new cultural and learning experiences, they return to campus transformed, with a powerful confidence, broadened perspective and desire to impact the world. Give today to support students’ study abroad opportunities: https://flashes.info/kentstateglobaled24",
           15,
           0,
           null,
           0,
           null,
           null,
           null,
           8
          ],
          [
           "Flashes Give Back Week is April 15-20, and you can make a difference at @[100064762298417:2048:Kent State University] and in your local community. Sign up to volunteer by Thursday, March 14, to receive your free #FlashesGiveBack T-shirt! \nLearn more and register: https://flashes.info/flashesgiveback",
           13,
           3,
           null,
           0,
           null,
           null,
           null,
           9
          ],
          [
           "BLUE AND GOLD ANNOUNCEMENT! Homecoming is Sept. 28! Save the date and plan to bring your family and friends home for a weekend of reminiscing, excitement and Golden Flash pride as Kent State Football takes on the Eastern Michigan Eagles. Stay tuned for more details! www.kent.edu/alumni/homecoming #KentHC #FlashesForever",
           32,
           7,
           null,
           0,
           null,
           null,
           null,
           24
          ],
          [
           "CeeJay Scott, ’23, took filmmaking classes at the American University in Cairo, Egypt, during his undergraduate experience. This opportunity changed his perspective as a filmmaker and inspired him to dream bigger for his future. Give today to support students’ study abroad opportunities: https://flashes.info/kentstateglobaled24",
           35,
           2,
           null,
           0,
           null,
           null,
           null,
           15
          ],
          [
           "Kent State has a 50-year tradition of award winning education-abroad programming, and the university’s Global Education Endowment aims to expand access to those opportunities for all students. The fund provides support to any student who aspires to study abroad, granting them a once-in-a-lifetime educational opportunity and helping alleviate financial barriers. Give today to support education abroad for Kent State students: https://flashes.info/kentstateglobaled24",
           16,
           0,
           null,
           0,
           null,
           null,
           null,
           11
          ],
          [
           "Today is National Study Abroad Day! We have more than 200 programs in 60+ countries to help students gain the skills they need to be successful in the global marketplace. We created the Kent State Global Education Endowment to make study abroad experiences possible for even more students. Celebrate National Study Abroad Day with a gift to support these once-in-a-lifetime opportunities for Kent State students! Give today: https://flashes.info/kentstateglobaled24",
           19,
           0,
           null,
           0,
           null,
           null,
           null,
           11
          ],
          [
           "From April 15-20, there are more than 50 in-person and virtual opportunities for you to serve together, united in our mission of making our communities better and brighter, while inspiring others to do the same. Volunteer to make a difference for our blue and gold communities around the world! Register by Thursday, March 14, to receive a free Flashes Give Back Week T-shirt. Learn more and sign up: https://flashes.info/flashesgivebackweek #FlashesGiveBack",
           31,
           3,
           null,
           0,
           null,
           null,
           null,
           11
          ],
          [
           "Students who study abroad are better prepared for a world that is increasingly interconnected and multicultural. Kent State’s global reach has expanded to six continents, with full education-abroad programming in Brazil, Czech Republic, Egypt, France, Italy, Jordan and Switzerland; study abroad partnerships in Australia, Bolivia, Japan, Rwanda, Saudi Arabia, Singapore and Uganda; and outreach centers in China and India. Learn more about global education at Kent State: www.kent.edu/foreverbrighter/global-education",
           17,
           1,
           null,
           4,
           null,
           null,
           null,
           24
          ],
          [
           "Our commitment to global education at Kent State isn’t just a part of our legacy – it’s in our DNA! For 50 years, we’ve cultivated a diverse array of international education experiences, making it one of our greatest assets and core competencies. We’re dedicated to shaping global citizens and fostering cross-cultural understanding for our students. Learn more about global education at Kent State: https://flashes.info/kentglobaleducation",
           12,
           1,
           null,
           6,
           null,
           null,
           null,
           22
          ],
          [
           "Happy Valentine's Day! Kent State connects people, ideas and passions. Share a favorite connection you made at Kent State and be entered to win a wireless phone charger or romantic prize package*! https://flashes.info/shareyourmemory    \n\n*Package includes a complimentary night’s stay at the KSU Hotel and Conference Center, a bottle of Kent State Ashtabula wine, wine glasses and a delicious chocolate treat from Popped!",
           17,
           0,
           null,
           0,
           null,
           null,
           null,
           4
          ],
          [
           "In today’s fast-paced and dynamic work environment, prioritizing mental health and well-being in the workforce has never been more important. Join us on Zoom for our Career Coffee Talk Thursday, March 7, at 6 p.m. for a free lecture on the critical aspects of mental health and the significance of a healthy, supportive workplace. Register on Zoom: https://flashes.info/coffeetalk24\n@[100064100679747:2048:Kent State University Counseling and Psychological Services]",
           10,
           0,
           null,
           0,
           null,
           null,
           null,
           2
          ],
          [
           "Golden Flashes, are you ready to PACK THE MACC? @[100062980701759:2048:Kent State Golden Flashes Men's Basketball] takes on The School Down the Road (Akron) in a thrilling showdown on Friday, Jan. 19, at 7 p.m. See the rivalry in person and join us for a pregame alumni reception, then cheer on our Golden Flashes to victory! Get your tickets now: https://flashes.info/packthemacc24",
           17,
           2,
           null,
           0,
           null,
           null,
           null,
           12
          ]
         ],
         "hovertemplate": "Post type=%{x}<br>Likes=%{y}<br>Description=%{customdata[0]}<br>Duration (sec)=%{customdata[1]}<br>Shares=%{customdata[2]}<br>Plays=%{customdata[3]}<br>Comments=%{customdata[4]}<br>Saves=%{customdata[5]}<br>Impressions=%{customdata[6]}<br>Reach=%{customdata[7]}<br>Reactions=%{customdata[8]}<extra></extra>",
         "legendgroup": "video",
         "marker": {
          "color": "#EF553B"
         },
         "name": "video",
         "offsetgroup": "video",
         "orientation": "v",
         "points": "all",
         "scalegroup": "True",
         "showlegend": true,
         "type": "violin",
         "x": [
          "video",
          "video",
          "video",
          "video",
          "video",
          "video",
          "video",
          "video",
          "video",
          "video",
          "video",
          "video",
          "video",
          "video",
          "video",
          "video",
          "video",
          "video",
          "video",
          "video",
          "video",
          "video",
          "video",
          "video",
          "video",
          "video",
          "video",
          "video",
          "video",
          "video",
          "video",
          "video"
         ],
         "x0": " ",
         "xaxis": "x",
         "y": [
          308,
          23,
          231,
          51,
          21,
          9,
          632,
          75,
          25,
          42,
          19,
          28,
          41,
          20,
          26,
          24,
          null,
          null,
          null,
          null,
          null,
          null,
          null,
          null,
          null,
          null,
          null,
          null,
          null,
          null,
          null,
          null
         ],
         "y0": " ",
         "yaxis": "y"
        }
       ],
       "layout": {
        "legend": {
         "title": {
          "text": "Post type"
         },
         "tracegroupgap": 0
        },
        "template": {
         "data": {
          "bar": [
           {
            "error_x": {
             "color": "#2a3f5f"
            },
            "error_y": {
             "color": "#2a3f5f"
            },
            "marker": {
             "line": {
              "color": "#E5ECF6",
              "width": 0.5
             },
             "pattern": {
              "fillmode": "overlay",
              "size": 10,
              "solidity": 0.2
             }
            },
            "type": "bar"
           }
          ],
          "barpolar": [
           {
            "marker": {
             "line": {
              "color": "#E5ECF6",
              "width": 0.5
             },
             "pattern": {
              "fillmode": "overlay",
              "size": 10,
              "solidity": 0.2
             }
            },
            "type": "barpolar"
           }
          ],
          "carpet": [
           {
            "aaxis": {
             "endlinecolor": "#2a3f5f",
             "gridcolor": "white",
             "linecolor": "white",
             "minorgridcolor": "white",
             "startlinecolor": "#2a3f5f"
            },
            "baxis": {
             "endlinecolor": "#2a3f5f",
             "gridcolor": "white",
             "linecolor": "white",
             "minorgridcolor": "white",
             "startlinecolor": "#2a3f5f"
            },
            "type": "carpet"
           }
          ],
          "choropleth": [
           {
            "colorbar": {
             "outlinewidth": 0,
             "ticks": ""
            },
            "type": "choropleth"
           }
          ],
          "contour": [
           {
            "colorbar": {
             "outlinewidth": 0,
             "ticks": ""
            },
            "colorscale": [
             [
              0,
              "#0d0887"
             ],
             [
              0.1111111111111111,
              "#46039f"
             ],
             [
              0.2222222222222222,
              "#7201a8"
             ],
             [
              0.3333333333333333,
              "#9c179e"
             ],
             [
              0.4444444444444444,
              "#bd3786"
             ],
             [
              0.5555555555555556,
              "#d8576b"
             ],
             [
              0.6666666666666666,
              "#ed7953"
             ],
             [
              0.7777777777777778,
              "#fb9f3a"
             ],
             [
              0.8888888888888888,
              "#fdca26"
             ],
             [
              1,
              "#f0f921"
             ]
            ],
            "type": "contour"
           }
          ],
          "contourcarpet": [
           {
            "colorbar": {
             "outlinewidth": 0,
             "ticks": ""
            },
            "type": "contourcarpet"
           }
          ],
          "heatmap": [
           {
            "colorbar": {
             "outlinewidth": 0,
             "ticks": ""
            },
            "colorscale": [
             [
              0,
              "#0d0887"
             ],
             [
              0.1111111111111111,
              "#46039f"
             ],
             [
              0.2222222222222222,
              "#7201a8"
             ],
             [
              0.3333333333333333,
              "#9c179e"
             ],
             [
              0.4444444444444444,
              "#bd3786"
             ],
             [
              0.5555555555555556,
              "#d8576b"
             ],
             [
              0.6666666666666666,
              "#ed7953"
             ],
             [
              0.7777777777777778,
              "#fb9f3a"
             ],
             [
              0.8888888888888888,
              "#fdca26"
             ],
             [
              1,
              "#f0f921"
             ]
            ],
            "type": "heatmap"
           }
          ],
          "heatmapgl": [
           {
            "colorbar": {
             "outlinewidth": 0,
             "ticks": ""
            },
            "colorscale": [
             [
              0,
              "#0d0887"
             ],
             [
              0.1111111111111111,
              "#46039f"
             ],
             [
              0.2222222222222222,
              "#7201a8"
             ],
             [
              0.3333333333333333,
              "#9c179e"
             ],
             [
              0.4444444444444444,
              "#bd3786"
             ],
             [
              0.5555555555555556,
              "#d8576b"
             ],
             [
              0.6666666666666666,
              "#ed7953"
             ],
             [
              0.7777777777777778,
              "#fb9f3a"
             ],
             [
              0.8888888888888888,
              "#fdca26"
             ],
             [
              1,
              "#f0f921"
             ]
            ],
            "type": "heatmapgl"
           }
          ],
          "histogram": [
           {
            "marker": {
             "pattern": {
              "fillmode": "overlay",
              "size": 10,
              "solidity": 0.2
             }
            },
            "type": "histogram"
           }
          ],
          "histogram2d": [
           {
            "colorbar": {
             "outlinewidth": 0,
             "ticks": ""
            },
            "colorscale": [
             [
              0,
              "#0d0887"
             ],
             [
              0.1111111111111111,
              "#46039f"
             ],
             [
              0.2222222222222222,
              "#7201a8"
             ],
             [
              0.3333333333333333,
              "#9c179e"
             ],
             [
              0.4444444444444444,
              "#bd3786"
             ],
             [
              0.5555555555555556,
              "#d8576b"
             ],
             [
              0.6666666666666666,
              "#ed7953"
             ],
             [
              0.7777777777777778,
              "#fb9f3a"
             ],
             [
              0.8888888888888888,
              "#fdca26"
             ],
             [
              1,
              "#f0f921"
             ]
            ],
            "type": "histogram2d"
           }
          ],
          "histogram2dcontour": [
           {
            "colorbar": {
             "outlinewidth": 0,
             "ticks": ""
            },
            "colorscale": [
             [
              0,
              "#0d0887"
             ],
             [
              0.1111111111111111,
              "#46039f"
             ],
             [
              0.2222222222222222,
              "#7201a8"
             ],
             [
              0.3333333333333333,
              "#9c179e"
             ],
             [
              0.4444444444444444,
              "#bd3786"
             ],
             [
              0.5555555555555556,
              "#d8576b"
             ],
             [
              0.6666666666666666,
              "#ed7953"
             ],
             [
              0.7777777777777778,
              "#fb9f3a"
             ],
             [
              0.8888888888888888,
              "#fdca26"
             ],
             [
              1,
              "#f0f921"
             ]
            ],
            "type": "histogram2dcontour"
           }
          ],
          "mesh3d": [
           {
            "colorbar": {
             "outlinewidth": 0,
             "ticks": ""
            },
            "type": "mesh3d"
           }
          ],
          "parcoords": [
           {
            "line": {
             "colorbar": {
              "outlinewidth": 0,
              "ticks": ""
             }
            },
            "type": "parcoords"
           }
          ],
          "pie": [
           {
            "automargin": true,
            "type": "pie"
           }
          ],
          "scatter": [
           {
            "fillpattern": {
             "fillmode": "overlay",
             "size": 10,
             "solidity": 0.2
            },
            "type": "scatter"
           }
          ],
          "scatter3d": [
           {
            "line": {
             "colorbar": {
              "outlinewidth": 0,
              "ticks": ""
             }
            },
            "marker": {
             "colorbar": {
              "outlinewidth": 0,
              "ticks": ""
             }
            },
            "type": "scatter3d"
           }
          ],
          "scattercarpet": [
           {
            "marker": {
             "colorbar": {
              "outlinewidth": 0,
              "ticks": ""
             }
            },
            "type": "scattercarpet"
           }
          ],
          "scattergeo": [
           {
            "marker": {
             "colorbar": {
              "outlinewidth": 0,
              "ticks": ""
             }
            },
            "type": "scattergeo"
           }
          ],
          "scattergl": [
           {
            "marker": {
             "colorbar": {
              "outlinewidth": 0,
              "ticks": ""
             }
            },
            "type": "scattergl"
           }
          ],
          "scattermapbox": [
           {
            "marker": {
             "colorbar": {
              "outlinewidth": 0,
              "ticks": ""
             }
            },
            "type": "scattermapbox"
           }
          ],
          "scatterpolar": [
           {
            "marker": {
             "colorbar": {
              "outlinewidth": 0,
              "ticks": ""
             }
            },
            "type": "scatterpolar"
           }
          ],
          "scatterpolargl": [
           {
            "marker": {
             "colorbar": {
              "outlinewidth": 0,
              "ticks": ""
             }
            },
            "type": "scatterpolargl"
           }
          ],
          "scatterternary": [
           {
            "marker": {
             "colorbar": {
              "outlinewidth": 0,
              "ticks": ""
             }
            },
            "type": "scatterternary"
           }
          ],
          "surface": [
           {
            "colorbar": {
             "outlinewidth": 0,
             "ticks": ""
            },
            "colorscale": [
             [
              0,
              "#0d0887"
             ],
             [
              0.1111111111111111,
              "#46039f"
             ],
             [
              0.2222222222222222,
              "#7201a8"
             ],
             [
              0.3333333333333333,
              "#9c179e"
             ],
             [
              0.4444444444444444,
              "#bd3786"
             ],
             [
              0.5555555555555556,
              "#d8576b"
             ],
             [
              0.6666666666666666,
              "#ed7953"
             ],
             [
              0.7777777777777778,
              "#fb9f3a"
             ],
             [
              0.8888888888888888,
              "#fdca26"
             ],
             [
              1,
              "#f0f921"
             ]
            ],
            "type": "surface"
           }
          ],
          "table": [
           {
            "cells": {
             "fill": {
              "color": "#EBF0F8"
             },
             "line": {
              "color": "white"
             }
            },
            "header": {
             "fill": {
              "color": "#C8D4E3"
             },
             "line": {
              "color": "white"
             }
            },
            "type": "table"
           }
          ]
         },
         "layout": {
          "annotationdefaults": {
           "arrowcolor": "#2a3f5f",
           "arrowhead": 0,
           "arrowwidth": 1
          },
          "autotypenumbers": "strict",
          "coloraxis": {
           "colorbar": {
            "outlinewidth": 0,
            "ticks": ""
           }
          },
          "colorscale": {
           "diverging": [
            [
             0,
             "#8e0152"
            ],
            [
             0.1,
             "#c51b7d"
            ],
            [
             0.2,
             "#de77ae"
            ],
            [
             0.3,
             "#f1b6da"
            ],
            [
             0.4,
             "#fde0ef"
            ],
            [
             0.5,
             "#f7f7f7"
            ],
            [
             0.6,
             "#e6f5d0"
            ],
            [
             0.7,
             "#b8e186"
            ],
            [
             0.8,
             "#7fbc41"
            ],
            [
             0.9,
             "#4d9221"
            ],
            [
             1,
             "#276419"
            ]
           ],
           "sequential": [
            [
             0,
             "#0d0887"
            ],
            [
             0.1111111111111111,
             "#46039f"
            ],
            [
             0.2222222222222222,
             "#7201a8"
            ],
            [
             0.3333333333333333,
             "#9c179e"
            ],
            [
             0.4444444444444444,
             "#bd3786"
            ],
            [
             0.5555555555555556,
             "#d8576b"
            ],
            [
             0.6666666666666666,
             "#ed7953"
            ],
            [
             0.7777777777777778,
             "#fb9f3a"
            ],
            [
             0.8888888888888888,
             "#fdca26"
            ],
            [
             1,
             "#f0f921"
            ]
           ],
           "sequentialminus": [
            [
             0,
             "#0d0887"
            ],
            [
             0.1111111111111111,
             "#46039f"
            ],
            [
             0.2222222222222222,
             "#7201a8"
            ],
            [
             0.3333333333333333,
             "#9c179e"
            ],
            [
             0.4444444444444444,
             "#bd3786"
            ],
            [
             0.5555555555555556,
             "#d8576b"
            ],
            [
             0.6666666666666666,
             "#ed7953"
            ],
            [
             0.7777777777777778,
             "#fb9f3a"
            ],
            [
             0.8888888888888888,
             "#fdca26"
            ],
            [
             1,
             "#f0f921"
            ]
           ]
          },
          "colorway": [
           "#636efa",
           "#EF553B",
           "#00cc96",
           "#ab63fa",
           "#FFA15A",
           "#19d3f3",
           "#FF6692",
           "#B6E880",
           "#FF97FF",
           "#FECB52"
          ],
          "font": {
           "color": "#2a3f5f"
          },
          "geo": {
           "bgcolor": "white",
           "lakecolor": "white",
           "landcolor": "#E5ECF6",
           "showlakes": true,
           "showland": true,
           "subunitcolor": "white"
          },
          "hoverlabel": {
           "align": "left"
          },
          "hovermode": "closest",
          "mapbox": {
           "style": "light"
          },
          "paper_bgcolor": "white",
          "plot_bgcolor": "#E5ECF6",
          "polar": {
           "angularaxis": {
            "gridcolor": "white",
            "linecolor": "white",
            "ticks": ""
           },
           "bgcolor": "#E5ECF6",
           "radialaxis": {
            "gridcolor": "white",
            "linecolor": "white",
            "ticks": ""
           }
          },
          "scene": {
           "xaxis": {
            "backgroundcolor": "#E5ECF6",
            "gridcolor": "white",
            "gridwidth": 2,
            "linecolor": "white",
            "showbackground": true,
            "ticks": "",
            "zerolinecolor": "white"
           },
           "yaxis": {
            "backgroundcolor": "#E5ECF6",
            "gridcolor": "white",
            "gridwidth": 2,
            "linecolor": "white",
            "showbackground": true,
            "ticks": "",
            "zerolinecolor": "white"
           },
           "zaxis": {
            "backgroundcolor": "#E5ECF6",
            "gridcolor": "white",
            "gridwidth": 2,
            "linecolor": "white",
            "showbackground": true,
            "ticks": "",
            "zerolinecolor": "white"
           }
          },
          "shapedefaults": {
           "line": {
            "color": "#2a3f5f"
           }
          },
          "ternary": {
           "aaxis": {
            "gridcolor": "white",
            "linecolor": "white",
            "ticks": ""
           },
           "baxis": {
            "gridcolor": "white",
            "linecolor": "white",
            "ticks": ""
           },
           "bgcolor": "#E5ECF6",
           "caxis": {
            "gridcolor": "white",
            "linecolor": "white",
            "ticks": ""
           }
          },
          "title": {
           "x": 0.05
          },
          "xaxis": {
           "automargin": true,
           "gridcolor": "white",
           "linecolor": "white",
           "ticks": "",
           "title": {
            "standoff": 15
           },
           "zerolinecolor": "white",
           "zerolinewidth": 2
          },
          "yaxis": {
           "automargin": true,
           "gridcolor": "white",
           "linecolor": "white",
           "ticks": "",
           "title": {
            "standoff": 15
           },
           "zerolinecolor": "white",
           "zerolinewidth": 2
          }
         }
        },
        "title": {
         "text": "Likes by Post Type"
        },
        "violinmode": "overlay",
        "xaxis": {
         "anchor": "y",
         "categoryarray": [
          "photo",
          "video",
          null
         ],
         "categoryorder": "array",
         "domain": [
          0,
          1
         ],
         "title": {
          "text": "Post type"
         }
        },
        "yaxis": {
         "anchor": "x",
         "domain": [
          0,
          1
         ],
         "title": {
          "text": "Likes"
         }
        }
       }
      },
      "text/html": [
       "<div>                            <div id=\"37d36af0-1d53-433d-80dc-1e54b001309a\" class=\"plotly-graph-div\" style=\"height:525px; width:100%;\"></div>            <script type=\"text/javascript\">                require([\"plotly\"], function(Plotly) {                    window.PLOTLYENV=window.PLOTLYENV || {};                                    if (document.getElementById(\"37d36af0-1d53-433d-80dc-1e54b001309a\")) {                    Plotly.newPlot(                        \"37d36af0-1d53-433d-80dc-1e54b001309a\",                        [{\"alignmentgroup\":\"True\",\"box\":{\"visible\":true},\"customdata\":[[\"Starting the new year in Golden Flash style \\ud83d\\udd76\\u26a1\",0.0,3.0,null,0.0,0.0,917.0,876.0,null],[\"Don\\u2019t miss your chance to watch a documentary that explores the story of DEVO, the iconic \\u201980s band whose origins are connected to @kentstate through Mark Mothersbaugh, \\u201970, and Gerry Casale, \\u201972. The screening will take place on the closing night of the @clefilmfest, April 13, at 7:30 p.m. Learn more at the link in our bio!\",0.0,8.0,null,1.0,2.0,1098.0,1078.0,null],[\"Monica Burgett, Ph.D. \\u201916, was named Dr. World Poland 2024! This wasn\\u2019t your typical pageant, as the competition celebrated contestants for their brilliant minds. Monica earned a doctorate in biomedical sciences and cellular molecular biology in 2016 and now works as an associate scientific director of medical communications. She entered the pageant to honor her mother Ewa who emigrated from Poland in 1980 and became a self-taught tailor. Learn more at the link in our bio!\",0.0,1.0,null,1.0,0.0,1713.0,1698.0,null],[\"In 2023, Randi McKenzie, \\u201972, was presented with the First-gen Award at Kent State and surprised with the renaming of the award in her honor \\u2013 the Randi McKenzie First-gen Award. Randi\\u2019s career in higher education spanned nearly four decades. Her teaching and service to San Diego State University led to the opportunity to direct the College of Professional Studies and Fine Arts faculty\\u002fstudent mentoring program (FSMP). In 2006, she was appointed as the Assistant Dean for Student Affairs for the college. She remains connected to Kent State through her generosity with support of the Women\\u2019s Field Hockey Team as well as the creation of an endowed scholarship for Kent State resident assistants with her husband, Thomas McKenzie, Ph.D. Learn more at the link in our bio!\",0.0,0.0,null,0.0,0.0,944.0,904.0,null],[\"Time for the Big Dance! For the first time since 2002, @kentstwbb is headed to the NCAA Tournament. Our MAC Champions and No. 15 seed Golden Flashes will take on No. 2 seed Notre Dame Fighting Irish March 23 at 2:15 p.m. EDT at Notre Dame, and it\\u2019ll be broadcast live Saturday on ESPN. Follow the link in our bio for details. Cheer on the blue and gold and share your pride below!\",0.0,2.0,null,0.0,0.0,1074.0,1064.0,null],[\"Calling all true crime lovers! Thanks to Kent State associate professor of anthropology Linda Spurlock, M.A.T. \\u201992, Ph.D. \\u201901, one John Doe missing case has a better chance of being solved. Cleveland Harbor John Doe was found in Lake Erie by boaters in 2014. Now, thanks to Spurlock\\u2019s forensic artistry, investigators have found a sketch of the man\\u2019s possible likeness. She is a specialist in facial reconstruction and noticed what the state of the man\\u2019s teeth, mouth and nose could tell us about him and what he might have looked like! Learn more at the link in our bio.\",0.0,8.0,null,0.0,2.0,1401.0,1341.0,null],[\"MAC TOURNAMENT CHAMPS! @kentstwbb defeated Buffalo 78-60 to secure its fourth MAC Tournament title and first since 2002! We are so proud of you, Golden Flashes. Share your blue and gold pride in the comments below! \\u26a1\\ufe0f\",0.0,28.0,null,10.0,0.0,2271.0,2219.0,null],[\"Way to go, Flashes! @kentstmbb has made it to the MAC Tournament Championship! After a 73-60 win over Bowling Green, the Golden Flashes advance to take on Akron tomorrow at 7:30 p.m. Before the game, stop by Flannery\\u2019s Pub for a reception at 5 p.m., then root on the blue and gold at Rocket Mortgage FieldHouse! #GoFlashes\\u26a1\\ufe0f\",0.0,2.0,null,0.0,0.0,893.0,850.0,null],[\"Yvonne Bandy, \\u201974, was one of a few Black art and design students asked to paint murals in Lowry Hall. When Yvonne returned to Kent for a Black Alumni Chapter reunion in 2016, she was excited to see that the murals had been cut out of the sheetrock wall to be displayed in Oscar Ritchie Hall. Bandy earned a master\\u2019s degree in art education from Pratt Institute and began working in New York. She later moved to New Jersey and coordinated the first associate degree in graphic design at a community college, where she remained as a professor for 31 years. Learn more at the link in our bio!\",0.0,0.0,null,0.0,1.0,586.0,575.0,null],[\"It\\u2019s another win for the blue and gold! @kentstwbb is headed to the MAC Tournament Championship! Their 65-50 victory over Ball State takes them to the conference final against Buffalo tomorrow at 11 a.m. Join us at 9:30 a.m. at Flannery\\u2019s for a pregame reception. Get your tickets at the link in our bio! #GoFlashes\\u26a1\\ufe0f\",0.0,6.0,null,0.0,0.0,905.0,879.0,null],[\"Flashes WIN! After defeating top-seeded Toledo 67-59, @kentstmbb is moving on to the MAC Tournament Semifinals! Cheer them on March 15 at 5 p.m. at Rocket Mortgage FieldHouse. Before the game, join us at Flannery\\u2019s Pub at 3 p.m. for a pregame reception! Sign up for text updates to stay up to date on all things MAC Tournament at the link in our bio! #GoFlashes\\u26a1\\ufe0f\",0.0,0.0,null,0.0,0.0,978.0,948.0,null],[\"Golden Flashes VICTORY ALERT! @kentstwbb is advancing to the MAC Tournament Semifinals after beating Northern Illinois 63-60! Cheer them on March 15 at approximately 12:30 p.m. at Rocket Mortgage FieldHouse when they take on Ball State. Before the game, join us at Flannery\\u2019s Pub at 10:30 a.m. for a pregame reception! Sign up for text updates to stay up to date on all things MAC Tournament at the link in our bio! #GoFlashes\\u26a1\\ufe0f\",0.0,0.0,null,0.0,0.0,878.0,837.0,null],[\"@kentstmbb and @kentstwbb have made it to the MAC Tournament in Cleveland March 13-16. Meet up with Golden Flash fans and alumni before the game at Flannery\\u2019s Pub to enjoy light appetizers and a cash bar before cheering your Golden Flashes to victory at Rocket Mortgage FieldHouse. Sign up for text updates about games, tickets and pregame receptions at the link in our bio!\",0.0,1.0,null,0.0,0.0,602.0,563.0,null],[\"Happy International Women's Day! Bonnie Beachy, \\u201982, is the all-time leading scorer in Kent State Men\\u2019s and Women\\u2019s Basketball\\u2019s history with 2,071 total points. She earned seven letters, four for basketball and three for tennis, and was inducted into the Kent State Varsity K Hall of Fame in 1988. She is the only female student-athlete in Kent State history to have her jersey, no. 13, retired. Bonnie passed away in 2017, but her legacy lives on with her retired jersey in the rafters of the MAC Center, a symbol of the pioneering female student-athlete who championed a golden age of basketball for the Golden Flashes. Learn more about Bonnie at the link in our bio!\",0.0,2.0,null,0.0,1.0,895.0,889.0,null],[\"\\u2728CONTEST \\u2728 Ready to hop into spring with our egg-straordinary Bunnies and Brews event on March 22? Like this post and tag 3 Kent State friends in the comments below, and you can be one of FIVE lucky winners of an extra drink ticket! \\nYou\\u2019ve got to be there to win your prize \\u2013 no \\u201cbunny\\u201d business! If you haven\\u2019t registered for Bunnies and Brews yet, head to the link in our bio now!\",0.0,3.0,null,5.0,0.0,1274.0,1091.0,null],[\"Elizabeth Bartz, \\u201980, M.A. \\u201982, is president and CEO of State and Federal Communications in Akron, Ohio. While at Kent State, she took part in the university\\u2019s Washington Program in National Issues and went on to work in Washington, D.C.. After a decade away she was ready to return home to Northeast Ohio and transformed what started out as a two-person operation into an economic driver in downtown Akron. She is also an involved alumna and generous donor to KSU. Learn more at the link in our bio!\",0.0,0.0,null,0.0,0.0,887.0,861.0,null],[\"Michael Daniels, Ph.D. \\u201922, was recently honored in the 2023 Crain\\u2019s 40 Under 40 class, which recognizes some of the best professionals making a difference in Northeast Ohio. Mike is the director of the E. Timothy Moore Student Multicultural Center at Kent State, which cultivates a sense of belonging and cultural affirmation for students in the university community. He has focused his academic research on men of color, identity development and leadership. Learn more about Mike at the link in our bio!\",0.0,2.0,null,3.0,0.0,1127.0,1066.0,null],[\"Will Matthews, \\u201919, came to Kent State on a football scholarship and was a member of the team that won the 2019 Frisco Bowl, the first-ever bowl victory in university history. While still a student, Will started Southern Comfort Kitchen in 2018 with a food truck. He then opened a restaurant in 2022 in the Highland Square neighborhood of Akron, Ohio, to bring his unique combination of Cajun flavor and southern charm to even more folks. Learn more about Will at the link in our bio!\",0.0,5.0,null,3.0,3.0,2038.0,1985.0,null],[\"As undergraduates at Kent State, Andrew \\u201cAndy\\u201d Wyatt, \\u201916, and Abby Steger, \\u201916, lived just steps away from each other, but it took a trip to Florence, Italy, for their love story to begin. The two were part of the same study abroad cohort in 2014 and began dating while there. Andy and Abby got engaged in 2022 and married in May 2023. In 2023, the couple also returned to Italy for Andy\\u2019s new role at the Kent State Florence Center, and they officially made Italy their home. Learn more about Andy and Abby at the link in our bio!\",0.0,24.0,null,2.0,4.0,3091.0,3058.0,null],[\"Alumni Award nominations are open now through Feb. 25! Kent State recognizes and honors its alumni, students and, new this year, staff who have made exceptional contributions in their chosen profession, in their communities and at KSU. Nominate a fellow Golden Flash or complete an application for yourself to be considered for our most prestigious Kent State alumni recognition today at the link in our bio!\",0.0,1.0,null,0.0,1.0,956.0,914.0,null],[\"From the moment Mariah Moorer, \\u201920, set foot on campus, she knew Kent State was where she belonged. With guidance from supportive mentors, she found her path in marketing with a minor in fashion merchandising, a unique blend that ignited her passion for the future. She took a leap of faith after graduation and moved to NYC. Now, as an integral part of the prestigious Tom Ford team, Mariah\\u2019s career trajectory speaks volumes about her resilience and drive. Learn more at the link in our bio!\",0.0,21.0,null,21.0,5.0,5298.0,4684.0,null],[\"From classroom crush to happily ever after, Rodney, \\u201974, M.A.E. \\u201975, and Laura Dillman\\u2019s love story unfolded at Kent State with a special touch: a wedding ceremony at the bottom of the Administration Building steps, officiated by Kent State University President Glen Olds in 1975! The couple\\u2019s love story continues today with two children, two grandchildren and a happy retirement in Topsail, North Carolina. Rodney spent his career as an investment lawyer, but he most recently wrote \\u201cFlowers Are Better Than Bullets: A Novel,\\u201d about the May 4, 1970, tragedy at Kent State.\",0.0,1.0,null,0.0,1.0,1787.0,1464.0,null],[\"Love is in the air! Many of our alumni have found the love of their life @kentstate. Tell us your love story and what Kent State means to you and your other half to be featured in our Kent State couples Facebook photo album at the link in our bio!\",0.0,35.0,null,7.0,5.0,3365.0,3340.0,null],[\"Tiffany Roper, \\u201907, M.Ed. \\u201912, is a two-time alumna and the owner of Snap & Flair. During the COVID quarantine in 2020, she had time for some personal reflection and an entrepreneurial spirit was ignited in her. She founded her first business Eat Speak Love in 2020. This nonprofit aimed to amplify the voices of women and minorities in business. Since then, Roper has created Oh Snap Photo Lab, a mobile photo booth rental business; Thrift Theory & Style, a personal styling company; and Tiffany Roper: On the Mic!, a speaking engagement business. Learn more at the link in our bio!\",0.0,0.0,null,1.0,0.0,1006.0,956.0,null],[\"When she walked across the stage at commencement this past December, Terrie Harris, \\u201923, realized a dream more than 25 years in the making. Life intervened often during her educational journey, but thanks to Kent State\\u2019s Regional Campus system, a diploma was finally hers. She received aBachelor of Technical and Applied Studies from the Twinsburg Academic Center after serving in the U.S. Army, raising eight children and caring for her mother. Learn more at the link in our bio!\",0.0,0.0,null,0.0,1.0,1158.0,967.0,null],[\"#MartinLutherKingJr \\ud83d\\udc99\\ud83d\\udc9b\",0.0,7.0,null,0.0,0.0,1416.0,1343.0,null],[\"Happy New Year, Golden Flashes! \\ud83d\\udc99\\ud83d\\udc9b\",0.0,13.0,null,4.0,null,null,null,151.0],[\"Don\\u2019t miss your chance to watch a documentary that explores the story of DEVO, the iconic \\u201980s band whose origins are connected to Kent State University through Mark Mothersbaugh, \\u201970, and Gerry Casale, \\u201972. The screening will take place on the closing night of Cleveland International Film Festival, April 13, at 7:30 p.m. Learn more: https:\\u002f\\u002fwww.clevelandfilm.org\\u002ffilms\\u002fdevo\",0.0,78.0,null,38.0,null,null,null,379.0],[\"Monica Burgett, Ph.D. \\u201916, was named Dr. World Poland 2024! This wasn\\u2019t your typical pageant, as the competition celebrated contestants for their brilliant minds. Monica earned a doctorate in biomedical sciences and cellular molecular biology in 2016 and now works as an associate scientific director of medical communications. She entered the pageant to honor her mother Ewa, who emigrated from Poland in 1980 and became a self-taught tailor.  Learn more: https:\\u002f\\u002fwww.kent.edu\\u002ftoday\\u002fnews\\u002fphd-international-pageant-winner-0\",0.0,1.0,null,0.0,null,null,null,69.0],[\"In 2023, Randi McKenzie, \\u201972, was presented with the First-gen Award at Kent State and surprised with the renaming of the award in her honor \\u2013 the Randi McKenzie First-gen Award. Randi\\u2019s career in higher education spanned nearly four decades. Her teaching and service to San Diego State University led to the opportunity to direct the College of Professional Studies and Fine Arts faculty\\u002fstudent mentoring program (FSMP). In 2006, she was appointed as the Assistant Dean for Student Affairs for the college. She remains connected to Kent State through her generosity with support of the Women\\u2019s Field Hockey Team as well as the creation of an endowed scholarship for Kent State resident assistants with her husband, Thomas McKenzie, Ph.D. Learn more: https:\\u002f\\u002fwww.kent.edu\\u002falumni\\u002fnews\\u002fformer-kent-state-educator-and-student-athlete-honored-first-gen-award-named-her-honor\",0.0,1.0,null,3.0,null,null,null,61.0],[\"Time for the Big Dance! For the first time since 2002, Kent State Women's Basketball is headed to the NCAA Tournament. Our MAC Champions and No. 15 seed Golden Flashes will take on No. 2 seed Notre Dame Fighting Irish March 23 at 2:15 p.m. EDT at Notre Dame, and it\\u2019ll be broadcast live Saturday on ESPN. Cheer on the blue and gold and share your pride below! \\nhttps:\\u002f\\u002fkentstatesports.com\\u002fTourney24\",0.0,11.0,null,10.0,null,null,null,103.0],[\"Calling all true crime lovers! Thanks to Kent State associate professor of anthropology Linda Spurlock, M.A.T. \\u201992, Ph.D. \\u201901, one John Doe missing case has a better chance of being solved. Cleveland Harbor John Doe was found in Lake Erie by boaters in 2014. Now, thanks to Spurlock\\u2019s forensic artistry, investigators have found a sketch of the man\\u2019s possible likeness. She is a specialist in facial reconstruction and noticed what the state of the man\\u2019s teeth, mouth and nose could tell us about him and what he might have looked like! Learn more: https:\\u002f\\u002fwww.kent.edu\\u002ftoday\\u002fnews\\u002fcracking-case-local-anthropologist-uses-forensic-art-solve-john-doe-case\",0.0,1.0,null,0.0,null,null,null,40.0],[null,0.0,5.0,null,6.0,null,null,null,77.0],[\"MAC TOURNAMENT CHAMPS! Kent State Women's Basketball defeated Buffalo 78-60 to secure its fourth MAC Tournament title and first since 2002! We are so proud of you, Golden Flashes. Share your blue and gold pride in the comments below! \\u26a1\\ufe0f\",0.0,27.0,null,44.0,null,null,null,348.0],[\"Way to go, Flashes! Kent State Golden Flashes Men's Basketball has made it to the MAC Tournament Championship! After a 73-60 win over Bowling Green, the Golden Flashes advance to take on Akron tomorrow at 7:30 p.m. Before the game, stop by Flannery\\u2019s Pub for a reception at 5 p.m., then root on the blue and gold at Rocket Mortgage FieldHouse! For more info: KentStateSports.com\\u002ftourney24 \\u26a1\\ufe0f\",0.0,54.0,null,39.0,null,null,null,380.0],[\"Yvonne Bandy, \\u201974, was one of a few Black art and design students asked to paint murals in Lowry Hall. When Yvonne returned to Kent for a Black Alumni Chapter in 2016, she was excited to see that the murals had been cut out of the sheetrock wall to be displayed in Oscar Ritchie Hall. Bandy earned a master\\u2019s degree in art education from Pratt Institute and began working in New York. She later moved to New Jersey and coordinated the first associate degree in graphic design at a community college, where she remained as a professor for 31 years. Learn more: https:\\u002f\\u002fwww.kent.edu\\u002ftoday\\u002fnews\\u002falumnas-murals-oscar-ritchie-hall-may-link-past-future\",0.0,11.0,null,23.0,null,null,null,133.0],[\"It\\u2019s another win for the blue and gold! Kent State Women's Basketball is headed to the MAC Tournament Championship! Their 65-50 victory over Ball State takes them to the conference final against Buffalo tomorrow at 11 a.m. Join us at 9:30 a.m. at Flannery\\u2019s for a pregame reception. For more info: KentStateSports.com\\u002ftourney24 \\u26a1\\ufe0f\",0.0,23.0,null,31.0,null,null,null,421.0],[\"Flashes WIN! After defeating top-seeded Toledo 67-59, Kent State Golden Flashes Men's Basketball is moving on to the MAC Tournament Semifinals! Cheer them on March 15 at 5 p.m. at Rocket Mortgage FieldHouse. Before the game, join us at Flannery\\u2019s Pub at 3 p.m. for a pregame reception! Sign up for text updates to stay up to date on all things MAC Tournament! \\nhttps:\\u002f\\u002fconnect.kent.edu\\u002fregister\\u002fmac-tournament-notifications\",0.0,41.0,null,61.0,null,null,null,478.0],[\"Golden Flashes VICTORY ALERT! Kent State Women's Basketball is advancing to the MAC Tournament Semifinals after beating Northern Illinois 63-60! Cheer them on March 15 at approximately 12:30 p.m. at Rocket Mortgage FieldHouse when they take on Ball State. Before the game, join us at Flannery\\u2019s Pub at 10:30 a.m. for a pregame reception! Sign up for text updates to stay up to date on all things MAC Tournament! https:\\u002f\\u002fconnect.kent.edu\\u002fregister\\u002fmac-tournament-notifications\",0.0,10.0,null,23.0,null,null,null,252.0],[\"Kent State Golden Flashes Men's Basketball and Kent State Women's Basketball  have made it to the MAC Tournament in Cleveland March 13-16. Meet up with Golden Flash fans and alumni before the game at Flannery\\u2019s Pub to enjoy light appetizers and a cash bar before cheering your Golden Flashes to victory at Rocket Mortgage FieldHouse. Sign up for text updates about games, tickets and pregame receptions: https:\\u002f\\u002fflashes.info\\u002fmactournament24\",0.0,2.0,null,6.0,null,null,null,37.0],[\"Happy International Women's Day! Bonnie Beachy, \\u201982, is the all-time leading scorer in Kent State Men\\u2019s and Women\\u2019s Basketball history with 2,071 total points. She earned seven letters, four for basketball and three for tennis, and was inducted into the Kent State Varsity K Hall of Fame in 1988. She is the only female student-athlete in Kent State history to have her jersey, no. 13, retired. Bonnie passed away in 2017, but her legacy lives on with her retired jersey in the rafters of the MAC Center, a symbol of the pioneering female student-athlete who championed a golden age of basketball for the Golden Flashes. Learn more about Bonnie: https:\\u002f\\u002fkentstatesports.com\\u002fhonors\\u002fhall-of-fame\\u002fbonnie-beachy\\u002f76\",0.0,35.0,null,106.0,null,null,null,650.0],[\"\\u2728CONTEST \\u2728 Ready to hop into spring with our egg-straordinary Bunnies and Brews event on March 22? Like this post and tag 3 Kent State friends in the comments below, and you can be one of FIVE lucky winners of an extra drink ticket! \\nYou\\u2019ve got to be there to win your prize \\u2013 no bunny business! If you haven\\u2019t yet, register for Bunnies and Brews now: https:\\u002f\\u002fflashes.info\\u002fbunniesandbrews24\",0.0,0.0,null,10.0,null,null,null,30.0],[\"Elizabeth Bartz, \\u201980, M.A. \\u201982, is president and CEO of State and Federal Communications in Akron, Ohio. While at Kent State, she took part in the university\\u2019s Washington Program in National Issues and went on to work in Washington, D.C.. After a decade away she was ready to return home to Northeast Ohio and transformed what started out as a two-person operation into an economic driver in downtown Akron. She is also an involved alumna and generous donor to KSU. Learn more: https:\\u002f\\u002fflashes.info\\u002fElizabethBartz\",0.0,3.0,null,8.0,null,null,null,41.0],[null,0.0,2.0,null,0.0,null,null,null,5.0],[null,0.0,0.0,null,0.0,null,null,null,49.0],[\"Michael Daniels, Ph.D. \\u201922, was recently honored in the 2023 Crain\\u2019s 40 Under 40 class, which recognizes some of the best professionals making a difference in Northeast Ohio. Mike is the director of the E. Timothy Moore Student Multicultural Center at Kent State, which cultivates a sense of belonging and cultural affirmation for students in the university community. He has focused his academic research on men of color, identity development and leadership. Learn more about Mike: www.kent.edu\\u002fstudentlife\\u002fnews\\u002fdream-come-true\",0.0,3.0,null,3.0,null,null,null,84.0],[\"Will Matthews, \\u201919, came to Kent State on a football scholarship and was a member of the team that won the 2019 Frisco Bowl, the first-ever bowl victory in university history. While still a student, Will started Southern Comfort Kitchen in 2018 with a food truck. He then opened a restaurant in 2022 in the Highland Square neighborhood of Akron, Ohio, to bring his unique combination of Cajun flavor and southern charm to even more folks. Learn more about Will: www.kent.edu\\u002falumni\\u002fnews\\u002fwill-matthews-19\",0.0,11.0,null,14.0,null,null,null,317.0],[\"As undergraduates at Kent State, Andrew \\u201cAndy\\u201d Wyatt, \\u201916, and Abby Steger, \\u201916, lived just steps away from each other, but it took a trip to Florence, Italy, for their love story to begin. The two were part of the same study abroad cohort in 2014 and began dating while there. Andy and Abby got engaged in 2022 and married in May 2023. In 2023, the couple also returned to Italy for Andy\\u2019s new role at the Kent State Florence Center, and they officially made Italy their home. Learn more about Andy and Abby: https:\\u002f\\u002fflashes.info\\u002fandywyatt\",0.0,0.0,null,3.0,null,null,null,65.0],[\"Douglas, '68, and Linda, '69, Smith \\n\\nYour Story \\nIn October of 1966, my AXO sorority sister and Doug\\u2019s S? fraternity brother arranged for us to go on a blind date. I lived in Beall Hall and he lived in McDowell, which was very convenient. I remember meeting him in the lounge and watching movies. Of course, we were into the music scene downtown as well. We absolutely loved eating pizza at Montoni\\u2019s-greasy to the last bite!\\n\\nThe Proposal and Marriage \\nI don\\u2019t think there really was  a proposal. It was just a certainty that we were going to get married. My engagement ring was his grandmother\\u2019s diamond, which made it extra special. We had a wonderful marriage for 37 years until his passing in December of 2005. I\\u2019ve never even thought of remarrying because Doug was \\u201cthe one\\u201d.\\n\\nHow do you and your spouse stay connected to Kent State as alumni?\\nWe lived in many states after marrying, but always followed KSU news. We were able to attend one homecoming when we lived in Detroit. I'm going to be meeting with 10 AXO sisters in May for a mini reunion.\",0.0,0.0,null,11.0,null,null,null,59.0],[\"Mark, '94, and Sharon, '93, Bird \\n\\nYour Story \\nMy roommate and my husband\\u2019s roommate were dating and my roommate set us up on a blind date.  Our first date was to a haunted house in October 1993 and I was graduating in December of same year.  Things were going so well I decided to stay in my apartment after I graduated for 2 extra months to spend more time with my now husband and drove him to classes.  We dated long distance for a while and then we got engaged.  We have been married for almost 27 years now and have 3 wonderful children ages 21, 19 and 17.\\n\\nThe Proposal and Marriage \\nMark proposed to me when we were on a trip to Toronto, Canada.  We went to see Phantom of the Opera and out to a fancy dinner.  He proposed on the balcony of our hotel room.  Then we went to an all you can eat dessert buffet (my dream meal!) and my stomach was so nervous after that I could barely eat anything!\\n\\nHow do you and your spouse stay connected to Kent State as alumni?\\nMark was on the Track and Field team and loved with many of his teammates while in college.  We both still keep in touch with them, as well as I keep in touch with many of my sorority sisters (Chi Omega)!\",0.0,0.0,null,4.0,null,null,null,21.0],[\"Bill, '82, and Heather, '81, Sedlacek\\n\\nYour Story \\nWe met at Wills Gym in Rudy Bacna\\u2019s dance class. Had a couple of recreation classes together as well. Bill asked me to be his dance partner and we are still together 44 years later.\\n\\nHow do you and your spouse stay connected to Kent State as alumni?\\nI participate in alumni events!\",0.0,2.0,null,4.0,null,null,null,77.0],[\"Jeff, '01, and Lauren, '01 Blanc\\n\\nYour Story \\nWe met in Terrace Hall in 1997.  Our hometowns were not that far away, so in 1998 we got to know each other more and we just connected.  I joined Alpha Tau Omega in 1997 and Lauren joined Tri-Sigma in 1998.  Both of us were active in our fraternity\\u002fsorority at Kent State.  We enjoyed the Greek life and loved our old dorm, Terrace.  We celebrated 20 years of marriage in 2023 - had dinner in Kent June 2023 was sad to not see our beloved Terrace anymore but will always have the memories! Lauren also did flag line for Kent State in 1997\\u002f98 so I enjoyed going to the games to watch her!  The attached picture is a week in to us dating in 1998 at the Kent State Student Center for the Greek Song Fest!\\n\\nThe Proposal and Marriage \\nHer sorority has a special ceremony for the women who get engaged. I knew that meant something to Lauren - I planned to propose but wanted to do it before she graduated May 2001. After the Tri Sigma formal that spring I proposed to Lauren at Summit Hill Apartments.  It was a special moment for us and for her sorority! Many of her sisters and my brothers attended our wedding in 2003.\\n\\nHow do you and your spouse stay connected to Kent State as alumni?\\nI get some KSU emails and make it a goal to attend Homecoming each year.  A good friend of mine is a KSU board member.\",0.0,1.0,null,6.0,null,null,null,61.0],[\"Dennis, '10, and Carrie, '11 Quigney \\n\\nYour Story\\nI met Carrie in passing late in 2008, but it wasn't until one faithful evening in February of 2010 where I met Carrie again at a going away party of a close friend of mine. I was having the time of life and ended up somehow wearing ski goggles for most of the get together. The goggles must have worked because she has been by my side ever since! Our love first blossomed in Kent at Eagles Landing and we have continued to soar since fleeing the coop. Kent State being the backdrop to the early days of our relationship will always hold a special place in our hearts!\\n\\nHow do you and your spouse stay connected to Kent State as alumni?\\nLiving outside Cleveland, we now make periodic trips with our kids to show them where it all began!\",0.0,1.0,null,11.0,null,null,null,78.0],[\"Eddie, '09, and Maureen, '04, '12, Ph.D.\\n\\nYour Story\\nMaureen Drinkard and I were just outside of each others Venn diagram. Our mutual friends dated and we never crossed paths in a meaningful way. It wasn\\u2019t until i had just graduated and she was finishing up her doctorate at Kent. She was an adjunct professor for Kent as well. We met at scribbles coffee and had our first dates at the local Kent restaurants and bars. Our first kiss was at the gazebo on Franklin. We went on to buy and live in the Bailey Clegg law firm house on Columbus St. Our connection to Kent was so strong we gave our first child together Kent as a middle name. Our oldest daughter is currently finishing her masters degree at Kent.\\n\\nThe Proposal and Marriage \\nI proposed on one of our trips to hocking hills. We were married in acorn alley by Main Street Kent\\u2019s very own Keleigh Zucchero, who I also met as a Kent state student. We had a reception at Laziza, and finished the night by renting the third floor of the Zephyr for an amazing party.\\n\\nHow do you and your spouse stay connected to Kent State as alumni?\\nOur first child together bears the middle name Kent, our oldest child is graduating with a masters degree from Kent this spring, and my real estate team sponsors events in Kent, so we visit often.\",0.0,0.0,null,0.0,null,null,null,32.0],[\"Matthew, '98, and Kim, '98, Yedlick\\n\\nYour Story\\nSmall Group, Altman Hall 1992....in true Joey from Friends fashion,  Matthew's friend looked down to my friend group and me,  and said \\\"How you doing?\\\" I quickly replied, \\\"Who's your friend!?\\\" The rest is history.\\n\\nThe Proposal and Marriage \\nWe dated throughout our years at KSU, and finally tied the knot in 1999. We have 2 kids, our son felt that same connection to the Kent Campus, where he now calls home. Our daughter will soon be headed off to OU, another campus everyone seems to love. When we are empty nesters, Matthew says he wants to go back to KSU, maybe rush a frat this time around and get his Masters.  \\n\\nHow do you and your spouse stay connected to Kent State as alumni?\\nAs the kids were growing, we always took them to beautiful front campus for family pictures! I guess those visits had an ulterior motive, we hoped our kids would fall in love with Kent like we did. Now we go back for homecoming, and love Dogs Days walks with our pups. It's always a family affair. We still have the same close circle of friends that we met that year in Small Group, and still feel a strong connection to Kent State.\",0.0,0.0,null,0.0,null,null,null,23.0],[\"Mike, '06, and Sara, '06, Rumer\\n\\nYour Story \\nWe met through mutual friends in the Fall of 2003 and ran into each other at a New Year\\u2019s party a couple of months later. It was until Valentine\\u2019s Day 2004 that we saw each other again and I was so nervous to talk to her. When she walked by, a friend of mine bumped me into her and from that moment on, we have been inseparable.\\n\\nThe Proposal and Marriage \\nIn 2006, I proposed to her at the very spot we met back in 2003 outside of Merrill Hall. We were supposed to go to dinner first but I was so nervous\\u002fanxious that I told her I wanted to go for a walk first. We were married in 2008 and will be celebrating 16 years of marriage later this summer.\\n\\nHow do you and your spouse stay connected to Kent State as alumni?\\nWe have two daughters and we talk to them constantly about our time at Kent and how it was the best years of our lives. We have taken them to campus a few times to show our local hangouts.\",0.0,0.0,null,0.0,null,null,null,28.0],[\"Alumni Award nominations are open now through Feb. 25! Kent State recognizes and honors its alumni, students and, new this year, staff who have made exceptional contributions in their chosen profession, in their communities and at KSU. Nominate a fellow Golden Flash or complete an application for yourself to be considered for our most prestigious Kent State alumni recognition today! Nominate: www.kent.edu\\u002fnominatealumni\",0.0,2.0,null,0.0,null,null,null,7.0],[\"From the moment Mariah Moorer, \\u201920, set foot on campus, she knew Kent State was where she belonged. With guidance from supportive mentors, she found her path in marketing with a minor in fashion merchandising, a unique blend that ignited her passion for the future. She took a leap of faith after graduation and moved to NYC. Now, as an integral part of the prestigious Tom Ford team, Mariah\\u2019s career trajectory speaks volumes about her resilience and drive. Learn more: https:\\u002f\\u002fflashes.info\\u002fmariahmoorer\",0.0,0.0,null,2.0,null,null,null,56.0],[\"From classroom crush to happily ever after, Rodney, \\u201974, M.A.E. \\u201975, and Laura Dillman\\u2019s love story unfolded at Kent State with a special touch: a wedding ceremony at the bottom of the Administration Building steps, officiated by Kent State University President Glen Olds in 1975! The couple\\u2019s love story continues today with two children, two grandchildren and a happy retirement in Topsail, North Carolina. Rodney spent his career as an investment lawyer, but he most recently wrote \\u201cFlowers Are Better Than Bullets: A Novel,\\u201d about the May 4, 1970, tragedy at Kent State.\",0.0,1.0,null,48.0,null,null,null,205.0],[\"Gregory, '94, and Lynne, '92, Aliberti \\n\\nYour Story\\nWe met through friends and had a class together then started spending more time studying and hiking. Our first date was downtown Kent to see a movie. We have so many memories of fun times on campus!\\n\\nThe Proposal and Marriage\\nAfter college we had an apartment in Little Italy. Greg proposed on my birthday in 1996. I said yes!\\n\\nHow do you and your spouse stay connected to Kent State as alumni?\\nWe love to visit our daughter who is currently a senior in interior design. We enjoy seeing how the campus and downtown has grown!\",0.0,1.0,null,22.0,null,null,null,140.0],[\"Jon, '16, and Kim, '14, Haag\\n\\nYour Story\\nJon and I met at a party at Kent my freshman year of college in 2012. We were both wearing stripes, and he came up to me and said, \\u201cHey, I like your stripes.\\u201d We started dancing and quickly made a connection. Our first date was at the wonderful Taco Tontos, and the rest is history. He is truly my best friend, and I love spending my life with him. We do everything together, including our favorite hobby which is musky fishing. He\\u2019s the greatest person I\\u2019ve ever met, and we are eternally grateful that we met at Kent!\\n\\nThe Proposal and Marriage \\nJon and I visited Kent, which was a normal occurrence in 2019, so I thought nothing of it! We went to Taco Tontos, the place we had our first date, and walked around campus. We were laughing and reminiscing about our college days. By the time we arrived at the Kent fountain at the student center, he got down on one knee and proposed. It was the easiest yes! We scheduled our wedding for October of 2020 but had to be delayed due to COVID. We got married on October 16, 2021, and it truly was the best day of our lives!!\\n\\nHow do you and your spouse stay connected to Kent State as alumni?\\nI am full time nursing faculty at Kent, so we stay very well connected! I love working for Kent and couldn't be happier! It's definitely a bonus that I can bring Jon home some Taco Tontos after work!\",0.0,2.0,null,11.0,null,null,null,42.0],[\"Kalif Vaughn, '15, and Aubrey Moe, '15\\n\\nYour Story\\nAubrey and Kalif met when they both began PhD programs in the Kent State University Department of Psychology in 2009. Aubrey was studying Clinical Psychology and Kalif was studying Cognitive Psychology, but they had shared classes in statistics that allowed them to connect. \\n\\nThe Proposal and Marriage \\nAfter dating for two years, they got married in Cleveland in 2013 at the Cleveland Botanical Gardens - which was also attended by more than 20 other students and faculty from the Kent State Psychology Department! After graduation in 2015, Aubrey and Kalif set-off on a series of adventures and opportunities spanning California, Massachusetts, Kentucky, and back to Ohio! Despite living in so many places, they never lost their love for Kent and would frequently visit to relive their fond memories and the place that brought them together. Now, Aubrey is faculty psychologist at The Ohio State University, and Kalif is tenured faculty at Northern Kentucky University. They still find time to visit Kent - and now bring along Norah, their young daughter - who is hopefully a future Golden Flash!\\n\\nHow do you and your spouse stay connected to Kent State as alumni?\\nVisiting campus, visiting Kent, maintaining collaborations\",0.0,1.0,null,15.0,null,null,null,146.0],[\"Scott, '96, and Laurie, '98, Liechty \\n\\nYour Story\\nScott and I met while we both worked at the Campus Bus Service as drivers. I started to notice him while we would pass each other driving.  A friend of mine from nursing school who also drove mentioned my name to Scott.  I would schedule my shifts so I would take over his route when he was done and be his relief driver. We would see each other at the student center often .  On a Friday afternoon we were both driving the Stadium route and my bus pulled up behind his during a layover . He got out of his bus to talk to me and asked me on a date . For our wedding instead of a limo we had a decorated Campus bus.\\n\\nThe Proposal and Marriage \\nScott and I met while we both worked at the Campus Bus Service as drivers. I started to notice him while we would pass each other driving.  A friend of mine from nursing school who also drove mentioned my name to Scott.  I would schedule my shifts so I would take over his route when he was done and be his relief driver. We would see each other at the student center often .  On a Friday afternoon we were both driving the Stadium route and my bus pulled up behind his during a layover . He got out of his bus to talk to me and asked me on a date . For our wedding instead of a limo we had a decorated Campus bus.\\n\\nHow do you and your spouse stay connected to Kent State as alumni?\\nMy parents still live in Kent so we visit often.  We have gone to sporting events as some of our close friends have children that play or played for Kent . We often go to dinner in Kent. I had absolutely the best time as a student at Kent State!\",0.0,0.0,null,0.0,null,null,null,38.0],[\"Kile, '21, and Casey, '19, Webb \\n\\nYour Story \\nKile and I met at the Welcome Weekend Ice Cream Social in Lake Hall in 2017. We started dating in January of 2018. We loved going to skate nights at the ice rink, going to football and basketball games, and of course Kiss on the K!\\n\\nThe Proposal and Marriage \\nKile surprised me with a beautiful proposal on The K in October of 2020! He got down on one knee while our closest friends were hiding around plaza taking pictures and he even arranged to have drone footage!\\n\\nWe had a blue and gold wedding on November 26, 2022 at the Barn on Enchanted Acres. It was such a special night being surrounded by our friends, family and of course other Golden Flashes. We are grateful to have met our soul mates at our favorite place on the planet! We have a future Golden Flash on the way, expected to arrive July 2024!\\n\\nHow do you and your spouse stay connected to Kent State as alumni?\\nWe participate in local alumni events, attend homecoming festivities and visit Kent whenever we have a free weekend.\",0.0,4.0,null,7.0,null,null,null,173.0],[\"Joe, '05, and Jenna, '09, Lilak\\n\\nYour Story\\nIt was 2007 and I (Jenna) just transferred to KSU from Univ of Toledo, it was my first time at Ray\\u2019s place. I was sitting at the bar and noticed a cute guy (Joe) sitting at a table by the door. He got up to use the bathroom and I asked my friend if she dared me to sit in his seat. He was a little annoyed thinking his friends had called me over. I told him I was moving to Los Angeles after graduation to pursue a career in entertainment PR and he said \\u201coh I live in LA!\\u201d I thought yea right. But he showed me his license (he was a KSU alum, class of \\u201805) and told me he was in town visiting family and friends. We spent the rest of the night talking about his LA life. We closed out Rays and he walked me to my car, we exchanged numbers and as soon as he left I called my mom to tell her \\u201cI met the guy I\\u2019m going to marry!\\u201d \\n\\nThe Proposal and Marriage \\nWe got engaged in Central Park and we got married at the Lake Erie Building in Lakewood, Ohio! We went back to Ray\\u2019s Place for our 1 year anniversary!!\\n\\nHow do you and your spouse stay connected to Kent State as alumni?\\nWe stay in touch with fellow alumni and Jenna occasionally speaks to the Public Relations students and the PR student association.\",0.0,0.0,null,6.0,null,null,null,59.0],[\"Aaron, '99, and Amy, '00, Gongaware\\n\\nYour Story \\nWe met in Fall of 1996 while I lived in Engleman Hall and Aaron worked security for Front Campus. \\nIn the Fall of 1997 our paths crossed again while I was an RA in Koonce Hall and he was working security for Tri Towers area. We started dating December 3rd 1997 and never looked back.\\n\\nThe Proposal and Marriage \\nWe got engaged on December 3rd 2001 and were married on August 3rd 2002 after Aaron graduated law school. \\nWe bought our first house in 2004 and have lived here since then.  We have two children who we love to share our KSU stories with. 26 years later and we are still so thankful KSU brought us together.\\n\\nHow do you and your spouse stay connected to Kent State as alumni?\\nWe try to take our children to sporting events as often as we can. We love to visit campus and walk around. We had hoped our daughter would be attending there in the Fall, but unfortunately they did not have her major. Maybe our son will end up there.\",0.0,1.0,null,17.0,null,null,null,192.0],[\"Cameron Davus, '20, Victoria Lorenzon, '22\\n\\nYour Story\\nCameron and I met through the airport! He was my instrument instructor in 2020. After he left for the airlines we didn\\u2019t talk much, but began talking more in 2022. After a night visiting our favorite bars, our spark was ignited. We are so thankful for our paths crossing during our times at Kent. Working together created a really close bond. We have since moved to Cincinnati together but frequently stay involved with the Kent State flight team as coaches.\\n\\nHow do you and your spouse stay connected to Kent State as alumni?\\nWe stay connected as coaches for the Kent state precision flight team!\",0.0,0.0,null,0.0,null,null,null,21.0],[\"Daniel, '99, and Brandy, '99, Marks\\n\\nYour Story\\nDan and I are both really big believers in fate and how it brought us together in the Fall of 1994 at Kent State. Had one little thing been different, we never would have met! I was from North Carolina and took a gap year before coming to Kent so I was slightly older than Dan. Dan was from Pennsylvania and came to Kent which was against his parents wishes who wanted him to stay closer to home. Dan also requested to be put into Verder since he was a graphic design major but was assigned Altman Hall in Small Group where I was also assigned. Because we were both from out-of-state, we found ourselves inadvertently thrown together with the handful of others that could not go home on the weekends. We started hanging out and have been together ever since! It will be 30 years this fall since we met at Kent State!\\n\\nThe Proposal and Marriage \\nDan proposed to me over Spring Break our junior year in 1997 while we were visiting my Father who was stationed in San Francisco! My Dad lived on Treasure Island in the barracks and Dan proposed on the rooftop patio at night with the San Francisco skyline in the background. We were 21 years old which feels so young now! We graduated in May of 1999 and got married a week later in St. Thomas and moved to Cuyahoga Falls a month later. We are celebrating 25 years of marriage this May and 30 years this August since we met! It's been a whirlwind and hard to believe so much time has gone by!\\n\\nHow do you and your spouse stay connected to Kent State as alumni?\\nWe've lived in Cuyahoga Falls (15-20 min away) since we graduated so we have always been close to come back for visits. I also started working at Kent in 2018 and now work in Financial Aid. Our daughter is also a sophomore at Kent and our son will be attending Fall of 2025. We are definitely a Kent State family in every way!\",0.0,1.0,null,8.0,null,null,null,101.0],[\"Robert, '00, and Alison, '99, '10, Hoskinson\\n\\nYour Story \\nI started out going to Kent State East Liverpool campus. I met my wife at Kent State Salem campus. She was living and attending Ohio State University. I was attending Kent State Main campus. We started dating and she moved back to Columbiana. I received my associate's degree from Kent State Salem. We got engaged in 2003 at the exact spot where we met. We took engagement pictures at this spot at Kent Salem. We married in 2004 and took wedding pictures at Kent State Salem campus. My wife got her master's degree at Kent State Trumbull campus. She has been working for Kent State Trumbull for over 20 years. I earned my Addiction Counseling Certification from Kent State Trumbull. Kent State has been a huge part of our life. Our 11 year old daughter, Paige talks about how she wants to attend Kent State University someday. Go Flashes!\\n\\nThe Proposal and Marriage \\nWe met at Kent State Salem. We then got engaged at Kent State Salem. We took our engagement and wedding photos at the exact spot we met.\\n\\nHow do you and your spouse stay connected to Kent State as alumni?\\nMy wife works at Kent State Trumbull. I still attend KSU but had to not take classes this semester as my mom passed away February 1st of this year.\",0.0,0.0,null,0.0,null,null,null,40.0],[\"Raymond, '03, and Justine, '04, Peltz\\n\\nYour Story\\nMet my husband back in March of 2004 in my final year at Kent State University through some mutual friends. Although he already graduated from Kent in 2003. It's always been an important part of our story especially finding out one of my good friends who I met when her and I were roommates actually knew him from some of her classes a year before him and I met. Talk about a small world. It was meant to be! We've been together 20 years this April.\\n\\nThe Proposal and Marriage\\nMy husband proposed to me on St. Patrick's Day 2011 a couple weeks before he was deployed to Afghanistan and we were married on September 21, 2013. We now have beautiful almost 4 year old twin boys.\\n\\nHow do you and your spouse stay connected to Kent State as alumni?\\nWe have visited the campus a few times since then and we've gone out to Mike's Place for dinner. We hope to take our boys there to see it too sometime soon.\",0.0,1.0,null,3.0,null,null,null,28.0],[\"Daniel, '19, and Micayla, '18, '19, Berger\\n\\nYour Story\\nWe met in 2016 while members of Alpha Phi Omega (APO) service fraternity and began dating in 2017. We loved to attend KSU football games, Flash Fest, and Kent Oktoberfest. We are so grateful for KSU helping us find our soulmate.\\n\\nThe Proposal and Marriage\\nWe got engaged in October 2020 in the Great Smoky Mountains National Park and got married September 9, 2023 in downtown Akron at St. Bernard Catholic Church. Our reception was in Kent at The Event on Sunnybrook. Our absolute favorite part of our wedding day was stopping at Ray\\u2019s Place in between our ceremony and reception to have long islands with our bridal party.\\n\\nHow do you and your spouse stay connected to Kent State as alumni?\\nWe still frequently stop and walk around campus together when we're in the area to reminisce and see all the new changes happening around campus.\",0.0,0.0,null,4.0,null,null,null,94.0],[\"Sam, '00, and Cindy, '02, Murdock\\n\\nYour Story\\nI lived with friends on University Dr. My husband was friends with one of my neighbors. It was New Year's Day 1999 and he was at my neighbors house watching the Rose Bowl. I never thought going next door to harass my neighbors that day I would meet my future husband! We were inseparable from that day forward. We were engaged 6 months later, married in 2001, moved out of state in 2002 and had our first son in 2009.\\n\\nThe Proposal and Marriage\\nThe summer of 1999, my husband proposed in our little apartment in Kent. In 2001, we got married at Faith Lutheran Church right across the street from campus. Following our graduations, we moved to KY for our jobs. We have built our home in KY but still visit Kent at least once a year! We have two boys ages 12 & 15. This August we will celebrate our 23 year wedding anniversary!\\n\\nHow do you and your spouse stay connected to Kent State as alumni?\\nAs a former KSU wrestler, my husband is still very involved with recruiting to their program and staying connected\",0.0,1.0,null,3.0,null,null,null,73.0],[\"Birds of a feather create legacies forever! We are celebrating our Kent State alumni couples this Valentine\\u2019s Day. If you met your other half at Kent State, share your story (and a photo) with us here to be featured in our couples album! https:\\u002f\\u002fflashes.info\\u002fKSUCouples\",0.0,2.0,null,19.0,null,null,null,30.0],[\"Love is in the air! Many of our alumni have found the love of their life at Kent State University. Tell us your love story and what Kent State means to you and your other half to be featured in our Kent State couples Facebook photo album: https:\\u002f\\u002fflashes.info\\u002fKSUCouples\",0.0,5.0,null,65.0,null,null,null,164.0],[\"Tiffany Roper, \\u201907, M.Ed. \\u201912, is a two-time alumna and the owner of Snap & Flair. During the COVID quarantine in 2020, she had time for some personal reflection and an entrepreneurial spirit was ignited in her. She founded her first business Eat Speak Love in 2020. This nonprofit aimed to amplify the voices of women and minorities in business. Since then, Roper has created Oh Snap Photo Lab, a mobile photo booth rental business; Thrift Theory & Style, a personal styling company; and Tiffany Roper: On The Mic!, a speaking engagement business. Learn more: https:\\u002f\\u002fflashes.info\\u002ftiffanyroper\",0.0,2.0,null,3.0,null,null,null,28.0],[null,0.0,4.0,null,11.0,null,null,null,18.0],[\"When she walked across the stage at commencement this past December, Terrie Harris, \\u201923, realized a dream more than 25 years in the making. Life intervened often during her educational journey, but thanks to Kent State\\u2019s Regional Campus system, a diploma was finally hers. She received a Bachelor of Technical and Applied Studies from the Twinsburg Academic Center after serving in the U.S. Army, raising eight children and caring for her mother. Learn more: https:\\u002f\\u002fwww.kent.edu\\u002ftoday\\u002fnews\\u002fpromise-kept\",0.0,4.0,null,15.0,null,null,null,143.0],[\"#MartinLutherKingJr \\ud83d\\udc99\\ud83d\\udc9b\",0.0,29.0,null,10.0,null,null,null,240.0],[\"Congratulations to Nick Saban, '73, M.Ed. '75, on his retirement! #FlashesForever \\u26a1\\ufe0f\",0.0,51.0,null,17.0,null,null,null,369.0]],\"hovertemplate\":\"Post type=%{x}\\u003cbr\\u003eLikes=%{y}\\u003cbr\\u003eDescription=%{customdata[0]}\\u003cbr\\u003eDuration (sec)=%{customdata[1]}\\u003cbr\\u003eShares=%{customdata[2]}\\u003cbr\\u003ePlays=%{customdata[3]}\\u003cbr\\u003eComments=%{customdata[4]}\\u003cbr\\u003eSaves=%{customdata[5]}\\u003cbr\\u003eImpressions=%{customdata[6]}\\u003cbr\\u003eReach=%{customdata[7]}\\u003cbr\\u003eReactions=%{customdata[8]}\\u003cextra\\u003e\\u003c\\u002fextra\\u003e\",\"legendgroup\":\"photo\",\"marker\":{\"color\":\"#636efa\"},\"name\":\"photo\",\"offsetgroup\":\"photo\",\"orientation\":\"v\",\"points\":\"all\",\"scalegroup\":\"True\",\"showlegend\":true,\"x\":[\"photo\",\"photo\",\"photo\",\"photo\",\"photo\",\"photo\",\"photo\",\"photo\",\"photo\",\"photo\",\"photo\",\"photo\",\"photo\",\"photo\",\"photo\",\"photo\",\"photo\",\"photo\",\"photo\",\"photo\",\"photo\",\"photo\",\"photo\",\"photo\",\"photo\",\"photo\",\"photo\",\"photo\",\"photo\",\"photo\",\"photo\",\"photo\",\"photo\",\"photo\",\"photo\",\"photo\",\"photo\",\"photo\",\"photo\",\"photo\",\"photo\",\"photo\",\"photo\",\"photo\",\"photo\",\"photo\",\"photo\",\"photo\",\"photo\",\"photo\",\"photo\",\"photo\",\"photo\",\"photo\",\"photo\",\"photo\",\"photo\",\"photo\",\"photo\",\"photo\",\"photo\",\"photo\",\"photo\",\"photo\",\"photo\",\"photo\",\"photo\",\"photo\",\"photo\",\"photo\",\"photo\",\"photo\",\"photo\",\"photo\",\"photo\",\"photo\",\"photo\",\"photo\",\"photo\"],\"x0\":\" \",\"xaxis\":\"x\",\"y\":[88.0,62.0,61.0,41.0,70.0,62.0,350.0,67.0,29.0,87.0,76.0,66.0,16.0,41.0,65.0,49.0,89.0,185.0,201.0,39.0,472.0,87.0,284.0,41.0,75.0,78.0,null,null,null,null,null,null,null,null,null,null,null,null,null,null,null,null,null,null,null,null,null,null,null,null,null,null,null,null,null,null,null,null,null,null,null,null,null,null,null,null,null,null,null,null,null,null,null,null,null,null,null,null,null],\"y0\":\" \",\"yaxis\":\"y\",\"type\":\"violin\"},{\"alignmentgroup\":\"True\",\"box\":{\"visible\":true},\"customdata\":[[\"The first female president of any public college or university in Ohio was Carol Cartwright, Ph.D., who became @kentstate\\u2019s first female president in 1991. She was passionate about eliminating barriers for aspiring college students and decreasing gender inequities in programming, athletics and other areas at the university level. Learn more at the link in our bio!\",44.0,13.0,4499.0,15.0,6.0,3194.0,3164.0,null],[\"Aleisha Moore, Ph.D., is exploring how the brain can influence hormones and fertility. One area of research for Moore is Polycystic Ovary Syndrome (PCOS), a condition that affects nearly 10% of women. Despite the prevalence and seriousness of PCOS, the funding for research into this disease is scarce, making Moore, assistant professor in the Department of Biological Sciences @kentstate, one of the few scientists worldwide studying this syndrome. Learn more at the link in our bio!\",149.0,2.0,1205.0,1.0,3.0,805.0,747.0,null],[\"We can't deny how beautiful the winter can be, but we're ready for spring. Nice snowing you, winter! \\u2744\\ud83c\\udf3b\",40.0,31.0,3279.0,1.0,2.0,2487.0,2405.0,null],[\"Studying abroad is a transformative experience for students, but the costs associated with study abroad programming can be a barrier to their participation. Kent State is dedicated to removing this barrier via the Global Education Endowment, established so that every student, regardless of financial resources, can have a study abroad experience. Give today to change a life at the link in our bio!\",31.0,3.0,1198.0,3.0,1.0,885.0,828.0,null],[\"Did you know Kent State offers more than 200 academic opportunities in 60 countries? When students immerse themselves in new cultural and learning experiences, they return to campus transformed, with a powerful confidence, broadened perspective and desire to impact the world. Give today at the link in our bio to support students\\u2019 study abroad opportunities!\",15.0,0.0,679.0,0.0,0.0,469.0,445.0,null],[\"Flashes Give Back Week is April 15-20, and you can make a difference @kentstate  and in your local community. Sign up to volunteer by Thursday, March 14, to receive your free #FlashesGiveBack T-shirt! \\nLearn more and register at the link in our bio.\",12.0,0.0,649.0,0.0,0.0,394.0,379.0,null],[\"Save the date, Golden Flashes. Homecoming 2024 will take place on Sept. 28! Click the \\ud83d\\udd17 in bio to find out more about this year\\u2019s celebration. \\u26a1\\ufe0f #KentState #KentHC\",31.0,37.0,17578.0,2.0,8.0,null,null,null],[\"CeeJay Scott, \\u201923, took filmmaking classes at the American University in Cairo, Egypt, during his undergraduate experience. This opportunity changed his perspective as a filmmaker and inspired him to dream bigger for his future. Give today at the link in our bio to support students\\u2019 study abroad opportunities!\",34.0,5.0,2036.0,4.0,3.0,1524.0,1394.0,null],[\"Kent State has a 50-year tradition of award winning education-abroad programming, and the university\\u2019s Global Education Endowment aims to expand access to those opportunities for all students. The fund provides support to any student who aspires to study abroad, granting them a once-in-a-lifetime educational opportunity and helping alleviate financial barriers. Give today at the link in our bio!\",15.0,1.0,708.0,0.0,0.0,488.0,448.0,null],[\"Today is National Study Abroad Day! We have more than 200 programs in 60+ countries to help students gain the skills they need to be successful in the global marketplace. We created the Kent State Global Education Endowment to make study abroad experiences possible for even more students. Celebrate National Study Abroad Day with a gift to support these once-in-a-lifetime opportunities for Kent State students! Give today at the link in our bio.\",19.0,7.0,1236.0,1.0,0.0,871.0,819.0,null],[\"From April 15-20, there are more than 50 in-person and virtual opportunities for you to serve together, united in our mission of making our communities better and brighter, while inspiring others to do the same. Volunteer to make a difference for our blue and gold communities around the world! Register by Thursday, March 14, to receive a free Flashes Give Back Week T-shirt. Learn more and sign up at the link in our bio. #FlashesGiveBack\",30.0,0.0,735.0,0.0,0.0,477.0,445.0,null],[\"Students who study abroad are better prepared for a world that is increasingly interconnected and multicultural. Kent State\\u2019s global reach has expanded to six continents, with full education-abroad programming in Brazil, Czech Republic, Egypt, France, Italy, Jordan and Switzerland; study abroad partnerships in Australia, Bolivia, Japan, Rwanda, Saudi Arabia, Singapore and Uganda; and outreach centers in China and India. Learn more about global education at Kent State at the link in our bio!\",17.0,1.0,1110.0,1.0,0.0,816.0,785.0,null],[\"Our commitment to global education at Kent State isn\\u2019t just a part of our legacy \\u2013 it\\u2019s in our DNA! For 50 years, we\\u2019ve cultivated a diverse array of international education experiences, making it one of our greatest assets and core competencies. We\\u2019re dedicated to shaping global citizens and fostering cross-cultural understanding for our students. Learn more about global education at Kent State at the link in our bio!\",12.0,1.0,1413.0,1.0,1.0,931.0,898.0,null],[\"Happy Valentine\\u2019s Day! Kent State connects people, ideas and passions. Share a favorite connection you made at Kent State at the link in our bio and be entered to win a wireless phone charger or romantic prize package*!\\n\\n*Package includes a complimentary night\\u2019s stay at the KSU Hotel and Conference Center, a bottle of Kent State Ashtabula wine, wine glasses and a delicious chocolate treat from Popped!\",17.0,0.0,602.0,0.0,0.0,425.0,397.0,null],[\"In today\\u2019s fast-paced and dynamic work environment, prioritizing mental health and well-being in the workforce has never been more important. Join us on Zoom for our Career Coffee Talk Thursday, March 7, at 6 p.m. for a free lecture on the critical aspects of mental health and the significance of a healthy, supportive workplace. Register at the link in our bio!\",10.0,2.0,1060.0,0.0,1.0,711.0,654.0,null],[\"Golden Flashes, are you ready to PACK THE MACC @kentstmbb takes on The School Down the Road (Akron) in a thrilling showdown on Friday, Jan. 19, at 7 p.m. See the rivalry in person and join us for a pregame alumni reception, then cheer on our Golden Flashes to victory! Get your tickets now at the link in our bio!\",16.0,0.0,996.0,0.0,0.0,639.0,607.0,null],[\"The first female president of any public college or university in Ohio was Carol Cartwright, Ph.D., who became @[100064762298417:2048:Kent State University]\\u2019s first female president in 1991. She was passionate about eliminating barriers for aspiring college students and decreasing gender inequities in programming, athletics and other areas at the university level. Learn more: www.kent.edu\\u002fforeverbrighter\\u002fnews\\u002fcelebrating-ksus-first-female-president\",45.0,8.0,null,9.0,null,null,null,119.0],[\"Aleisha Moore, Ph.D., is exploring how the brain can influence hormones and fertility. One area of research for Moore is Polycystic Ovary Syndrome (PCOS), a condition that affects nearly 10% of women. Despite the prevalence and seriousness of PCOS, the funding for research into this disease is scarce, making Moore, assistant professor in the Department of Biological Sciences @[100064762298417:2048:Kent State University], one of the few scientists worldwide studying this syndrome. Learn more: www.kent.edu\\u002fforeverbrighter\\u002fnews\\u002fchampioning-place-women-science\",149.0,1.0,null,0.0,null,null,null,16.0],[\"We can't deny how beautiful the winter can be, but we're ready for spring. Nice snowing you, winter! \\u2744\\ud83c\\udf3b\",41.0,39.0,null,41.0,null,null,null,321.0],[\"Studying abroad is a transformative experience for students, but the costs associated with study abroad programming can be a barrier to their participation. Kent State is dedicated to removing this barrier via the Global Education Endowment, established so that every student, regardless of financial resources, can have a study abroad experience. Give today to change a life: https:\\u002f\\u002fflashes.info\\u002fkentstateglobaled24\",31.0,0.0,null,1.0,null,null,null,6.0],[\"Did you know Kent State offers more than 200 academic opportunities in 60 countries? When students immerse themselves in new cultural and learning experiences, they return to campus transformed, with a powerful confidence, broadened perspective and desire to impact the world. Give today to support students\\u2019 study abroad opportunities: https:\\u002f\\u002fflashes.info\\u002fkentstateglobaled24\",15.0,0.0,null,0.0,null,null,null,8.0],[\"Flashes Give Back Week is April 15-20, and you can make a difference at @[100064762298417:2048:Kent State University] and in your local community. Sign up to volunteer by Thursday, March 14, to receive your free #FlashesGiveBack T-shirt! \\nLearn more and register: https:\\u002f\\u002fflashes.info\\u002fflashesgiveback\",13.0,3.0,null,0.0,null,null,null,9.0],[\"BLUE AND GOLD ANNOUNCEMENT! Homecoming is Sept. 28! Save the date and plan to bring your family and friends home for a weekend of reminiscing, excitement and Golden Flash pride as Kent State Football takes on the Eastern Michigan Eagles. Stay tuned for more details! www.kent.edu\\u002falumni\\u002fhomecoming #KentHC #FlashesForever\",32.0,7.0,null,0.0,null,null,null,24.0],[\"CeeJay Scott, \\u201923, took filmmaking classes at the American University in Cairo, Egypt, during his undergraduate experience. This opportunity changed his perspective as a filmmaker and inspired him to dream bigger for his future. Give today to support students\\u2019 study abroad opportunities: https:\\u002f\\u002fflashes.info\\u002fkentstateglobaled24\",35.0,2.0,null,0.0,null,null,null,15.0],[\"Kent State has a 50-year tradition of award winning education-abroad programming, and the university\\u2019s Global Education Endowment aims to expand access to those opportunities for all students. The fund provides support to any student who aspires to study abroad, granting them a once-in-a-lifetime educational opportunity and helping alleviate financial barriers. Give today to support education abroad for Kent State students: https:\\u002f\\u002fflashes.info\\u002fkentstateglobaled24\",16.0,0.0,null,0.0,null,null,null,11.0],[\"Today is National Study Abroad Day! We have more than 200 programs in 60+ countries to help students gain the skills they need to be successful in the global marketplace. We created the Kent State Global Education Endowment to make study abroad experiences possible for even more students. Celebrate National Study Abroad Day with a gift to support these once-in-a-lifetime opportunities for Kent State students! Give today: https:\\u002f\\u002fflashes.info\\u002fkentstateglobaled24\",19.0,0.0,null,0.0,null,null,null,11.0],[\"From April 15-20, there are more than 50 in-person and virtual opportunities for you to serve together, united in our mission of making our communities better and brighter, while inspiring others to do the same. Volunteer to make a difference for our blue and gold communities around the world! Register by Thursday, March 14, to receive a free Flashes Give Back Week T-shirt. Learn more and sign up: https:\\u002f\\u002fflashes.info\\u002fflashesgivebackweek #FlashesGiveBack\",31.0,3.0,null,0.0,null,null,null,11.0],[\"Students who study abroad are better prepared for a world that is increasingly interconnected and multicultural. Kent State\\u2019s global reach has expanded to six continents, with full education-abroad programming in Brazil, Czech Republic, Egypt, France, Italy, Jordan and Switzerland; study abroad partnerships in Australia, Bolivia, Japan, Rwanda, Saudi Arabia, Singapore and Uganda; and outreach centers in China and India. Learn more about global education at Kent State: www.kent.edu\\u002fforeverbrighter\\u002fglobal-education\",17.0,1.0,null,4.0,null,null,null,24.0],[\"Our commitment to global education at Kent State isn\\u2019t just a part of our legacy \\u2013 it\\u2019s in our DNA! For 50 years, we\\u2019ve cultivated a diverse array of international education experiences, making it one of our greatest assets and core competencies. We\\u2019re dedicated to shaping global citizens and fostering cross-cultural understanding for our students. Learn more about global education at Kent State: https:\\u002f\\u002fflashes.info\\u002fkentglobaleducation\",12.0,1.0,null,6.0,null,null,null,22.0],[\"Happy Valentine's Day! Kent State connects people, ideas and passions. Share a favorite connection you made at Kent State and be entered to win a wireless phone charger or romantic prize package*! https:\\u002f\\u002fflashes.info\\u002fshareyourmemory    \\n\\n*Package includes a complimentary night\\u2019s stay at the KSU Hotel and Conference Center, a bottle of Kent State Ashtabula wine, wine glasses and a delicious chocolate treat from Popped!\",17.0,0.0,null,0.0,null,null,null,4.0],[\"In today\\u2019s fast-paced and dynamic work environment, prioritizing mental health and well-being in the workforce has never been more important. Join us on Zoom for our Career Coffee Talk Thursday, March 7, at 6 p.m. for a free lecture on the critical aspects of mental health and the significance of a healthy, supportive workplace. Register on Zoom: https:\\u002f\\u002fflashes.info\\u002fcoffeetalk24\\n@[100064100679747:2048:Kent State University Counseling and Psychological Services]\",10.0,0.0,null,0.0,null,null,null,2.0],[\"Golden Flashes, are you ready to PACK THE MACC? @[100062980701759:2048:Kent State Golden Flashes Men's Basketball] takes on The School Down the Road (Akron) in a thrilling showdown on Friday, Jan. 19, at 7 p.m. See the rivalry in person and join us for a pregame alumni reception, then cheer on our Golden Flashes to victory! Get your tickets now: https:\\u002f\\u002fflashes.info\\u002fpackthemacc24\",17.0,2.0,null,0.0,null,null,null,12.0]],\"hovertemplate\":\"Post type=%{x}\\u003cbr\\u003eLikes=%{y}\\u003cbr\\u003eDescription=%{customdata[0]}\\u003cbr\\u003eDuration (sec)=%{customdata[1]}\\u003cbr\\u003eShares=%{customdata[2]}\\u003cbr\\u003ePlays=%{customdata[3]}\\u003cbr\\u003eComments=%{customdata[4]}\\u003cbr\\u003eSaves=%{customdata[5]}\\u003cbr\\u003eImpressions=%{customdata[6]}\\u003cbr\\u003eReach=%{customdata[7]}\\u003cbr\\u003eReactions=%{customdata[8]}\\u003cextra\\u003e\\u003c\\u002fextra\\u003e\",\"legendgroup\":\"video\",\"marker\":{\"color\":\"#EF553B\"},\"name\":\"video\",\"offsetgroup\":\"video\",\"orientation\":\"v\",\"points\":\"all\",\"scalegroup\":\"True\",\"showlegend\":true,\"x\":[\"video\",\"video\",\"video\",\"video\",\"video\",\"video\",\"video\",\"video\",\"video\",\"video\",\"video\",\"video\",\"video\",\"video\",\"video\",\"video\",\"video\",\"video\",\"video\",\"video\",\"video\",\"video\",\"video\",\"video\",\"video\",\"video\",\"video\",\"video\",\"video\",\"video\",\"video\",\"video\"],\"x0\":\" \",\"xaxis\":\"x\",\"y\":[308.0,23.0,231.0,51.0,21.0,9.0,632.0,75.0,25.0,42.0,19.0,28.0,41.0,20.0,26.0,24.0,null,null,null,null,null,null,null,null,null,null,null,null,null,null,null,null],\"y0\":\" \",\"yaxis\":\"y\",\"type\":\"violin\"}],                        {\"template\":{\"data\":{\"histogram2dcontour\":[{\"type\":\"histogram2dcontour\",\"colorbar\":{\"outlinewidth\":0,\"ticks\":\"\"},\"colorscale\":[[0.0,\"#0d0887\"],[0.1111111111111111,\"#46039f\"],[0.2222222222222222,\"#7201a8\"],[0.3333333333333333,\"#9c179e\"],[0.4444444444444444,\"#bd3786\"],[0.5555555555555556,\"#d8576b\"],[0.6666666666666666,\"#ed7953\"],[0.7777777777777778,\"#fb9f3a\"],[0.8888888888888888,\"#fdca26\"],[1.0,\"#f0f921\"]]}],\"choropleth\":[{\"type\":\"choropleth\",\"colorbar\":{\"outlinewidth\":0,\"ticks\":\"\"}}],\"histogram2d\":[{\"type\":\"histogram2d\",\"colorbar\":{\"outlinewidth\":0,\"ticks\":\"\"},\"colorscale\":[[0.0,\"#0d0887\"],[0.1111111111111111,\"#46039f\"],[0.2222222222222222,\"#7201a8\"],[0.3333333333333333,\"#9c179e\"],[0.4444444444444444,\"#bd3786\"],[0.5555555555555556,\"#d8576b\"],[0.6666666666666666,\"#ed7953\"],[0.7777777777777778,\"#fb9f3a\"],[0.8888888888888888,\"#fdca26\"],[1.0,\"#f0f921\"]]}],\"heatmap\":[{\"type\":\"heatmap\",\"colorbar\":{\"outlinewidth\":0,\"ticks\":\"\"},\"colorscale\":[[0.0,\"#0d0887\"],[0.1111111111111111,\"#46039f\"],[0.2222222222222222,\"#7201a8\"],[0.3333333333333333,\"#9c179e\"],[0.4444444444444444,\"#bd3786\"],[0.5555555555555556,\"#d8576b\"],[0.6666666666666666,\"#ed7953\"],[0.7777777777777778,\"#fb9f3a\"],[0.8888888888888888,\"#fdca26\"],[1.0,\"#f0f921\"]]}],\"heatmapgl\":[{\"type\":\"heatmapgl\",\"colorbar\":{\"outlinewidth\":0,\"ticks\":\"\"},\"colorscale\":[[0.0,\"#0d0887\"],[0.1111111111111111,\"#46039f\"],[0.2222222222222222,\"#7201a8\"],[0.3333333333333333,\"#9c179e\"],[0.4444444444444444,\"#bd3786\"],[0.5555555555555556,\"#d8576b\"],[0.6666666666666666,\"#ed7953\"],[0.7777777777777778,\"#fb9f3a\"],[0.8888888888888888,\"#fdca26\"],[1.0,\"#f0f921\"]]}],\"contourcarpet\":[{\"type\":\"contourcarpet\",\"colorbar\":{\"outlinewidth\":0,\"ticks\":\"\"}}],\"contour\":[{\"type\":\"contour\",\"colorbar\":{\"outlinewidth\":0,\"ticks\":\"\"},\"colorscale\":[[0.0,\"#0d0887\"],[0.1111111111111111,\"#46039f\"],[0.2222222222222222,\"#7201a8\"],[0.3333333333333333,\"#9c179e\"],[0.4444444444444444,\"#bd3786\"],[0.5555555555555556,\"#d8576b\"],[0.6666666666666666,\"#ed7953\"],[0.7777777777777778,\"#fb9f3a\"],[0.8888888888888888,\"#fdca26\"],[1.0,\"#f0f921\"]]}],\"surface\":[{\"type\":\"surface\",\"colorbar\":{\"outlinewidth\":0,\"ticks\":\"\"},\"colorscale\":[[0.0,\"#0d0887\"],[0.1111111111111111,\"#46039f\"],[0.2222222222222222,\"#7201a8\"],[0.3333333333333333,\"#9c179e\"],[0.4444444444444444,\"#bd3786\"],[0.5555555555555556,\"#d8576b\"],[0.6666666666666666,\"#ed7953\"],[0.7777777777777778,\"#fb9f3a\"],[0.8888888888888888,\"#fdca26\"],[1.0,\"#f0f921\"]]}],\"mesh3d\":[{\"type\":\"mesh3d\",\"colorbar\":{\"outlinewidth\":0,\"ticks\":\"\"}}],\"scatter\":[{\"fillpattern\":{\"fillmode\":\"overlay\",\"size\":10,\"solidity\":0.2},\"type\":\"scatter\"}],\"parcoords\":[{\"type\":\"parcoords\",\"line\":{\"colorbar\":{\"outlinewidth\":0,\"ticks\":\"\"}}}],\"scatterpolargl\":[{\"type\":\"scatterpolargl\",\"marker\":{\"colorbar\":{\"outlinewidth\":0,\"ticks\":\"\"}}}],\"bar\":[{\"error_x\":{\"color\":\"#2a3f5f\"},\"error_y\":{\"color\":\"#2a3f5f\"},\"marker\":{\"line\":{\"color\":\"#E5ECF6\",\"width\":0.5},\"pattern\":{\"fillmode\":\"overlay\",\"size\":10,\"solidity\":0.2}},\"type\":\"bar\"}],\"scattergeo\":[{\"type\":\"scattergeo\",\"marker\":{\"colorbar\":{\"outlinewidth\":0,\"ticks\":\"\"}}}],\"scatterpolar\":[{\"type\":\"scatterpolar\",\"marker\":{\"colorbar\":{\"outlinewidth\":0,\"ticks\":\"\"}}}],\"histogram\":[{\"marker\":{\"pattern\":{\"fillmode\":\"overlay\",\"size\":10,\"solidity\":0.2}},\"type\":\"histogram\"}],\"scattergl\":[{\"type\":\"scattergl\",\"marker\":{\"colorbar\":{\"outlinewidth\":0,\"ticks\":\"\"}}}],\"scatter3d\":[{\"type\":\"scatter3d\",\"line\":{\"colorbar\":{\"outlinewidth\":0,\"ticks\":\"\"}},\"marker\":{\"colorbar\":{\"outlinewidth\":0,\"ticks\":\"\"}}}],\"scattermapbox\":[{\"type\":\"scattermapbox\",\"marker\":{\"colorbar\":{\"outlinewidth\":0,\"ticks\":\"\"}}}],\"scatterternary\":[{\"type\":\"scatterternary\",\"marker\":{\"colorbar\":{\"outlinewidth\":0,\"ticks\":\"\"}}}],\"scattercarpet\":[{\"type\":\"scattercarpet\",\"marker\":{\"colorbar\":{\"outlinewidth\":0,\"ticks\":\"\"}}}],\"carpet\":[{\"aaxis\":{\"endlinecolor\":\"#2a3f5f\",\"gridcolor\":\"white\",\"linecolor\":\"white\",\"minorgridcolor\":\"white\",\"startlinecolor\":\"#2a3f5f\"},\"baxis\":{\"endlinecolor\":\"#2a3f5f\",\"gridcolor\":\"white\",\"linecolor\":\"white\",\"minorgridcolor\":\"white\",\"startlinecolor\":\"#2a3f5f\"},\"type\":\"carpet\"}],\"table\":[{\"cells\":{\"fill\":{\"color\":\"#EBF0F8\"},\"line\":{\"color\":\"white\"}},\"header\":{\"fill\":{\"color\":\"#C8D4E3\"},\"line\":{\"color\":\"white\"}},\"type\":\"table\"}],\"barpolar\":[{\"marker\":{\"line\":{\"color\":\"#E5ECF6\",\"width\":0.5},\"pattern\":{\"fillmode\":\"overlay\",\"size\":10,\"solidity\":0.2}},\"type\":\"barpolar\"}],\"pie\":[{\"automargin\":true,\"type\":\"pie\"}]},\"layout\":{\"autotypenumbers\":\"strict\",\"colorway\":[\"#636efa\",\"#EF553B\",\"#00cc96\",\"#ab63fa\",\"#FFA15A\",\"#19d3f3\",\"#FF6692\",\"#B6E880\",\"#FF97FF\",\"#FECB52\"],\"font\":{\"color\":\"#2a3f5f\"},\"hovermode\":\"closest\",\"hoverlabel\":{\"align\":\"left\"},\"paper_bgcolor\":\"white\",\"plot_bgcolor\":\"#E5ECF6\",\"polar\":{\"bgcolor\":\"#E5ECF6\",\"angularaxis\":{\"gridcolor\":\"white\",\"linecolor\":\"white\",\"ticks\":\"\"},\"radialaxis\":{\"gridcolor\":\"white\",\"linecolor\":\"white\",\"ticks\":\"\"}},\"ternary\":{\"bgcolor\":\"#E5ECF6\",\"aaxis\":{\"gridcolor\":\"white\",\"linecolor\":\"white\",\"ticks\":\"\"},\"baxis\":{\"gridcolor\":\"white\",\"linecolor\":\"white\",\"ticks\":\"\"},\"caxis\":{\"gridcolor\":\"white\",\"linecolor\":\"white\",\"ticks\":\"\"}},\"coloraxis\":{\"colorbar\":{\"outlinewidth\":0,\"ticks\":\"\"}},\"colorscale\":{\"sequential\":[[0.0,\"#0d0887\"],[0.1111111111111111,\"#46039f\"],[0.2222222222222222,\"#7201a8\"],[0.3333333333333333,\"#9c179e\"],[0.4444444444444444,\"#bd3786\"],[0.5555555555555556,\"#d8576b\"],[0.6666666666666666,\"#ed7953\"],[0.7777777777777778,\"#fb9f3a\"],[0.8888888888888888,\"#fdca26\"],[1.0,\"#f0f921\"]],\"sequentialminus\":[[0.0,\"#0d0887\"],[0.1111111111111111,\"#46039f\"],[0.2222222222222222,\"#7201a8\"],[0.3333333333333333,\"#9c179e\"],[0.4444444444444444,\"#bd3786\"],[0.5555555555555556,\"#d8576b\"],[0.6666666666666666,\"#ed7953\"],[0.7777777777777778,\"#fb9f3a\"],[0.8888888888888888,\"#fdca26\"],[1.0,\"#f0f921\"]],\"diverging\":[[0,\"#8e0152\"],[0.1,\"#c51b7d\"],[0.2,\"#de77ae\"],[0.3,\"#f1b6da\"],[0.4,\"#fde0ef\"],[0.5,\"#f7f7f7\"],[0.6,\"#e6f5d0\"],[0.7,\"#b8e186\"],[0.8,\"#7fbc41\"],[0.9,\"#4d9221\"],[1,\"#276419\"]]},\"xaxis\":{\"gridcolor\":\"white\",\"linecolor\":\"white\",\"ticks\":\"\",\"title\":{\"standoff\":15},\"zerolinecolor\":\"white\",\"automargin\":true,\"zerolinewidth\":2},\"yaxis\":{\"gridcolor\":\"white\",\"linecolor\":\"white\",\"ticks\":\"\",\"title\":{\"standoff\":15},\"zerolinecolor\":\"white\",\"automargin\":true,\"zerolinewidth\":2},\"scene\":{\"xaxis\":{\"backgroundcolor\":\"#E5ECF6\",\"gridcolor\":\"white\",\"linecolor\":\"white\",\"showbackground\":true,\"ticks\":\"\",\"zerolinecolor\":\"white\",\"gridwidth\":2},\"yaxis\":{\"backgroundcolor\":\"#E5ECF6\",\"gridcolor\":\"white\",\"linecolor\":\"white\",\"showbackground\":true,\"ticks\":\"\",\"zerolinecolor\":\"white\",\"gridwidth\":2},\"zaxis\":{\"backgroundcolor\":\"#E5ECF6\",\"gridcolor\":\"white\",\"linecolor\":\"white\",\"showbackground\":true,\"ticks\":\"\",\"zerolinecolor\":\"white\",\"gridwidth\":2}},\"shapedefaults\":{\"line\":{\"color\":\"#2a3f5f\"}},\"annotationdefaults\":{\"arrowcolor\":\"#2a3f5f\",\"arrowhead\":0,\"arrowwidth\":1},\"geo\":{\"bgcolor\":\"white\",\"landcolor\":\"#E5ECF6\",\"subunitcolor\":\"white\",\"showland\":true,\"showlakes\":true,\"lakecolor\":\"white\"},\"title\":{\"x\":0.05},\"mapbox\":{\"style\":\"light\"}}},\"xaxis\":{\"anchor\":\"y\",\"domain\":[0.0,1.0],\"title\":{\"text\":\"Post type\"},\"categoryorder\":\"array\",\"categoryarray\":[\"photo\",\"video\",null]},\"yaxis\":{\"anchor\":\"x\",\"domain\":[0.0,1.0],\"title\":{\"text\":\"Likes\"}},\"legend\":{\"title\":{\"text\":\"Post type\"},\"tracegroupgap\":0},\"title\":{\"text\":\"Likes by Post Type\"},\"violinmode\":\"overlay\"},                        {\"responsive\": true}                    ).then(function(){\n",
       "                            \n",
       "var gd = document.getElementById('37d36af0-1d53-433d-80dc-1e54b001309a');\n",
       "var x = new MutationObserver(function (mutations, observer) {{\n",
       "        var display = window.getComputedStyle(gd).display;\n",
       "        if (!display || display === 'none') {{\n",
       "            console.log([gd, 'removed!']);\n",
       "            Plotly.purge(gd);\n",
       "            observer.disconnect();\n",
       "        }}\n",
       "}});\n",
       "\n",
       "// Listen for the removal of the full notebook cells\n",
       "var notebookContainer = gd.closest('#notebook-container');\n",
       "if (notebookContainer) {{\n",
       "    x.observe(notebookContainer, {childList: true});\n",
       "}}\n",
       "\n",
       "// Listen for the clearing of the current output cell\n",
       "var outputEl = gd.closest('.output');\n",
       "if (outputEl) {{\n",
       "    x.observe(outputEl, {childList: true});\n",
       "}}\n",
       "\n",
       "                        })                };                });            </script>        </div>"
      ]
     },
     "metadata": {},
     "output_type": "display_data"
    }
   ],
   "source": [
    "fig = px.violin(combined_data, x ='Post type', y ='Likes', color = 'Post type', box = True,\n",
    "                points = \"all\", hover_data = combined_data.columns,\n",
    "                title = 'Likes by Post Type')\n",
    "fig.show()"
   ]
  },
  {
   "cell_type": "code",
   "execution_count": null,
   "id": "a1b3a68d",
   "metadata": {},
   "outputs": [],
   "source": []
  }
 ],
 "metadata": {
  "kernelspec": {
   "display_name": "Python 3 (ipykernel)",
   "language": "python",
   "name": "python3"
  },
  "language_info": {
   "codemirror_mode": {
    "name": "ipython",
    "version": 3
   },
   "file_extension": ".py",
   "mimetype": "text/x-python",
   "name": "python",
   "nbconvert_exporter": "python",
   "pygments_lexer": "ipython3",
   "version": "3.11.5"
  }
 },
 "nbformat": 4,
 "nbformat_minor": 5
}
